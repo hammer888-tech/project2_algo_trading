{
 "cells": [
  {
   "cell_type": "code",
   "execution_count": 1,
   "metadata": {},
   "outputs": [
    {
     "name": "stdout",
     "output_type": "stream",
     "text": [
      "Requirement already satisfied: krakenex in c:\\users\\15159\\anaconda3\\envs\\mlenv\\lib\\site-packages (2.1.0)\n",
      "Requirement already satisfied: requests<3,>=2.18.2 in c:\\users\\15159\\anaconda3\\envs\\mlenv\\lib\\site-packages (from krakenex) (2.25.1)\n",
      "Requirement already satisfied: certifi>=2017.4.17 in c:\\users\\15159\\anaconda3\\envs\\mlenv\\lib\\site-packages (from requests<3,>=2.18.2->krakenex) (2020.12.5)\n",
      "Requirement already satisfied: idna<3,>=2.5 in c:\\users\\15159\\anaconda3\\envs\\mlenv\\lib\\site-packages (from requests<3,>=2.18.2->krakenex) (2.10)\n",
      "Requirement already satisfied: chardet<5,>=3.0.2 in c:\\users\\15159\\anaconda3\\envs\\mlenv\\lib\\site-packages (from requests<3,>=2.18.2->krakenex) (3.0.4)\n",
      "Requirement already satisfied: urllib3<1.27,>=1.21.1 in c:\\users\\15159\\anaconda3\\envs\\mlenv\\lib\\site-packages (from requests<3,>=2.18.2->krakenex) (1.26.4)\n"
     ]
    }
   ],
   "source": [
    "!pip install krakenex"
   ]
  },
  {
   "cell_type": "code",
   "execution_count": 2,
   "metadata": {},
   "outputs": [
    {
     "name": "stdout",
     "output_type": "stream",
     "text": [
      "Requirement already satisfied: pykrakenapi in c:\\users\\15159\\anaconda3\\envs\\mlenv\\lib\\site-packages (0.2.1)\n",
      "Requirement already satisfied: pandas in c:\\users\\15159\\anaconda3\\envs\\mlenv\\lib\\site-packages (from pykrakenapi) (1.1.3)\n",
      "Requirement already satisfied: krakenex>=2.0.0 in c:\\users\\15159\\anaconda3\\envs\\mlenv\\lib\\site-packages (from pykrakenapi) (2.1.0)\n",
      "Requirement already satisfied: numpy>=1.15.4 in c:\\users\\15159\\anaconda3\\envs\\mlenv\\lib\\site-packages (from pandas->pykrakenapi) (1.19.5)\n",
      "Requirement already satisfied: python-dateutil>=2.7.3 in c:\\users\\15159\\anaconda3\\envs\\mlenv\\lib\\site-packages (from pandas->pykrakenapi) (2.8.1)\n",
      "Requirement already satisfied: pytz>=2017.2 in c:\\users\\15159\\anaconda3\\envs\\mlenv\\lib\\site-packages (from pandas->pykrakenapi) (2020.1)\n",
      "Requirement already satisfied: requests<3,>=2.18.2 in c:\\users\\15159\\anaconda3\\envs\\mlenv\\lib\\site-packages (from krakenex>=2.0.0->pykrakenapi) (2.25.1)\n",
      "Requirement already satisfied: six>=1.5 in c:\\users\\15159\\anaconda3\\envs\\mlenv\\lib\\site-packages (from python-dateutil>=2.7.3->pandas->pykrakenapi) (1.15.0)\n",
      "Requirement already satisfied: urllib3<1.27,>=1.21.1 in c:\\users\\15159\\anaconda3\\envs\\mlenv\\lib\\site-packages (from requests<3,>=2.18.2->krakenex>=2.0.0->pykrakenapi) (1.26.4)\n",
      "Requirement already satisfied: chardet<5,>=3.0.2 in c:\\users\\15159\\anaconda3\\envs\\mlenv\\lib\\site-packages (from requests<3,>=2.18.2->krakenex>=2.0.0->pykrakenapi) (3.0.4)\n",
      "Requirement already satisfied: certifi>=2017.4.17 in c:\\users\\15159\\anaconda3\\envs\\mlenv\\lib\\site-packages (from requests<3,>=2.18.2->krakenex>=2.0.0->pykrakenapi) (2020.12.5)\n",
      "Requirement already satisfied: idna<3,>=2.5 in c:\\users\\15159\\anaconda3\\envs\\mlenv\\lib\\site-packages (from requests<3,>=2.18.2->krakenex>=2.0.0->pykrakenapi) (2.10)\n"
     ]
    }
   ],
   "source": [
    "!pip install pykrakenapi"
   ]
  },
  {
   "cell_type": "code",
   "execution_count": 3,
   "metadata": {},
   "outputs": [],
   "source": [
    "import krakenex \n",
    "from pykrakenapi import KrakenAPI\n",
    "import sys\n",
    "import time\n",
    "import urllib.request\n",
    "import json\n",
    "import requests\n",
    "import pandas as pd\n",
    "import numpy as np \n",
    "from sklearn.ensemble import RandomForestClassifier\n",
    "from sklearn.preprocessing import StandardScaler\n",
    "from sklearn.model_selection import train_test_split\n",
    "from sklearn.metrics import confusion_matrix, accuracy_score, classification_report"
   ]
  },
  {
   "cell_type": "code",
   "execution_count": 4,
   "metadata": {},
   "outputs": [],
   "source": [
    "api = krakenex.API()\n",
    "k = KrakenAPI(api)"
   ]
  },
  {
   "cell_type": "code",
   "execution_count": 5,
   "metadata": {},
   "outputs": [
    {
     "name": "stdout",
     "output_type": "stream",
     "text": [
      "(                           time     open     high      low    close     vwap  \\\n",
      "dtime                                                                          \n",
      "2021-06-07 16:31:00  1623083460  35785.7  35808.4  35785.7  35808.4  35798.6   \n",
      "2021-06-07 16:30:00  1623083400  35808.3  35808.3  35774.7  35785.5  35785.2   \n",
      "2021-06-07 16:29:00  1623083340  35832.0  35832.0  35787.2  35807.5  35817.5   \n",
      "2021-06-07 16:28:00  1623083280  35816.9  35867.1  35764.2  35839.3  35812.5   \n",
      "2021-06-07 16:27:00  1623083220  35796.2  35824.0  35790.9  35824.0  35812.3   \n",
      "...                         ...      ...      ...      ...      ...      ...   \n",
      "2021-06-07 04:36:00  1623040560  36357.5  36357.5  36328.4  36338.0  36351.5   \n",
      "2021-06-07 04:35:00  1623040500  36348.3  36359.2  36348.3  36359.2  36355.7   \n",
      "2021-06-07 04:34:00  1623040440  36299.9  36348.3  36299.9  36348.3  36337.9   \n",
      "2021-06-07 04:33:00  1623040380  36285.7  36299.5  36285.7  36299.5  36294.7   \n",
      "2021-06-07 04:32:00  1623040320  36274.3  36274.3  36274.2  36274.2  36274.2   \n",
      "\n",
      "                        volume  count  \n",
      "dtime                                  \n",
      "2021-06-07 16:31:00   1.743815     20  \n",
      "2021-06-07 16:30:00   9.384329     53  \n",
      "2021-06-07 16:29:00   6.971707     44  \n",
      "2021-06-07 16:28:00   4.999358     55  \n",
      "2021-06-07 16:27:00  16.885527     53  \n",
      "...                        ...    ...  \n",
      "2021-06-07 04:36:00   0.581733     14  \n",
      "2021-06-07 04:35:00   0.041642      5  \n",
      "2021-06-07 04:34:00   0.990324     13  \n",
      "2021-06-07 04:33:00   0.608801     12  \n",
      "2021-06-07 04:32:00   0.011614      3  \n",
      "\n",
      "[720 rows x 8 columns], 1623083400)\n"
     ]
    }
   ],
   "source": [
    "ohlc = k.get_ohlc_data(\"BTCUSD\")\n",
    "print(ohlc)"
   ]
  },
  {
   "cell_type": "code",
   "execution_count": 6,
   "metadata": {},
   "outputs": [],
   "source": [
    "def fetch_OHLC_data(symbol, timeframe):\n",
    "    pair_split = symbol.split('/')\n",
    "    symbol = pair_split[0] + pair_split[1]\n",
    "    url = f'https://api.kraken.com/0/public/OHLC?pair={symbol}&interval={timeframe}'\n",
    "    response = requests.get(url)\n",
    "    if response.status_code == 200: \n",
    "        j = json.loads(response.text)\n",
    "        result = j['result']\n",
    "        keys = []\n",
    "        for item in result:\n",
    "            keys.append(item)\n",
    "        if keys[0] != 'last':\n",
    "            data = pd.DataFrame(result[keys[0]],\n",
    "                                columns=['unix', 'open', 'high', 'low', 'close', 'vwap', 'volume', 'tradecount'])\n",
    "        else:\n",
    "            data = pd.DataFrame(result[keys[1]],\n",
    "                                columns=['unix', 'open', 'high', 'low', 'close', 'vwap', 'volume', 'tradecount'])\n",
    "\n",
    "        data['date'] = pd.to_datetime(data['unix'], unit='s')\n",
    "        data['volume_from'] = data['volume'].astype(float) * data['close'].astype(float)\n",
    "    return data"
   ]
  },
  {
   "cell_type": "code",
   "execution_count": 7,
   "metadata": {},
   "outputs": [
    {
     "data": {
      "text/html": [
       "<div>\n",
       "<style scoped>\n",
       "    .dataframe tbody tr th:only-of-type {\n",
       "        vertical-align: middle;\n",
       "    }\n",
       "\n",
       "    .dataframe tbody tr th {\n",
       "        vertical-align: top;\n",
       "    }\n",
       "\n",
       "    .dataframe thead th {\n",
       "        text-align: right;\n",
       "    }\n",
       "</style>\n",
       "<table border=\"1\" class=\"dataframe\">\n",
       "  <thead>\n",
       "    <tr style=\"text-align: right;\">\n",
       "      <th></th>\n",
       "      <th>close</th>\n",
       "    </tr>\n",
       "    <tr>\n",
       "      <th>date</th>\n",
       "      <th></th>\n",
       "    </tr>\n",
       "  </thead>\n",
       "  <tbody>\n",
       "    <tr>\n",
       "      <th>2019-06-19</th>\n",
       "      <td>9277.1</td>\n",
       "    </tr>\n",
       "    <tr>\n",
       "      <th>2019-06-20</th>\n",
       "      <td>9534.3</td>\n",
       "    </tr>\n",
       "    <tr>\n",
       "      <th>2019-06-21</th>\n",
       "      <td>10219.2</td>\n",
       "    </tr>\n",
       "    <tr>\n",
       "      <th>2019-06-22</th>\n",
       "      <td>10663.8</td>\n",
       "    </tr>\n",
       "    <tr>\n",
       "      <th>2019-06-23</th>\n",
       "      <td>10814.1</td>\n",
       "    </tr>\n",
       "    <tr>\n",
       "      <th>...</th>\n",
       "      <td>...</td>\n",
       "    </tr>\n",
       "    <tr>\n",
       "      <th>2021-06-03</th>\n",
       "      <td>39196.6</td>\n",
       "    </tr>\n",
       "    <tr>\n",
       "      <th>2021-06-04</th>\n",
       "      <td>36847.7</td>\n",
       "    </tr>\n",
       "    <tr>\n",
       "      <th>2021-06-05</th>\n",
       "      <td>35534.6</td>\n",
       "    </tr>\n",
       "    <tr>\n",
       "      <th>2021-06-06</th>\n",
       "      <td>35789.0</td>\n",
       "    </tr>\n",
       "    <tr>\n",
       "      <th>2021-06-07</th>\n",
       "      <td>35785.5</td>\n",
       "    </tr>\n",
       "  </tbody>\n",
       "</table>\n",
       "<p>720 rows × 1 columns</p>\n",
       "</div>"
      ],
      "text/plain": [
       "              close\n",
       "date               \n",
       "2019-06-19   9277.1\n",
       "2019-06-20   9534.3\n",
       "2019-06-21  10219.2\n",
       "2019-06-22  10663.8\n",
       "2019-06-23  10814.1\n",
       "...             ...\n",
       "2021-06-03  39196.6\n",
       "2021-06-04  36847.7\n",
       "2021-06-05  35534.6\n",
       "2021-06-06  35789.0\n",
       "2021-06-07  35785.5\n",
       "\n",
       "[720 rows x 1 columns]"
      ]
     },
     "execution_count": 7,
     "metadata": {},
     "output_type": "execute_result"
    }
   ],
   "source": [
    "btc = fetch_OHLC_data(symbol=\"BTC/USD\", timeframe=\"1440\")\n",
    "btc = btc.drop(columns=[\"unix\", \"open\", \"high\", \"low\", \"vwap\", \"volume\", \"tradecount\", \"volume_from\"])\n",
    "btc = btc.set_index(\"date\")\n",
    "btc"
   ]
  },
  {
   "cell_type": "code",
   "execution_count": 8,
   "metadata": {},
   "outputs": [
    {
     "data": {
      "text/html": [
       "<div>\n",
       "<style scoped>\n",
       "    .dataframe tbody tr th:only-of-type {\n",
       "        vertical-align: middle;\n",
       "    }\n",
       "\n",
       "    .dataframe tbody tr th {\n",
       "        vertical-align: top;\n",
       "    }\n",
       "\n",
       "    .dataframe thead th {\n",
       "        text-align: right;\n",
       "    }\n",
       "</style>\n",
       "<table border=\"1\" class=\"dataframe\">\n",
       "  <thead>\n",
       "    <tr style=\"text-align: right;\">\n",
       "      <th></th>\n",
       "      <th>close</th>\n",
       "      <th>returns</th>\n",
       "      <th>change_in_price</th>\n",
       "    </tr>\n",
       "    <tr>\n",
       "      <th>date</th>\n",
       "      <th></th>\n",
       "      <th></th>\n",
       "      <th></th>\n",
       "    </tr>\n",
       "  </thead>\n",
       "  <tbody>\n",
       "    <tr>\n",
       "      <th>2019-06-20</th>\n",
       "      <td>9534.3</td>\n",
       "      <td>0.027724</td>\n",
       "      <td>1</td>\n",
       "    </tr>\n",
       "    <tr>\n",
       "      <th>2019-06-21</th>\n",
       "      <td>10219.2</td>\n",
       "      <td>0.071835</td>\n",
       "      <td>1</td>\n",
       "    </tr>\n",
       "    <tr>\n",
       "      <th>2019-06-22</th>\n",
       "      <td>10663.8</td>\n",
       "      <td>0.043506</td>\n",
       "      <td>1</td>\n",
       "    </tr>\n",
       "    <tr>\n",
       "      <th>2019-06-23</th>\n",
       "      <td>10814.1</td>\n",
       "      <td>0.014094</td>\n",
       "      <td>1</td>\n",
       "    </tr>\n",
       "    <tr>\n",
       "      <th>2019-06-24</th>\n",
       "      <td>11020.6</td>\n",
       "      <td>0.019095</td>\n",
       "      <td>1</td>\n",
       "    </tr>\n",
       "    <tr>\n",
       "      <th>...</th>\n",
       "      <td>...</td>\n",
       "      <td>...</td>\n",
       "      <td>...</td>\n",
       "    </tr>\n",
       "    <tr>\n",
       "      <th>2021-06-03</th>\n",
       "      <td>39196.6</td>\n",
       "      <td>0.043426</td>\n",
       "      <td>1</td>\n",
       "    </tr>\n",
       "    <tr>\n",
       "      <th>2021-06-04</th>\n",
       "      <td>36847.7</td>\n",
       "      <td>-0.059926</td>\n",
       "      <td>0</td>\n",
       "    </tr>\n",
       "    <tr>\n",
       "      <th>2021-06-05</th>\n",
       "      <td>35534.6</td>\n",
       "      <td>-0.035636</td>\n",
       "      <td>0</td>\n",
       "    </tr>\n",
       "    <tr>\n",
       "      <th>2021-06-06</th>\n",
       "      <td>35789.0</td>\n",
       "      <td>0.007159</td>\n",
       "      <td>1</td>\n",
       "    </tr>\n",
       "    <tr>\n",
       "      <th>2021-06-07</th>\n",
       "      <td>35785.5</td>\n",
       "      <td>-0.000098</td>\n",
       "      <td>0</td>\n",
       "    </tr>\n",
       "  </tbody>\n",
       "</table>\n",
       "<p>719 rows × 3 columns</p>\n",
       "</div>"
      ],
      "text/plain": [
       "              close   returns  change_in_price\n",
       "date                                          \n",
       "2019-06-20   9534.3  0.027724                1\n",
       "2019-06-21  10219.2  0.071835                1\n",
       "2019-06-22  10663.8  0.043506                1\n",
       "2019-06-23  10814.1  0.014094                1\n",
       "2019-06-24  11020.6  0.019095                1\n",
       "...             ...       ...              ...\n",
       "2021-06-03  39196.6  0.043426                1\n",
       "2021-06-04  36847.7 -0.059926                0\n",
       "2021-06-05  35534.6 -0.035636                0\n",
       "2021-06-06  35789.0  0.007159                1\n",
       "2021-06-07  35785.5 -0.000098                0\n",
       "\n",
       "[719 rows x 3 columns]"
      ]
     },
     "execution_count": 8,
     "metadata": {},
     "output_type": "execute_result"
    }
   ],
   "source": [
    "\n",
    "btc['close'] = btc['close'].astype(float)\n",
    "btc['returns'] = btc.close.pct_change()\n",
    "btc['change_in_price'] = btc['returns']\n",
    "btc.change_in_price[btc.change_in_price > 0] = 1\n",
    "btc.change_in_price[btc.change_in_price <= 0] = 0\n",
    "btc.dropna(inplace=True)\n",
    "btc['change_in_price'] = btc['change_in_price'].astype(int)\n",
    "btc"
   ]
  },
  {
   "cell_type": "code",
   "execution_count": 9,
   "metadata": {},
   "outputs": [],
   "source": [
    "def generate_signals(btc):\n",
    "    \"\"\"Generates trading signals for a given dataset.\"\"\"\n",
    "    # Grab just the `date` and `close` from the IEX dataset\n",
    "    signals_df = btc.copy()\n",
    "    # Set the short window and long windows\n",
    "    short_window = 50\n",
    "    long_window = 100\n",
    "    # Generate the short and long moving averages (50 and 100 days, respectively)\n",
    "    signals_df[\"SMA50\"] = signals_df[\"close\"].rolling(window=short_window).mean()\n",
    "    signals_df[\"SMA100\"] = signals_df[\"close\"].rolling(window=long_window).mean()\n",
    "    signals_df[\"Signal\"] = 0.0\n",
    "    # Generate the trading signal 0 or 1,\n",
    "    # where 0 is when the SMA50 is under the SMA100, and\n",
    "    # where 1 is when the SMA50 is higher (or crosses over) the SMA100\n",
    "    signals_df[\"Signal\"][short_window:] = np.where(\n",
    "        signals_df[\"SMA50\"][short_window:] > signals_df[\"SMA100\"][short_window:],\n",
    "        1.0,\n",
    "        0.0,\n",
    "    )\n",
    "    # Calculate the points in time at which a position should be taken, 1 or -1\n",
    "    signals_df[\"Entry/Exit\"] = signals_df[\"Signal\"].diff()\n",
    "    return signals_df"
   ]
  },
  {
   "cell_type": "code",
   "execution_count": 10,
   "metadata": {},
   "outputs": [
    {
     "name": "stderr",
     "output_type": "stream",
     "text": [
      "C:\\Users\\15159\\anaconda3\\envs\\mlenv\\lib\\site-packages\\ipykernel_launcher.py:18: SettingWithCopyWarning: \n",
      "A value is trying to be set on a copy of a slice from a DataFrame\n",
      "\n",
      "See the caveats in the documentation: https://pandas.pydata.org/pandas-docs/stable/user_guide/indexing.html#returning-a-view-versus-a-copy\n",
      "C:\\Users\\15159\\anaconda3\\envs\\mlenv\\lib\\site-packages\\pandas\\core\\indexing.py:670: SettingWithCopyWarning: \n",
      "A value is trying to be set on a copy of a slice from a DataFrame\n",
      "\n",
      "See the caveats in the documentation: https://pandas.pydata.org/pandas-docs/stable/user_guide/indexing.html#returning-a-view-versus-a-copy\n",
      "  iloc._setitem_with_indexer(indexer, value)\n"
     ]
    },
    {
     "data": {
      "text/html": [
       "<div>\n",
       "<style scoped>\n",
       "    .dataframe tbody tr th:only-of-type {\n",
       "        vertical-align: middle;\n",
       "    }\n",
       "\n",
       "    .dataframe tbody tr th {\n",
       "        vertical-align: top;\n",
       "    }\n",
       "\n",
       "    .dataframe thead th {\n",
       "        text-align: right;\n",
       "    }\n",
       "</style>\n",
       "<table border=\"1\" class=\"dataframe\">\n",
       "  <thead>\n",
       "    <tr style=\"text-align: right;\">\n",
       "      <th></th>\n",
       "      <th>close</th>\n",
       "      <th>returns</th>\n",
       "      <th>change_in_price</th>\n",
       "      <th>SMA50</th>\n",
       "      <th>SMA100</th>\n",
       "      <th>Signal</th>\n",
       "      <th>Entry/Exit</th>\n",
       "    </tr>\n",
       "    <tr>\n",
       "      <th>date</th>\n",
       "      <th></th>\n",
       "      <th></th>\n",
       "      <th></th>\n",
       "      <th></th>\n",
       "      <th></th>\n",
       "      <th></th>\n",
       "      <th></th>\n",
       "    </tr>\n",
       "  </thead>\n",
       "  <tbody>\n",
       "    <tr>\n",
       "      <th>2021-06-03</th>\n",
       "      <td>39196.6</td>\n",
       "      <td>0.043426</td>\n",
       "      <td>1</td>\n",
       "      <td>48760.844</td>\n",
       "      <td>52013.217</td>\n",
       "      <td>0.0</td>\n",
       "      <td>0.0</td>\n",
       "    </tr>\n",
       "    <tr>\n",
       "      <th>2021-06-04</th>\n",
       "      <td>36847.7</td>\n",
       "      <td>-0.059926</td>\n",
       "      <td>0</td>\n",
       "      <td>48232.938</td>\n",
       "      <td>51884.417</td>\n",
       "      <td>0.0</td>\n",
       "      <td>0.0</td>\n",
       "    </tr>\n",
       "    <tr>\n",
       "      <th>2021-06-05</th>\n",
       "      <td>35534.6</td>\n",
       "      <td>-0.035636</td>\n",
       "      <td>0</td>\n",
       "      <td>47714.530</td>\n",
       "      <td>51769.148</td>\n",
       "      <td>0.0</td>\n",
       "      <td>0.0</td>\n",
       "    </tr>\n",
       "    <tr>\n",
       "      <th>2021-06-06</th>\n",
       "      <td>35789.0</td>\n",
       "      <td>0.007159</td>\n",
       "      <td>1</td>\n",
       "      <td>47228.606</td>\n",
       "      <td>51663.893</td>\n",
       "      <td>0.0</td>\n",
       "      <td>0.0</td>\n",
       "    </tr>\n",
       "    <tr>\n",
       "      <th>2021-06-07</th>\n",
       "      <td>35785.5</td>\n",
       "      <td>-0.000098</td>\n",
       "      <td>0</td>\n",
       "      <td>46819.520</td>\n",
       "      <td>51560.046</td>\n",
       "      <td>0.0</td>\n",
       "      <td>0.0</td>\n",
       "    </tr>\n",
       "  </tbody>\n",
       "</table>\n",
       "</div>"
      ],
      "text/plain": [
       "              close   returns  change_in_price      SMA50     SMA100  Signal  \\\n",
       "date                                                                           \n",
       "2021-06-03  39196.6  0.043426                1  48760.844  52013.217     0.0   \n",
       "2021-06-04  36847.7 -0.059926                0  48232.938  51884.417     0.0   \n",
       "2021-06-05  35534.6 -0.035636                0  47714.530  51769.148     0.0   \n",
       "2021-06-06  35789.0  0.007159                1  47228.606  51663.893     0.0   \n",
       "2021-06-07  35785.5 -0.000098                0  46819.520  51560.046     0.0   \n",
       "\n",
       "            Entry/Exit  \n",
       "date                    \n",
       "2021-06-03         0.0  \n",
       "2021-06-04         0.0  \n",
       "2021-06-05         0.0  \n",
       "2021-06-06         0.0  \n",
       "2021-06-07         0.0  "
      ]
     },
     "execution_count": 10,
     "metadata": {},
     "output_type": "execute_result"
    }
   ],
   "source": [
    "mov_avg = generate_signals(btc)\n",
    "mov_avg.tail()"
   ]
  },
  {
   "cell_type": "code",
   "execution_count": 11,
   "metadata": {},
   "outputs": [
    {
     "data": {
      "text/html": [
       "<div>\n",
       "<style scoped>\n",
       "    .dataframe tbody tr th:only-of-type {\n",
       "        vertical-align: middle;\n",
       "    }\n",
       "\n",
       "    .dataframe tbody tr th {\n",
       "        vertical-align: top;\n",
       "    }\n",
       "\n",
       "    .dataframe thead th {\n",
       "        text-align: right;\n",
       "    }\n",
       "</style>\n",
       "<table border=\"1\" class=\"dataframe\">\n",
       "  <thead>\n",
       "    <tr style=\"text-align: right;\">\n",
       "      <th></th>\n",
       "      <th>close</th>\n",
       "      <th>returns</th>\n",
       "      <th>change_in_price</th>\n",
       "      <th>SMA50</th>\n",
       "      <th>SMA100</th>\n",
       "      <th>Signal</th>\n",
       "      <th>Entry/Exit</th>\n",
       "      <th>bollinger_mid_band</th>\n",
       "      <th>bollinger_std</th>\n",
       "      <th>bollinger_upper_band</th>\n",
       "      <th>bollinger_lower_band</th>\n",
       "    </tr>\n",
       "    <tr>\n",
       "      <th>date</th>\n",
       "      <th></th>\n",
       "      <th></th>\n",
       "      <th></th>\n",
       "      <th></th>\n",
       "      <th></th>\n",
       "      <th></th>\n",
       "      <th></th>\n",
       "      <th></th>\n",
       "      <th></th>\n",
       "      <th></th>\n",
       "      <th></th>\n",
       "    </tr>\n",
       "  </thead>\n",
       "  <tbody>\n",
       "    <tr>\n",
       "      <th>2019-06-20</th>\n",
       "      <td>9534.3</td>\n",
       "      <td>0.027724</td>\n",
       "      <td>1</td>\n",
       "      <td>NaN</td>\n",
       "      <td>NaN</td>\n",
       "      <td>0.0</td>\n",
       "      <td>NaN</td>\n",
       "      <td>NaN</td>\n",
       "      <td>NaN</td>\n",
       "      <td>NaN</td>\n",
       "      <td>NaN</td>\n",
       "    </tr>\n",
       "    <tr>\n",
       "      <th>2019-06-21</th>\n",
       "      <td>10219.2</td>\n",
       "      <td>0.071835</td>\n",
       "      <td>1</td>\n",
       "      <td>NaN</td>\n",
       "      <td>NaN</td>\n",
       "      <td>0.0</td>\n",
       "      <td>0.0</td>\n",
       "      <td>NaN</td>\n",
       "      <td>NaN</td>\n",
       "      <td>NaN</td>\n",
       "      <td>NaN</td>\n",
       "    </tr>\n",
       "    <tr>\n",
       "      <th>2019-06-22</th>\n",
       "      <td>10663.8</td>\n",
       "      <td>0.043506</td>\n",
       "      <td>1</td>\n",
       "      <td>NaN</td>\n",
       "      <td>NaN</td>\n",
       "      <td>0.0</td>\n",
       "      <td>0.0</td>\n",
       "      <td>NaN</td>\n",
       "      <td>NaN</td>\n",
       "      <td>NaN</td>\n",
       "      <td>NaN</td>\n",
       "    </tr>\n",
       "    <tr>\n",
       "      <th>2019-06-23</th>\n",
       "      <td>10814.1</td>\n",
       "      <td>0.014094</td>\n",
       "      <td>1</td>\n",
       "      <td>NaN</td>\n",
       "      <td>NaN</td>\n",
       "      <td>0.0</td>\n",
       "      <td>0.0</td>\n",
       "      <td>NaN</td>\n",
       "      <td>NaN</td>\n",
       "      <td>NaN</td>\n",
       "      <td>NaN</td>\n",
       "    </tr>\n",
       "    <tr>\n",
       "      <th>2019-06-24</th>\n",
       "      <td>11020.6</td>\n",
       "      <td>0.019095</td>\n",
       "      <td>1</td>\n",
       "      <td>NaN</td>\n",
       "      <td>NaN</td>\n",
       "      <td>0.0</td>\n",
       "      <td>0.0</td>\n",
       "      <td>NaN</td>\n",
       "      <td>NaN</td>\n",
       "      <td>NaN</td>\n",
       "      <td>NaN</td>\n",
       "    </tr>\n",
       "    <tr>\n",
       "      <th>...</th>\n",
       "      <td>...</td>\n",
       "      <td>...</td>\n",
       "      <td>...</td>\n",
       "      <td>...</td>\n",
       "      <td>...</td>\n",
       "      <td>...</td>\n",
       "      <td>...</td>\n",
       "      <td>...</td>\n",
       "      <td>...</td>\n",
       "      <td>...</td>\n",
       "      <td>...</td>\n",
       "    </tr>\n",
       "    <tr>\n",
       "      <th>2021-06-03</th>\n",
       "      <td>39196.6</td>\n",
       "      <td>0.043426</td>\n",
       "      <td>1</td>\n",
       "      <td>48760.844</td>\n",
       "      <td>52013.217</td>\n",
       "      <td>0.0</td>\n",
       "      <td>0.0</td>\n",
       "      <td>38915.735</td>\n",
       "      <td>3521.755172</td>\n",
       "      <td>42437.490172</td>\n",
       "      <td>35393.979828</td>\n",
       "    </tr>\n",
       "    <tr>\n",
       "      <th>2021-06-04</th>\n",
       "      <td>36847.7</td>\n",
       "      <td>-0.059926</td>\n",
       "      <td>0</td>\n",
       "      <td>48232.938</td>\n",
       "      <td>51884.417</td>\n",
       "      <td>0.0</td>\n",
       "      <td>0.0</td>\n",
       "      <td>38419.565</td>\n",
       "      <td>3020.097127</td>\n",
       "      <td>41439.662127</td>\n",
       "      <td>35399.467873</td>\n",
       "    </tr>\n",
       "    <tr>\n",
       "      <th>2021-06-05</th>\n",
       "      <td>35534.6</td>\n",
       "      <td>-0.035636</td>\n",
       "      <td>0</td>\n",
       "      <td>47714.530</td>\n",
       "      <td>51769.148</td>\n",
       "      <td>0.0</td>\n",
       "      <td>0.0</td>\n",
       "      <td>37872.175</td>\n",
       "      <td>2412.901126</td>\n",
       "      <td>40285.076126</td>\n",
       "      <td>35459.273874</td>\n",
       "    </tr>\n",
       "    <tr>\n",
       "      <th>2021-06-06</th>\n",
       "      <td>35789.0</td>\n",
       "      <td>0.007159</td>\n",
       "      <td>1</td>\n",
       "      <td>47228.606</td>\n",
       "      <td>51663.893</td>\n",
       "      <td>0.0</td>\n",
       "      <td>0.0</td>\n",
       "      <td>37484.035</td>\n",
       "      <td>2047.953661</td>\n",
       "      <td>39531.988661</td>\n",
       "      <td>35436.081339</td>\n",
       "    </tr>\n",
       "    <tr>\n",
       "      <th>2021-06-07</th>\n",
       "      <td>35785.5</td>\n",
       "      <td>-0.000098</td>\n",
       "      <td>0</td>\n",
       "      <td>46819.520</td>\n",
       "      <td>51560.046</td>\n",
       "      <td>0.0</td>\n",
       "      <td>0.0</td>\n",
       "      <td>37128.550</td>\n",
       "      <td>1634.578531</td>\n",
       "      <td>38763.128531</td>\n",
       "      <td>35493.971469</td>\n",
       "    </tr>\n",
       "  </tbody>\n",
       "</table>\n",
       "<p>719 rows × 11 columns</p>\n",
       "</div>"
      ],
      "text/plain": [
       "              close   returns  change_in_price      SMA50     SMA100  Signal  \\\n",
       "date                                                                           \n",
       "2019-06-20   9534.3  0.027724                1        NaN        NaN     0.0   \n",
       "2019-06-21  10219.2  0.071835                1        NaN        NaN     0.0   \n",
       "2019-06-22  10663.8  0.043506                1        NaN        NaN     0.0   \n",
       "2019-06-23  10814.1  0.014094                1        NaN        NaN     0.0   \n",
       "2019-06-24  11020.6  0.019095                1        NaN        NaN     0.0   \n",
       "...             ...       ...              ...        ...        ...     ...   \n",
       "2021-06-03  39196.6  0.043426                1  48760.844  52013.217     0.0   \n",
       "2021-06-04  36847.7 -0.059926                0  48232.938  51884.417     0.0   \n",
       "2021-06-05  35534.6 -0.035636                0  47714.530  51769.148     0.0   \n",
       "2021-06-06  35789.0  0.007159                1  47228.606  51663.893     0.0   \n",
       "2021-06-07  35785.5 -0.000098                0  46819.520  51560.046     0.0   \n",
       "\n",
       "            Entry/Exit  bollinger_mid_band  bollinger_std  \\\n",
       "date                                                        \n",
       "2019-06-20         NaN                 NaN            NaN   \n",
       "2019-06-21         0.0                 NaN            NaN   \n",
       "2019-06-22         0.0                 NaN            NaN   \n",
       "2019-06-23         0.0                 NaN            NaN   \n",
       "2019-06-24         0.0                 NaN            NaN   \n",
       "...                ...                 ...            ...   \n",
       "2021-06-03         0.0           38915.735    3521.755172   \n",
       "2021-06-04         0.0           38419.565    3020.097127   \n",
       "2021-06-05         0.0           37872.175    2412.901126   \n",
       "2021-06-06         0.0           37484.035    2047.953661   \n",
       "2021-06-07         0.0           37128.550    1634.578531   \n",
       "\n",
       "            bollinger_upper_band  bollinger_lower_band  \n",
       "date                                                    \n",
       "2019-06-20                   NaN                   NaN  \n",
       "2019-06-21                   NaN                   NaN  \n",
       "2019-06-22                   NaN                   NaN  \n",
       "2019-06-23                   NaN                   NaN  \n",
       "2019-06-24                   NaN                   NaN  \n",
       "...                          ...                   ...  \n",
       "2021-06-03          42437.490172          35393.979828  \n",
       "2021-06-04          41439.662127          35399.467873  \n",
       "2021-06-05          40285.076126          35459.273874  \n",
       "2021-06-06          39531.988661          35436.081339  \n",
       "2021-06-07          38763.128531          35493.971469  \n",
       "\n",
       "[719 rows x 11 columns]"
      ]
     },
     "execution_count": 11,
     "metadata": {},
     "output_type": "execute_result"
    }
   ],
   "source": [
    "bollinger_window = 20\n",
    "\n",
    "# Calculate rolling mean and standard deviation\n",
    "all_sig = mov_avg.copy()\n",
    "all_sig['bollinger_mid_band'] = mov_avg['close'].rolling(window=bollinger_window).mean()\n",
    "all_sig['bollinger_std'] = mov_avg['close'].rolling(window=20).std()\n",
    "\n",
    "# Calculate upper and lowers bands of bollinger band\n",
    "all_sig['bollinger_upper_band']  = all_sig['bollinger_mid_band'] + (all_sig['bollinger_std'] * 1)\n",
    "all_sig['bollinger_lower_band']  = all_sig['bollinger_mid_band'] - (all_sig['bollinger_std'] * 1)\n",
    "\n",
    "all_sig"
   ]
  },
  {
   "cell_type": "markdown",
   "metadata": {},
   "source": [
    "# Not So Accurate Random Forest"
   ]
  },
  {
   "cell_type": "code",
   "execution_count": 12,
   "metadata": {},
   "outputs": [
    {
     "data": {
      "text/html": [
       "<div>\n",
       "<style scoped>\n",
       "    .dataframe tbody tr th:only-of-type {\n",
       "        vertical-align: middle;\n",
       "    }\n",
       "\n",
       "    .dataframe tbody tr th {\n",
       "        vertical-align: top;\n",
       "    }\n",
       "\n",
       "    .dataframe thead th {\n",
       "        text-align: right;\n",
       "    }\n",
       "</style>\n",
       "<table border=\"1\" class=\"dataframe\">\n",
       "  <thead>\n",
       "    <tr style=\"text-align: right;\">\n",
       "      <th></th>\n",
       "      <th>SMA50</th>\n",
       "      <th>SMA100</th>\n",
       "      <th>Signal</th>\n",
       "      <th>Entry/Exit</th>\n",
       "      <th>bollinger_mid_band</th>\n",
       "      <th>bollinger_std</th>\n",
       "      <th>bollinger_upper_band</th>\n",
       "      <th>bollinger_lower_band</th>\n",
       "    </tr>\n",
       "    <tr>\n",
       "      <th>date</th>\n",
       "      <th></th>\n",
       "      <th></th>\n",
       "      <th></th>\n",
       "      <th></th>\n",
       "      <th></th>\n",
       "      <th></th>\n",
       "      <th></th>\n",
       "      <th></th>\n",
       "    </tr>\n",
       "  </thead>\n",
       "  <tbody>\n",
       "    <tr>\n",
       "      <th>2019-09-27</th>\n",
       "      <td>10175.894</td>\n",
       "      <td>10525.262</td>\n",
       "      <td>0.0</td>\n",
       "      <td>0.0</td>\n",
       "      <td>9820.860</td>\n",
       "      <td>798.797709</td>\n",
       "      <td>10619.657709</td>\n",
       "      <td>9022.062291</td>\n",
       "    </tr>\n",
       "    <tr>\n",
       "      <th>2019-09-28</th>\n",
       "      <td>10103.012</td>\n",
       "      <td>10512.054</td>\n",
       "      <td>0.0</td>\n",
       "      <td>0.0</td>\n",
       "      <td>9711.105</td>\n",
       "      <td>862.088116</td>\n",
       "      <td>10573.193116</td>\n",
       "      <td>8849.016884</td>\n",
       "    </tr>\n",
       "    <tr>\n",
       "      <th>2019-09-29</th>\n",
       "      <td>10038.380</td>\n",
       "      <td>10490.393</td>\n",
       "      <td>0.0</td>\n",
       "      <td>0.0</td>\n",
       "      <td>9598.035</td>\n",
       "      <td>924.802142</td>\n",
       "      <td>10522.837142</td>\n",
       "      <td>8673.232858</td>\n",
       "    </tr>\n",
       "    <tr>\n",
       "      <th>2019-09-30</th>\n",
       "      <td>9974.046</td>\n",
       "      <td>10466.855</td>\n",
       "      <td>0.0</td>\n",
       "      <td>0.0</td>\n",
       "      <td>9508.810</td>\n",
       "      <td>959.804138</td>\n",
       "      <td>10468.614138</td>\n",
       "      <td>8549.005862</td>\n",
       "    </tr>\n",
       "    <tr>\n",
       "      <th>2019-10-01</th>\n",
       "      <td>9912.822</td>\n",
       "      <td>10441.944</td>\n",
       "      <td>0.0</td>\n",
       "      <td>0.0</td>\n",
       "      <td>9416.925</td>\n",
       "      <td>981.823851</td>\n",
       "      <td>10398.748851</td>\n",
       "      <td>8435.101149</td>\n",
       "    </tr>\n",
       "  </tbody>\n",
       "</table>\n",
       "</div>"
      ],
      "text/plain": [
       "                SMA50     SMA100  Signal  Entry/Exit  bollinger_mid_band  \\\n",
       "date                                                                       \n",
       "2019-09-27  10175.894  10525.262     0.0         0.0            9820.860   \n",
       "2019-09-28  10103.012  10512.054     0.0         0.0            9711.105   \n",
       "2019-09-29  10038.380  10490.393     0.0         0.0            9598.035   \n",
       "2019-09-30   9974.046  10466.855     0.0         0.0            9508.810   \n",
       "2019-10-01   9912.822  10441.944     0.0         0.0            9416.925   \n",
       "\n",
       "            bollinger_std  bollinger_upper_band  bollinger_lower_band  \n",
       "date                                                                   \n",
       "2019-09-27     798.797709          10619.657709           9022.062291  \n",
       "2019-09-28     862.088116          10573.193116           8849.016884  \n",
       "2019-09-29     924.802142          10522.837142           8673.232858  \n",
       "2019-09-30     959.804138          10468.614138           8549.005862  \n",
       "2019-10-01     981.823851          10398.748851           8435.101149  "
      ]
     },
     "execution_count": 12,
     "metadata": {},
     "output_type": "execute_result"
    }
   ],
   "source": [
    "X = all_sig.copy()\n",
    "X.dropna(inplace=True)\n",
    "X.drop(columns=['close','returns','change_in_price'], inplace=True)\n",
    "X.head()"
   ]
  },
  {
   "cell_type": "code",
   "execution_count": 13,
   "metadata": {},
   "outputs": [
    {
     "data": {
      "text/plain": [
       "array([[1],\n",
       "       [1],\n",
       "       [0],\n",
       "       [1],\n",
       "       [1]])"
      ]
     },
     "execution_count": 13,
     "metadata": {},
     "output_type": "execute_result"
    }
   ],
   "source": [
    "y=all_sig['change_in_price'].values.reshape(-1,1)\n",
    "y=y[99:]\n",
    "y[:5]"
   ]
  },
  {
   "cell_type": "code",
   "execution_count": 14,
   "metadata": {},
   "outputs": [],
   "source": [
    "X_train, X_test, y_train, y_test = train_test_split(X, y, random_state=78)"
   ]
  },
  {
   "cell_type": "code",
   "execution_count": 15,
   "metadata": {},
   "outputs": [],
   "source": [
    "scaler = StandardScaler()"
   ]
  },
  {
   "cell_type": "code",
   "execution_count": 16,
   "metadata": {},
   "outputs": [],
   "source": [
    "X_scaler = scaler.fit(X_train)"
   ]
  },
  {
   "cell_type": "code",
   "execution_count": 17,
   "metadata": {},
   "outputs": [],
   "source": [
    "X_train_scaled = X_scaler.transform(X_train)\n",
    "X_test_scaled = X_scaler.transform(X_test)"
   ]
  },
  {
   "cell_type": "code",
   "execution_count": 26,
   "metadata": {},
   "outputs": [],
   "source": [
    "rf_model = RandomForestClassifier(n_estimators=100, random_state=78)"
   ]
  },
  {
   "cell_type": "code",
   "execution_count": 27,
   "metadata": {},
   "outputs": [
    {
     "name": "stderr",
     "output_type": "stream",
     "text": [
      "C:\\Users\\15159\\anaconda3\\envs\\mlenv\\lib\\site-packages\\ipykernel_launcher.py:1: DataConversionWarning: A column-vector y was passed when a 1d array was expected. Please change the shape of y to (n_samples,), for example using ravel().\n",
      "  \"\"\"Entry point for launching an IPython kernel.\n"
     ]
    }
   ],
   "source": [
    "rf_model = rf_model.fit(X_train_scaled, y_train)"
   ]
  },
  {
   "cell_type": "code",
   "execution_count": 28,
   "metadata": {},
   "outputs": [],
   "source": [
    "# Making predictions using the testing data\n",
    "predictions = rf_model.predict(X_test_scaled)"
   ]
  },
  {
   "cell_type": "code",
   "execution_count": 29,
   "metadata": {},
   "outputs": [],
   "source": [
    "# Calculating the confusion matrix\n",
    "cm = confusion_matrix(y_test, predictions)\n",
    "cm_df = pd.DataFrame(\n",
    "    cm, index=[\"Actual 0\", \"Actual 1\"], columns=[\"Predicted 0\", \"Predicted 1\"]\n",
    ")\n",
    "\n",
    "# Calculating the accuracy score\n",
    "acc_score = accuracy_score(y_test, predictions)\n",
    "\n"
   ]
  },
  {
   "cell_type": "code",
   "execution_count": 30,
   "metadata": {},
   "outputs": [
    {
     "name": "stdout",
     "output_type": "stream",
     "text": [
      "Confusion Matrix\n"
     ]
    },
    {
     "data": {
      "text/html": [
       "<div>\n",
       "<style scoped>\n",
       "    .dataframe tbody tr th:only-of-type {\n",
       "        vertical-align: middle;\n",
       "    }\n",
       "\n",
       "    .dataframe tbody tr th {\n",
       "        vertical-align: top;\n",
       "    }\n",
       "\n",
       "    .dataframe thead th {\n",
       "        text-align: right;\n",
       "    }\n",
       "</style>\n",
       "<table border=\"1\" class=\"dataframe\">\n",
       "  <thead>\n",
       "    <tr style=\"text-align: right;\">\n",
       "      <th></th>\n",
       "      <th>Predicted 0</th>\n",
       "      <th>Predicted 1</th>\n",
       "    </tr>\n",
       "  </thead>\n",
       "  <tbody>\n",
       "    <tr>\n",
       "      <th>Actual 0</th>\n",
       "      <td>32</td>\n",
       "      <td>37</td>\n",
       "    </tr>\n",
       "    <tr>\n",
       "      <th>Actual 1</th>\n",
       "      <td>54</td>\n",
       "      <td>32</td>\n",
       "    </tr>\n",
       "  </tbody>\n",
       "</table>\n",
       "</div>"
      ],
      "text/plain": [
       "          Predicted 0  Predicted 1\n",
       "Actual 0           32           37\n",
       "Actual 1           54           32"
      ]
     },
     "metadata": {},
     "output_type": "display_data"
    },
    {
     "name": "stdout",
     "output_type": "stream",
     "text": [
      "Accuracy Score : 0.4129032258064516\n",
      "Classification Report\n",
      "              precision    recall  f1-score   support\n",
      "\n",
      "           0       0.37      0.46      0.41        69\n",
      "           1       0.46      0.37      0.41        86\n",
      "\n",
      "    accuracy                           0.41       155\n",
      "   macro avg       0.42      0.42      0.41       155\n",
      "weighted avg       0.42      0.41      0.41       155\n",
      "\n"
     ]
    }
   ],
   "source": [
    "# Displaying results\n",
    "print(\"Confusion Matrix\")\n",
    "display(cm_df)\n",
    "print(f\"Accuracy Score : {acc_score}\")\n",
    "print(\"Classification Report\")\n",
    "print(classification_report(y_test, predictions))\n"
   ]
  },
  {
   "cell_type": "code",
   "execution_count": 31,
   "metadata": {},
   "outputs": [],
   "source": [
    "# Get the feature importance array\n",
    "importances = rf_model.feature_importances_\n"
   ]
  },
  {
   "cell_type": "code",
   "execution_count": 32,
   "metadata": {},
   "outputs": [
    {
     "data": {
      "text/plain": [
       "[(0.1814874176728081, 'bollinger_std'),\n",
       " (0.1672698246578319, 'bollinger_lower_band'),\n",
       " (0.1653067741065758, 'bollinger_upper_band'),\n",
       " (0.16187567506371678, 'SMA50'),\n",
       " (0.15927731502429668, 'SMA100'),\n",
       " (0.15452611989382783, 'bollinger_mid_band'),\n",
       " (0.007156920177896288, 'Signal'),\n",
       " (0.00309995340304662, 'Entry/Exit')]"
      ]
     },
     "execution_count": 32,
     "metadata": {},
     "output_type": "execute_result"
    }
   ],
   "source": [
    "# List the top 10 most important features\n",
    "importances_sorted = sorted(zip(rf_model.feature_importances_, X.columns), reverse=True)\n",
    "importances_sorted[:10]\n"
   ]
  },
  {
   "cell_type": "code",
   "execution_count": 33,
   "metadata": {},
   "outputs": [
    {
     "data": {
      "text/plain": [
       "<AxesSubplot:title={'center':'Features Importances'}, ylabel='1'>"
      ]
     },
     "execution_count": 33,
     "metadata": {},
     "output_type": "execute_result"
    },
    {
     "data": {
      "image/png": "[encoded data removed]",
      "text/plain": [
       "<Figure size 432x288 with 1 Axes>"
      ]
     },
     "metadata": {
      "needs_background": "light"
     },
     "output_type": "display_data"
    }
   ],
   "source": [
    "# Visualize the features by importance\n",
    "importances = pd.DataFrame(sorted(zip(rf_model.feature_importances_, X.columns), reverse=True))\n",
    "importances.set_index(importances[1], inplace=True)\n",
    "importances.drop(columns=1, inplace=True)\n",
    "importances.rename(columns={0: 'Feature Importances'}, inplace=True)\n",
    "importances_sorted = importances.sort_values(by='Feature Importances')\n",
    "importances_sorted.plot(kind='barh', color='lightgreen', title= 'Features Importances', legend=False)\n"
   ]
  },
  {
   "cell_type": "markdown",
   "metadata": {},
   "source": [
    "# ARIMA Attempt"
   ]
  },
  {
   "cell_type": "code",
   "execution_count": 36,
   "metadata": {},
   "outputs": [
    {
     "data": {
      "text/plain": [
       "<AxesSubplot:xlabel='date'>"
      ]
     },
     "execution_count": 36,
     "metadata": {},
     "output_type": "execute_result"
    },
    {
     "data": {
      "image/png": "[encoded data removed]",
      "text/plain": [
       "<Figure size 432x288 with 1 Axes>"
      ]
     },
     "metadata": {
      "needs_background": "light"
     },
     "output_type": "display_data"
    }
   ],
   "source": [
    "btc.close.plot()"
   ]
  },
  {
   "cell_type": "code",
   "execution_count": 38,
   "metadata": {},
   "outputs": [
    {
     "data": {
      "text/plain": [
       "<AxesSubplot:xlabel='date'>"
      ]
     },
     "execution_count": 38,
     "metadata": {},
     "output_type": "execute_result"
    },
    {
     "data": {
      "image/png": "[encoded data removed]",
      "text/plain": [
       "<Figure size 432x288 with 1 Axes>"
      ]
     },
     "metadata": {
      "needs_background": "light"
     },
     "output_type": "display_data"
    }
   ],
   "source": [
    "btc.close.diff().plot()"
   ]
  },
  {
   "cell_type": "code",
   "execution_count": 39,
   "metadata": {},
   "outputs": [
    {
     "data": {
      "image/png": "[encoded data removed]",
      "text/plain": [
       "<Figure size 432x288 with 1 Axes>"
      ]
     },
     "metadata": {
      "needs_background": "light"
     },
     "output_type": "display_data"
    }
   ],
   "source": [
    "# Plot the autocorrelation of the Settle Prices\n",
    "from statsmodels.graphics.tsaplots import plot_acf, plot_pacf\n",
    "plot_acf(btc.close, zero=False, lags=35);"
   ]
  },
  {
   "cell_type": "code",
   "execution_count": 40,
   "metadata": {},
   "outputs": [
    {
     "name": "stderr",
     "output_type": "stream",
     "text": [
      "C:\\Users\\15159\\anaconda3\\envs\\mlenv\\lib\\site-packages\\statsmodels\\regression\\linear_model.py:1434: RuntimeWarning: invalid value encountered in sqrt\n",
      "  return rho, np.sqrt(sigmasq)\n"
     ]
    },
    {
     "data": {
      "image/png": "[encoded data removed]",
      "text/plain": [
       "<Figure size 432x288 with 1 Axes>"
      ]
     },
     "metadata": {
      "needs_background": "light"
     },
     "output_type": "display_data"
    }
   ],
   "source": [
    "plot_pacf(btc.close, zero=False, lags=35);"
   ]
  },
  {
   "cell_type": "markdown",
   "metadata": {},
   "source": [
    "## lag 1"
   ]
  },
  {
   "cell_type": "code",
   "execution_count": 42,
   "metadata": {},
   "outputs": [
    {
     "name": "stderr",
     "output_type": "stream",
     "text": [
      "C:\\Users\\15159\\anaconda3\\envs\\mlenv\\lib\\site-packages\\statsmodels\\tsa\\arima_model.py:472: FutureWarning: \n",
      "statsmodels.tsa.arima_model.ARMA and statsmodels.tsa.arima_model.ARIMA have\n",
      "been deprecated in favor of statsmodels.tsa.arima.model.ARIMA (note the .\n",
      "between arima and model) and\n",
      "statsmodels.tsa.SARIMAX. These will be removed after the 0.12 release.\n",
      "\n",
      "statsmodels.tsa.arima.model.ARIMA makes use of the statespace framework and\n",
      "is both well tested and maintained.\n",
      "\n",
      "To silence this warning and continue using ARMA and ARIMA until they are\n",
      "removed, use:\n",
      "\n",
      "import warnings\n",
      "warnings.filterwarnings('ignore', 'statsmodels.tsa.arima_model.ARMA',\n",
      "                        FutureWarning)\n",
      "warnings.filterwarnings('ignore', 'statsmodels.tsa.arima_model.ARIMA',\n",
      "                        FutureWarning)\n",
      "\n",
      "  warnings.warn(ARIMA_DEPRECATION_WARN, FutureWarning)\n"
     ]
    }
   ],
   "source": [
    "# Create an ARIMA model\n",
    "from statsmodels.tsa.arima_model import ARIMA\n",
    "model = ARIMA(btc.close.values, order=(1, 1, 1))"
   ]
  },
  {
   "cell_type": "code",
   "execution_count": 43,
   "metadata": {},
   "outputs": [
    {
     "name": "stderr",
     "output_type": "stream",
     "text": [
      "C:\\Users\\15159\\anaconda3\\envs\\mlenv\\lib\\site-packages\\statsmodels\\tsa\\arima_model.py:472: FutureWarning: \n",
      "statsmodels.tsa.arima_model.ARMA and statsmodels.tsa.arima_model.ARIMA have\n",
      "been deprecated in favor of statsmodels.tsa.arima.model.ARIMA (note the .\n",
      "between arima and model) and\n",
      "statsmodels.tsa.SARIMAX. These will be removed after the 0.12 release.\n",
      "\n",
      "statsmodels.tsa.arima.model.ARIMA makes use of the statespace framework and\n",
      "is both well tested and maintained.\n",
      "\n",
      "To silence this warning and continue using ARMA and ARIMA until they are\n",
      "removed, use:\n",
      "\n",
      "import warnings\n",
      "warnings.filterwarnings('ignore', 'statsmodels.tsa.arima_model.ARMA',\n",
      "                        FutureWarning)\n",
      "warnings.filterwarnings('ignore', 'statsmodels.tsa.arima_model.ARIMA',\n",
      "                        FutureWarning)\n",
      "\n",
      "  warnings.warn(ARIMA_DEPRECATION_WARN, FutureWarning)\n"
     ]
    }
   ],
   "source": [
    "# Fit the model to the data\n",
    "results = model.fit()"
   ]
  },
  {
   "cell_type": "code",
   "execution_count": 44,
   "metadata": {},
   "outputs": [
    {
     "data": {
      "text/html": [
       "<table class=\"simpletable\">\n",
       "<caption>ARIMA Model Results</caption>\n",
       "<tr>\n",
       "  <th>Dep. Variable:</th>        <td>D.y</td>       <th>  No. Observations:  </th>    <td>718</td>   \n",
       "</tr>\n",
       "<tr>\n",
       "  <th>Model:</th>          <td>ARIMA(1, 1, 1)</td>  <th>  Log Likelihood     </th> <td>-6028.713</td>\n",
       "</tr>\n",
       "<tr>\n",
       "  <th>Method:</th>             <td>css-mle</td>     <th>  S.D. of innovations</th> <td>1072.328</td> \n",
       "</tr>\n",
       "<tr>\n",
       "  <th>Date:</th>          <td>Mon, 07 Jun 2021</td> <th>  AIC                </th> <td>12065.426</td>\n",
       "</tr>\n",
       "<tr>\n",
       "  <th>Time:</th>              <td>12:46:09</td>     <th>  BIC                </th> <td>12083.731</td>\n",
       "</tr>\n",
       "<tr>\n",
       "  <th>Sample:</th>                <td>1</td>        <th>  HQIC               </th> <td>12072.494</td>\n",
       "</tr>\n",
       "<tr>\n",
       "  <th></th>                       <td> </td>        <th>                     </th>     <td> </td>    \n",
       "</tr>\n",
       "</table>\n",
       "<table class=\"simpletable\">\n",
       "<tr>\n",
       "      <td></td>         <th>coef</th>     <th>std err</th>      <th>z</th>      <th>P>|z|</th>  <th>[0.025</th>    <th>0.975]</th>  \n",
       "</tr>\n",
       "<tr>\n",
       "  <th>const</th>     <td>   36.5610</td> <td>   37.703</td> <td>    0.970</td> <td> 0.332</td> <td>  -37.336</td> <td>  110.458</td>\n",
       "</tr>\n",
       "<tr>\n",
       "  <th>ar.L1.D.y</th> <td>   -0.5585</td> <td>    0.258</td> <td>   -2.162</td> <td> 0.031</td> <td>   -1.065</td> <td>   -0.052</td>\n",
       "</tr>\n",
       "<tr>\n",
       "  <th>ma.L1.D.y</th> <td>    0.4682</td> <td>    0.275</td> <td>    1.701</td> <td> 0.089</td> <td>   -0.071</td> <td>    1.008</td>\n",
       "</tr>\n",
       "</table>\n",
       "<table class=\"simpletable\">\n",
       "<caption>Roots</caption>\n",
       "<tr>\n",
       "    <td></td>   <th>            Real</th>  <th>         Imaginary</th> <th>         Modulus</th>  <th>        Frequency</th>\n",
       "</tr>\n",
       "<tr>\n",
       "  <th>AR.1</th> <td>          -1.7905</td> <td>          +0.0000j</td> <td>           1.7905</td> <td>           0.5000</td>\n",
       "</tr>\n",
       "<tr>\n",
       "  <th>MA.1</th> <td>          -2.1357</td> <td>          +0.0000j</td> <td>           2.1357</td> <td>           0.5000</td>\n",
       "</tr>\n",
       "</table>"
      ],
      "text/plain": [
       "<class 'statsmodels.iolib.summary.Summary'>\n",
       "\"\"\"\n",
       "                             ARIMA Model Results                              \n",
       "==============================================================================\n",
       "Dep. Variable:                    D.y   No. Observations:                  718\n",
       "Model:                 ARIMA(1, 1, 1)   Log Likelihood               -6028.713\n",
       "Method:                       css-mle   S.D. of innovations           1072.328\n",
       "Date:                Mon, 07 Jun 2021   AIC                          12065.426\n",
       "Time:                        12:46:09   BIC                          12083.731\n",
       "Sample:                             1   HQIC                         12072.494\n",
       "                                                                              \n",
       "==============================================================================\n",
       "                 coef    std err          z      P>|z|      [0.025      0.975]\n",
       "------------------------------------------------------------------------------\n",
       "const         36.5610     37.703      0.970      0.332     -37.336     110.458\n",
       "ar.L1.D.y     -0.5585      0.258     -2.162      0.031      -1.065      -0.052\n",
       "ma.L1.D.y      0.4682      0.275      1.701      0.089      -0.071       1.008\n",
       "                                    Roots                                    \n",
       "=============================================================================\n",
       "                  Real          Imaginary           Modulus         Frequency\n",
       "-----------------------------------------------------------------------------\n",
       "AR.1           -1.7905           +0.0000j            1.7905            0.5000\n",
       "MA.1           -2.1357           +0.0000j            2.1357            0.5000\n",
       "-----------------------------------------------------------------------------\n",
       "\"\"\""
      ]
     },
     "execution_count": 44,
     "metadata": {},
     "output_type": "execute_result"
    }
   ],
   "source": [
    "# Print the model summary\n",
    "results.summary()"
   ]
  },
  {
   "cell_type": "code",
   "execution_count": 45,
   "metadata": {},
   "outputs": [
    {
     "data": {
      "text/plain": [
       "<AxesSubplot:title={'center':'Futures Forecast'}>"
      ]
     },
     "execution_count": 45,
     "metadata": {},
     "output_type": "execute_result"
    },
    {
     "data": {
      "image/png": "[encoded data removed]",
      "text/plain": [
       "<Figure size 432x288 with 1 Axes>"
      ]
     },
     "metadata": {
      "needs_background": "light"
     },
     "output_type": "display_data"
    }
   ],
   "source": [
    "# Plot the Futures Price Forecast\n",
    "pd.DataFrame(results.forecast(steps=10)[0]).plot(title=\"Futures Forecast\")"
   ]
  },
  {
   "cell_type": "markdown",
   "metadata": {},
   "source": [
    "## lag 2"
   ]
  },
  {
   "cell_type": "code",
   "execution_count": 47,
   "metadata": {},
   "outputs": [
    {
     "name": "stderr",
     "output_type": "stream",
     "text": [
      "C:\\Users\\15159\\anaconda3\\envs\\mlenv\\lib\\site-packages\\statsmodels\\tsa\\arima_model.py:472: FutureWarning: \n",
      "statsmodels.tsa.arima_model.ARMA and statsmodels.tsa.arima_model.ARIMA have\n",
      "been deprecated in favor of statsmodels.tsa.arima.model.ARIMA (note the .\n",
      "between arima and model) and\n",
      "statsmodels.tsa.SARIMAX. These will be removed after the 0.12 release.\n",
      "\n",
      "statsmodels.tsa.arima.model.ARIMA makes use of the statespace framework and\n",
      "is both well tested and maintained.\n",
      "\n",
      "To silence this warning and continue using ARMA and ARIMA until they are\n",
      "removed, use:\n",
      "\n",
      "import warnings\n",
      "warnings.filterwarnings('ignore', 'statsmodels.tsa.arima_model.ARMA',\n",
      "                        FutureWarning)\n",
      "warnings.filterwarnings('ignore', 'statsmodels.tsa.arima_model.ARIMA',\n",
      "                        FutureWarning)\n",
      "\n",
      "  warnings.warn(ARIMA_DEPRECATION_WARN, FutureWarning)\n",
      "C:\\Users\\15159\\anaconda3\\envs\\mlenv\\lib\\site-packages\\statsmodels\\tsa\\arima_model.py:472: FutureWarning: \n",
      "statsmodels.tsa.arima_model.ARMA and statsmodels.tsa.arima_model.ARIMA have\n",
      "been deprecated in favor of statsmodels.tsa.arima.model.ARIMA (note the .\n",
      "between arima and model) and\n",
      "statsmodels.tsa.SARIMAX. These will be removed after the 0.12 release.\n",
      "\n",
      "statsmodels.tsa.arima.model.ARIMA makes use of the statespace framework and\n",
      "is both well tested and maintained.\n",
      "\n",
      "To silence this warning and continue using ARMA and ARIMA until they are\n",
      "removed, use:\n",
      "\n",
      "import warnings\n",
      "warnings.filterwarnings('ignore', 'statsmodels.tsa.arima_model.ARMA',\n",
      "                        FutureWarning)\n",
      "warnings.filterwarnings('ignore', 'statsmodels.tsa.arima_model.ARIMA',\n",
      "                        FutureWarning)\n",
      "\n",
      "  warnings.warn(ARIMA_DEPRECATION_WARN, FutureWarning)\n"
     ]
    }
   ],
   "source": [
    "# Create an ARIMA Model and fit it to the data\n",
    "model2 = ARIMA(btc.close.values, order=(2, 1, 1))\n",
    "results2 = model2.fit()"
   ]
  },
  {
   "cell_type": "code",
   "execution_count": 48,
   "metadata": {},
   "outputs": [
    {
     "data": {
      "text/html": [
       "<table class=\"simpletable\">\n",
       "<caption>ARIMA Model Results</caption>\n",
       "<tr>\n",
       "  <th>Dep. Variable:</th>        <td>D.y</td>       <th>  No. Observations:  </th>    <td>718</td>   \n",
       "</tr>\n",
       "<tr>\n",
       "  <th>Model:</th>          <td>ARIMA(2, 1, 1)</td>  <th>  Log Likelihood     </th> <td>-6025.627</td>\n",
       "</tr>\n",
       "<tr>\n",
       "  <th>Method:</th>             <td>css-mle</td>     <th>  S.D. of innovations</th> <td>1067.712</td> \n",
       "</tr>\n",
       "<tr>\n",
       "  <th>Date:</th>          <td>Mon, 07 Jun 2021</td> <th>  AIC                </th> <td>12061.254</td>\n",
       "</tr>\n",
       "<tr>\n",
       "  <th>Time:</th>              <td>12:46:59</td>     <th>  BIC                </th> <td>12084.137</td>\n",
       "</tr>\n",
       "<tr>\n",
       "  <th>Sample:</th>                <td>1</td>        <th>  HQIC               </th> <td>12070.089</td>\n",
       "</tr>\n",
       "<tr>\n",
       "  <th></th>                       <td> </td>        <th>                     </th>     <td> </td>    \n",
       "</tr>\n",
       "</table>\n",
       "<table class=\"simpletable\">\n",
       "<tr>\n",
       "      <td></td>         <th>coef</th>     <th>std err</th>      <th>z</th>      <th>P>|z|</th>  <th>[0.025</th>    <th>0.975]</th>  \n",
       "</tr>\n",
       "<tr>\n",
       "  <th>const</th>     <td>   36.7188</td> <td>   44.969</td> <td>    0.817</td> <td> 0.414</td> <td>  -51.419</td> <td>  124.857</td>\n",
       "</tr>\n",
       "<tr>\n",
       "  <th>ar.L1.D.y</th> <td>    0.4392</td> <td>    0.219</td> <td>    2.003</td> <td> 0.045</td> <td>    0.009</td> <td>    0.869</td>\n",
       "</tr>\n",
       "<tr>\n",
       "  <th>ar.L2.D.y</th> <td>    0.1410</td> <td>    0.037</td> <td>    3.793</td> <td> 0.000</td> <td>    0.068</td> <td>    0.214</td>\n",
       "</tr>\n",
       "<tr>\n",
       "  <th>ma.L1.D.y</th> <td>   -0.5258</td> <td>    0.220</td> <td>   -2.387</td> <td> 0.017</td> <td>   -0.958</td> <td>   -0.094</td>\n",
       "</tr>\n",
       "</table>\n",
       "<table class=\"simpletable\">\n",
       "<caption>Roots</caption>\n",
       "<tr>\n",
       "    <td></td>   <th>            Real</th>  <th>         Imaginary</th> <th>         Modulus</th>  <th>        Frequency</th>\n",
       "</tr>\n",
       "<tr>\n",
       "  <th>AR.1</th> <td>           1.5276</td> <td>          +0.0000j</td> <td>           1.5276</td> <td>           0.0000</td>\n",
       "</tr>\n",
       "<tr>\n",
       "  <th>AR.2</th> <td>          -4.6430</td> <td>          +0.0000j</td> <td>           4.6430</td> <td>           0.5000</td>\n",
       "</tr>\n",
       "<tr>\n",
       "  <th>MA.1</th> <td>           1.9017</td> <td>          +0.0000j</td> <td>           1.9017</td> <td>           0.0000</td>\n",
       "</tr>\n",
       "</table>"
      ],
      "text/plain": [
       "<class 'statsmodels.iolib.summary.Summary'>\n",
       "\"\"\"\n",
       "                             ARIMA Model Results                              \n",
       "==============================================================================\n",
       "Dep. Variable:                    D.y   No. Observations:                  718\n",
       "Model:                 ARIMA(2, 1, 1)   Log Likelihood               -6025.627\n",
       "Method:                       css-mle   S.D. of innovations           1067.712\n",
       "Date:                Mon, 07 Jun 2021   AIC                          12061.254\n",
       "Time:                        12:46:59   BIC                          12084.137\n",
       "Sample:                             1   HQIC                         12070.089\n",
       "                                                                              \n",
       "==============================================================================\n",
       "                 coef    std err          z      P>|z|      [0.025      0.975]\n",
       "------------------------------------------------------------------------------\n",
       "const         36.7188     44.969      0.817      0.414     -51.419     124.857\n",
       "ar.L1.D.y      0.4392      0.219      2.003      0.045       0.009       0.869\n",
       "ar.L2.D.y      0.1410      0.037      3.793      0.000       0.068       0.214\n",
       "ma.L1.D.y     -0.5258      0.220     -2.387      0.017      -0.958      -0.094\n",
       "                                    Roots                                    \n",
       "=============================================================================\n",
       "                  Real          Imaginary           Modulus         Frequency\n",
       "-----------------------------------------------------------------------------\n",
       "AR.1            1.5276           +0.0000j            1.5276            0.0000\n",
       "AR.2           -4.6430           +0.0000j            4.6430            0.5000\n",
       "MA.1            1.9017           +0.0000j            1.9017            0.0000\n",
       "-----------------------------------------------------------------------------\n",
       "\"\"\""
      ]
     },
     "execution_count": 48,
     "metadata": {},
     "output_type": "execute_result"
    }
   ],
   "source": [
    "# Print the model summary\n",
    "results2.summary()"
   ]
  },
  {
   "cell_type": "code",
   "execution_count": 49,
   "metadata": {},
   "outputs": [
    {
     "data": {
      "text/plain": [
       "<AxesSubplot:title={'center':'Futures Forecast'}>"
      ]
     },
     "execution_count": 49,
     "metadata": {},
     "output_type": "execute_result"
    },
    {
     "data": {
      "image/png": "[encoded data removed]",
      "text/plain": [
       "<Figure size 432x288 with 1 Axes>"
      ]
     },
     "metadata": {
      "needs_background": "light"
     },
     "output_type": "display_data"
    }
   ],
   "source": [
    "# Plot the Futures Price Forecast\n",
    "pd.DataFrame(results2.forecast(steps=10)[0]).plot(title=\"Futures Forecast\")"
   ]
  },
  {
   "cell_type": "code",
   "execution_count": null,
   "metadata": {},
   "outputs": [],
   "source": []
  }
 ],
 "metadata": {
  "kernelspec": {
   "display_name": "Python 3",
   "language": "python",
   "name": "python3"
  },
  "language_info": {
   "codemirror_mode": {
    "name": "ipython",
    "version": 3
   },
   "file_extension": ".py",
   "mimetype": "text/x-python",
   "name": "python",
   "nbconvert_exporter": "python",
   "pygments_lexer": "ipython3",
   "version": "3.7.10"
  }
 },
 "nbformat": 4,
 "nbformat_minor": 4
}
