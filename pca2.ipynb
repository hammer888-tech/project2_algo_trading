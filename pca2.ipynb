{
 "cells": [
  {
   "cell_type": "markdown",
   "metadata": {},
   "source": [
    "# Import Price Data From Kraken API:"
   ]
  },
  {
   "cell_type": "code",
   "execution_count": 6,
   "metadata": {},
   "outputs": [],
   "source": [
    "import krakenex \n",
    "from pykrakenapi import KrakenAPI\n",
    "import sys\n",
    "import time\n",
    "import urllib.request\n",
    "import json\n",
    "import requests\n",
    "import pandas as pd\n",
    "import numpy as np \n",
    "\n",
    "from sklearn.ensemble import RandomForestClassifier\n",
    "from sklearn.preprocessing import StandardScaler\n",
    "from sklearn.model_selection import train_test_split\n",
    "from sklearn.metrics import confusion_matrix, accuracy_score, classification_report\n",
    "from sklearn.decomposition import PCA"
   ]
  },
  {
   "cell_type": "code",
   "execution_count": 7,
   "metadata": {},
   "outputs": [],
   "source": [
    "api = krakenex.API()\n",
    "k = KrakenAPI(api)"
   ]
  },
  {
   "cell_type": "code",
   "execution_count": 8,
   "metadata": {},
   "outputs": [
    {
     "name": "stdout",
     "output_type": "stream",
     "text": [
      "(                           time     open     high      low    close     vwap  \\\n",
      "dtime                                                                          \n",
      "2021-06-09 20:00:00  1623268800  36291.8  36384.6  36291.8  36354.1  36338.7   \n",
      "2021-06-09 19:59:00  1623268740  36261.9  36284.2  36261.9  36281.7  36279.3   \n",
      "2021-06-09 19:58:00  1623268680  36249.3  36338.3  36244.5  36268.2  36275.7   \n",
      "2021-06-09 19:57:00  1623268620  36297.5  36309.6  36260.1  36270.0  36273.0   \n",
      "2021-06-09 19:56:00  1623268560  36374.3  36374.3  36290.0  36290.0  36364.1   \n",
      "...                         ...      ...      ...      ...      ...      ...   \n",
      "2021-06-09 08:05:00  1623225900  33898.8  33938.3  33881.4  33899.8  33901.4   \n",
      "2021-06-09 08:04:00  1623225840  33932.1  33954.2  33861.3  33901.8  33914.6   \n",
      "2021-06-09 08:03:00  1623225780  34033.0  34036.8  33925.0  33925.0  33964.8   \n",
      "2021-06-09 08:02:00  1623225720  34140.1  34140.1  34015.5  34047.6  34059.4   \n",
      "2021-06-09 08:01:00  1623225660  34138.9  34167.5  34138.9  34167.5  34151.4   \n",
      "\n",
      "                        volume  count  \n",
      "dtime                                  \n",
      "2021-06-09 20:00:00   2.157052     40  \n",
      "2021-06-09 19:59:00   1.792993     28  \n",
      "2021-06-09 19:58:00  56.533814    184  \n",
      "2021-06-09 19:57:00   5.885544     31  \n",
      "2021-06-09 19:56:00  11.232040     76  \n",
      "...                        ...    ...  \n",
      "2021-06-09 08:05:00   8.081968     32  \n",
      "2021-06-09 08:04:00   2.714656     37  \n",
      "2021-06-09 08:03:00   8.539657     60  \n",
      "2021-06-09 08:02:00  14.953423     69  \n",
      "2021-06-09 08:01:00   0.139608      5  \n",
      "\n",
      "[720 rows x 8 columns], 1623268740)\n"
     ]
    }
   ],
   "source": [
    "ohlc = k.get_ohlc_data(\"BTCUSD\")\n",
    "print(ohlc)"
   ]
  },
  {
   "cell_type": "code",
   "execution_count": 9,
   "metadata": {},
   "outputs": [],
   "source": [
    "def fetch_OHLC_data(symbol, timeframe):\n",
    "    pair_split = symbol.split('/')\n",
    "    symbol = pair_split[0] + pair_split[1]\n",
    "    url = f'https://api.kraken.com/0/public/OHLC?pair={symbol}&interval={timeframe}'\n",
    "    response = requests.get(url)\n",
    "    if response.status_code == 200: \n",
    "        j = json.loads(response.text)\n",
    "        result = j['result']\n",
    "        keys = []\n",
    "        for item in result:\n",
    "            keys.append(item)\n",
    "        if keys[0] != 'last':\n",
    "            data = pd.DataFrame(result[keys[0]],\n",
    "                                columns=['unix', 'open', 'high', 'low', 'close', 'vwap', 'volume', 'tradecount'])\n",
    "        else:\n",
    "            data = pd.DataFrame(result[keys[1]],\n",
    "                                columns=['unix', 'open', 'high', 'low', 'close', 'vwap', 'volume', 'tradecount'])\n",
    "\n",
    "        data['date'] = pd.to_datetime(data['unix'], unit='s')\n",
    "        data['volume_from'] = data['volume'].astype(float) * data['close'].astype(float)\n",
    "    return data"
   ]
  },
  {
   "cell_type": "code",
   "execution_count": 10,
   "metadata": {},
   "outputs": [
    {
     "name": "stderr",
     "output_type": "stream",
     "text": [
      "C:\\ProgramData\\Anaconda3\\envs\\dev\\lib\\site-packages\\ipykernel_launcher.py:7: SettingWithCopyWarning: \n",
      "A value is trying to be set on a copy of a slice from a DataFrame\n",
      "\n",
      "See the caveats in the documentation: https://pandas.pydata.org/pandas-docs/stable/user_guide/indexing.html#returning-a-view-versus-a-copy\n",
      "  import sys\n",
      "C:\\ProgramData\\Anaconda3\\envs\\dev\\lib\\site-packages\\ipykernel_launcher.py:8: SettingWithCopyWarning: \n",
      "A value is trying to be set on a copy of a slice from a DataFrame\n",
      "\n",
      "See the caveats in the documentation: https://pandas.pydata.org/pandas-docs/stable/user_guide/indexing.html#returning-a-view-versus-a-copy\n",
      "  \n"
     ]
    },
    {
     "data": {
      "text/html": [
       "<div>\n",
       "<style scoped>\n",
       "    .dataframe tbody tr th:only-of-type {\n",
       "        vertical-align: middle;\n",
       "    }\n",
       "\n",
       "    .dataframe tbody tr th {\n",
       "        vertical-align: top;\n",
       "    }\n",
       "\n",
       "    .dataframe thead th {\n",
       "        text-align: right;\n",
       "    }\n",
       "</style>\n",
       "<table border=\"1\" class=\"dataframe\">\n",
       "  <thead>\n",
       "    <tr style=\"text-align: right;\">\n",
       "      <th></th>\n",
       "      <th>close</th>\n",
       "      <th>vwap</th>\n",
       "      <th>volume</th>\n",
       "      <th>tradecount</th>\n",
       "      <th>returns</th>\n",
       "      <th>change_in_price</th>\n",
       "    </tr>\n",
       "    <tr>\n",
       "      <th>date</th>\n",
       "      <th></th>\n",
       "      <th></th>\n",
       "      <th></th>\n",
       "      <th></th>\n",
       "      <th></th>\n",
       "      <th></th>\n",
       "    </tr>\n",
       "  </thead>\n",
       "  <tbody>\n",
       "    <tr>\n",
       "      <th>2019-06-22</th>\n",
       "      <td>10663.8</td>\n",
       "      <td>10665.9</td>\n",
       "      <td>12842.48586265</td>\n",
       "      <td>54100</td>\n",
       "      <td>0.043506</td>\n",
       "      <td>1</td>\n",
       "    </tr>\n",
       "    <tr>\n",
       "      <th>2019-06-23</th>\n",
       "      <td>10814.1</td>\n",
       "      <td>10837.5</td>\n",
       "      <td>5943.46891708</td>\n",
       "      <td>34849</td>\n",
       "      <td>0.014094</td>\n",
       "      <td>1</td>\n",
       "    </tr>\n",
       "    <tr>\n",
       "      <th>2019-06-24</th>\n",
       "      <td>11020.6</td>\n",
       "      <td>10843.5</td>\n",
       "      <td>5457.41272587</td>\n",
       "      <td>26308</td>\n",
       "      <td>0.019095</td>\n",
       "      <td>1</td>\n",
       "    </tr>\n",
       "    <tr>\n",
       "      <th>2019-06-25</th>\n",
       "      <td>11765.1</td>\n",
       "      <td>11340.2</td>\n",
       "      <td>11623.88144358</td>\n",
       "      <td>40223</td>\n",
       "      <td>0.067555</td>\n",
       "      <td>1</td>\n",
       "    </tr>\n",
       "    <tr>\n",
       "      <th>2019-06-26</th>\n",
       "      <td>12933.7</td>\n",
       "      <td>12684.3</td>\n",
       "      <td>25637.82859518</td>\n",
       "      <td>100171</td>\n",
       "      <td>0.099328</td>\n",
       "      <td>1</td>\n",
       "    </tr>\n",
       "    <tr>\n",
       "      <th>...</th>\n",
       "      <td>...</td>\n",
       "      <td>...</td>\n",
       "      <td>...</td>\n",
       "      <td>...</td>\n",
       "      <td>...</td>\n",
       "      <td>...</td>\n",
       "    </tr>\n",
       "    <tr>\n",
       "      <th>2021-06-05</th>\n",
       "      <td>35534.6</td>\n",
       "      <td>36066.4</td>\n",
       "      <td>5532.75325986</td>\n",
       "      <td>39833</td>\n",
       "      <td>-0.035636</td>\n",
       "      <td>0</td>\n",
       "    </tr>\n",
       "    <tr>\n",
       "      <th>2021-06-06</th>\n",
       "      <td>35789.0</td>\n",
       "      <td>35930.0</td>\n",
       "      <td>3187.54640121</td>\n",
       "      <td>23692</td>\n",
       "      <td>0.007159</td>\n",
       "      <td>1</td>\n",
       "    </tr>\n",
       "    <tr>\n",
       "      <th>2021-06-07</th>\n",
       "      <td>33587.6</td>\n",
       "      <td>35319.4</td>\n",
       "      <td>6165.92045486</td>\n",
       "      <td>42615</td>\n",
       "      <td>-0.061511</td>\n",
       "      <td>0</td>\n",
       "    </tr>\n",
       "    <tr>\n",
       "      <th>2021-06-08</th>\n",
       "      <td>33420.0</td>\n",
       "      <td>32712.0</td>\n",
       "      <td>10548.32694320</td>\n",
       "      <td>72896</td>\n",
       "      <td>-0.004990</td>\n",
       "      <td>0</td>\n",
       "    </tr>\n",
       "    <tr>\n",
       "      <th>2021-06-09</th>\n",
       "      <td>36281.7</td>\n",
       "      <td>34685.0</td>\n",
       "      <td>8188.31487431</td>\n",
       "      <td>56248</td>\n",
       "      <td>0.085628</td>\n",
       "      <td>1</td>\n",
       "    </tr>\n",
       "  </tbody>\n",
       "</table>\n",
       "<p>719 rows × 6 columns</p>\n",
       "</div>"
      ],
      "text/plain": [
       "              close     vwap          volume  tradecount   returns  \\\n",
       "date                                                                 \n",
       "2019-06-22  10663.8  10665.9  12842.48586265       54100  0.043506   \n",
       "2019-06-23  10814.1  10837.5   5943.46891708       34849  0.014094   \n",
       "2019-06-24  11020.6  10843.5   5457.41272587       26308  0.019095   \n",
       "2019-06-25  11765.1  11340.2  11623.88144358       40223  0.067555   \n",
       "2019-06-26  12933.7  12684.3  25637.82859518      100171  0.099328   \n",
       "...             ...      ...             ...         ...       ...   \n",
       "2021-06-05  35534.6  36066.4   5532.75325986       39833 -0.035636   \n",
       "2021-06-06  35789.0  35930.0   3187.54640121       23692  0.007159   \n",
       "2021-06-07  33587.6  35319.4   6165.92045486       42615 -0.061511   \n",
       "2021-06-08  33420.0  32712.0  10548.32694320       72896 -0.004990   \n",
       "2021-06-09  36281.7  34685.0   8188.31487431       56248  0.085628   \n",
       "\n",
       "            change_in_price  \n",
       "date                         \n",
       "2019-06-22                1  \n",
       "2019-06-23                1  \n",
       "2019-06-24                1  \n",
       "2019-06-25                1  \n",
       "2019-06-26                1  \n",
       "...                     ...  \n",
       "2021-06-05                0  \n",
       "2021-06-06                1  \n",
       "2021-06-07                0  \n",
       "2021-06-08                0  \n",
       "2021-06-09                1  \n",
       "\n",
       "[719 rows x 6 columns]"
      ]
     },
     "execution_count": 10,
     "metadata": {},
     "output_type": "execute_result"
    }
   ],
   "source": [
    "btc = fetch_OHLC_data(symbol=\"BTC/USD\", timeframe=\"1440\")\n",
    "btc = btc.drop(columns=[\"unix\", \"open\", \"high\", \"low\", \"volume_from\"])\n",
    "btc = btc.set_index(\"date\")\n",
    "btc['close'] = btc['close'].astype(float)\n",
    "btc['returns'] = btc.close.pct_change()\n",
    "btc['change_in_price'] = btc['returns']\n",
    "btc.change_in_price[btc.change_in_price > 0] = 1\n",
    "btc.change_in_price[btc.change_in_price <= 0] = 0\n",
    "btc.dropna(inplace=True)\n",
    "btc['change_in_price'] = btc['change_in_price'].astype(int)\n",
    "btc"
   ]
  },
  {
   "cell_type": "markdown",
   "metadata": {},
   "source": [
    "# Generate Quantitative Trading Signals:"
   ]
  },
  {
   "cell_type": "code",
   "execution_count": 11,
   "metadata": {},
   "outputs": [],
   "source": [
    "def generate_signals(btc):\n",
    "    \"\"\"Generates trading signals for a given dataset.\"\"\"\n",
    "    # Grab just the `date` and `close` from the IEX dataset\n",
    "    signals_df = btc.copy()\n",
    "    # Set the short window and long windows\n",
    "    short_window = 50\n",
    "    long_window = 100\n",
    "\n",
    "    # Generate the short and long moving averages (50 and 100 days, respectively)\n",
    "    signals_df[\"SMA50\"] = signals_df[\"close\"].rolling(window=short_window).mean()\n",
    "    signals_df[\"SMA100\"] = signals_df[\"close\"].rolling(window=long_window).mean()\n",
    "\n",
    "    signals_df[\"Signal\"] = 0.0\n",
    "    # Generate the trading signal 0 or 1,\n",
    "    # where 0 is when the SMA50 is under the SMA100, and\n",
    "    # where 1 is when the SMA50 is higher (or crosses over) the SMA100\n",
    "    signals_df[\"Signal\"][short_window:] = np.where(\n",
    "        signals_df[\"SMA50\"][short_window:] > signals_df[\"SMA100\"][short_window:],\n",
    "        1.0,\n",
    "        0.0,\n",
    "    )\n",
    "    # Calculate the points in time at which a position should be taken, 1 or -1\n",
    "    signals_df[\"Entry/Exit\"] = signals_df[\"Signal\"].diff()\n",
    "    return signals_df"
   ]
  },
  {
   "cell_type": "code",
   "execution_count": 12,
   "metadata": {},
   "outputs": [
    {
     "name": "stderr",
     "output_type": "stream",
     "text": [
      "C:\\ProgramData\\Anaconda3\\envs\\dev\\lib\\site-packages\\ipykernel_launcher.py:20: SettingWithCopyWarning: \n",
      "A value is trying to be set on a copy of a slice from a DataFrame\n",
      "\n",
      "See the caveats in the documentation: https://pandas.pydata.org/pandas-docs/stable/user_guide/indexing.html#returning-a-view-versus-a-copy\n"
     ]
    },
    {
     "data": {
      "text/html": [
       "<div>\n",
       "<style scoped>\n",
       "    .dataframe tbody tr th:only-of-type {\n",
       "        vertical-align: middle;\n",
       "    }\n",
       "\n",
       "    .dataframe tbody tr th {\n",
       "        vertical-align: top;\n",
       "    }\n",
       "\n",
       "    .dataframe thead th {\n",
       "        text-align: right;\n",
       "    }\n",
       "</style>\n",
       "<table border=\"1\" class=\"dataframe\">\n",
       "  <thead>\n",
       "    <tr style=\"text-align: right;\">\n",
       "      <th></th>\n",
       "      <th>close</th>\n",
       "      <th>vwap</th>\n",
       "      <th>volume</th>\n",
       "      <th>tradecount</th>\n",
       "      <th>returns</th>\n",
       "      <th>change_in_price</th>\n",
       "      <th>SMA50</th>\n",
       "      <th>SMA100</th>\n",
       "      <th>Signal</th>\n",
       "      <th>Entry/Exit</th>\n",
       "    </tr>\n",
       "    <tr>\n",
       "      <th>date</th>\n",
       "      <th></th>\n",
       "      <th></th>\n",
       "      <th></th>\n",
       "      <th></th>\n",
       "      <th></th>\n",
       "      <th></th>\n",
       "      <th></th>\n",
       "      <th></th>\n",
       "      <th></th>\n",
       "      <th></th>\n",
       "    </tr>\n",
       "  </thead>\n",
       "  <tbody>\n",
       "    <tr>\n",
       "      <th>2021-06-05</th>\n",
       "      <td>35534.6</td>\n",
       "      <td>36066.4</td>\n",
       "      <td>5532.75325986</td>\n",
       "      <td>39833</td>\n",
       "      <td>-0.035636</td>\n",
       "      <td>0</td>\n",
       "      <td>47714.530</td>\n",
       "      <td>51769.148</td>\n",
       "      <td>0.0</td>\n",
       "      <td>0.0</td>\n",
       "    </tr>\n",
       "    <tr>\n",
       "      <th>2021-06-06</th>\n",
       "      <td>35789.0</td>\n",
       "      <td>35930.0</td>\n",
       "      <td>3187.54640121</td>\n",
       "      <td>23692</td>\n",
       "      <td>0.007159</td>\n",
       "      <td>1</td>\n",
       "      <td>47228.606</td>\n",
       "      <td>51663.893</td>\n",
       "      <td>0.0</td>\n",
       "      <td>0.0</td>\n",
       "    </tr>\n",
       "    <tr>\n",
       "      <th>2021-06-07</th>\n",
       "      <td>33587.6</td>\n",
       "      <td>35319.4</td>\n",
       "      <td>6165.92045486</td>\n",
       "      <td>42615</td>\n",
       "      <td>-0.061511</td>\n",
       "      <td>0</td>\n",
       "      <td>46775.562</td>\n",
       "      <td>51538.067</td>\n",
       "      <td>0.0</td>\n",
       "      <td>0.0</td>\n",
       "    </tr>\n",
       "    <tr>\n",
       "      <th>2021-06-08</th>\n",
       "      <td>33420.0</td>\n",
       "      <td>32712.0</td>\n",
       "      <td>10548.32694320</td>\n",
       "      <td>72896</td>\n",
       "      <td>-0.004990</td>\n",
       "      <td>0</td>\n",
       "      <td>46329.562</td>\n",
       "      <td>51419.813</td>\n",
       "      <td>0.0</td>\n",
       "      <td>0.0</td>\n",
       "    </tr>\n",
       "    <tr>\n",
       "      <th>2021-06-09</th>\n",
       "      <td>36281.7</td>\n",
       "      <td>34685.0</td>\n",
       "      <td>8188.31487431</td>\n",
       "      <td>56248</td>\n",
       "      <td>0.085628</td>\n",
       "      <td>1</td>\n",
       "      <td>45925.196</td>\n",
       "      <td>51286.423</td>\n",
       "      <td>0.0</td>\n",
       "      <td>0.0</td>\n",
       "    </tr>\n",
       "  </tbody>\n",
       "</table>\n",
       "</div>"
      ],
      "text/plain": [
       "              close     vwap          volume  tradecount   returns  \\\n",
       "date                                                                 \n",
       "2021-06-05  35534.6  36066.4   5532.75325986       39833 -0.035636   \n",
       "2021-06-06  35789.0  35930.0   3187.54640121       23692  0.007159   \n",
       "2021-06-07  33587.6  35319.4   6165.92045486       42615 -0.061511   \n",
       "2021-06-08  33420.0  32712.0  10548.32694320       72896 -0.004990   \n",
       "2021-06-09  36281.7  34685.0   8188.31487431       56248  0.085628   \n",
       "\n",
       "            change_in_price      SMA50     SMA100  Signal  Entry/Exit  \n",
       "date                                                                   \n",
       "2021-06-05                0  47714.530  51769.148     0.0         0.0  \n",
       "2021-06-06                1  47228.606  51663.893     0.0         0.0  \n",
       "2021-06-07                0  46775.562  51538.067     0.0         0.0  \n",
       "2021-06-08                0  46329.562  51419.813     0.0         0.0  \n",
       "2021-06-09                1  45925.196  51286.423     0.0         0.0  "
      ]
     },
     "execution_count": 12,
     "metadata": {},
     "output_type": "execute_result"
    }
   ],
   "source": [
    "mov_avg = generate_signals(btc)\n",
    "mov_avg.tail()"
   ]
  },
  {
   "cell_type": "code",
   "execution_count": 13,
   "metadata": {},
   "outputs": [
    {
     "data": {
      "text/html": [
       "<div>\n",
       "<style scoped>\n",
       "    .dataframe tbody tr th:only-of-type {\n",
       "        vertical-align: middle;\n",
       "    }\n",
       "\n",
       "    .dataframe tbody tr th {\n",
       "        vertical-align: top;\n",
       "    }\n",
       "\n",
       "    .dataframe thead th {\n",
       "        text-align: right;\n",
       "    }\n",
       "</style>\n",
       "<table border=\"1\" class=\"dataframe\">\n",
       "  <thead>\n",
       "    <tr style=\"text-align: right;\">\n",
       "      <th></th>\n",
       "      <th>close</th>\n",
       "      <th>vwap</th>\n",
       "      <th>volume</th>\n",
       "      <th>tradecount</th>\n",
       "      <th>returns</th>\n",
       "      <th>change_in_price</th>\n",
       "      <th>SMA50</th>\n",
       "      <th>SMA100</th>\n",
       "      <th>Signal</th>\n",
       "      <th>Entry/Exit</th>\n",
       "      <th>bollinger_mid_band</th>\n",
       "      <th>bollinger_std</th>\n",
       "      <th>bollinger_upper_band</th>\n",
       "      <th>bollinger_lower_band</th>\n",
       "      <th>bollinger_long</th>\n",
       "      <th>bollinger_short</th>\n",
       "      <th>bollinger_signal</th>\n",
       "    </tr>\n",
       "    <tr>\n",
       "      <th>date</th>\n",
       "      <th></th>\n",
       "      <th></th>\n",
       "      <th></th>\n",
       "      <th></th>\n",
       "      <th></th>\n",
       "      <th></th>\n",
       "      <th></th>\n",
       "      <th></th>\n",
       "      <th></th>\n",
       "      <th></th>\n",
       "      <th></th>\n",
       "      <th></th>\n",
       "      <th></th>\n",
       "      <th></th>\n",
       "      <th></th>\n",
       "      <th></th>\n",
       "      <th></th>\n",
       "    </tr>\n",
       "  </thead>\n",
       "  <tbody>\n",
       "    <tr>\n",
       "      <th>2021-06-05</th>\n",
       "      <td>35534.6</td>\n",
       "      <td>36066.4</td>\n",
       "      <td>5532.75325986</td>\n",
       "      <td>39833</td>\n",
       "      <td>-0.035636</td>\n",
       "      <td>0</td>\n",
       "      <td>47714.530</td>\n",
       "      <td>51769.148</td>\n",
       "      <td>0.0</td>\n",
       "      <td>0.0</td>\n",
       "      <td>37872.175</td>\n",
       "      <td>2412.901126</td>\n",
       "      <td>40285.076126</td>\n",
       "      <td>35459.273874</td>\n",
       "      <td>0.0</td>\n",
       "      <td>0.0</td>\n",
       "      <td>0.0</td>\n",
       "    </tr>\n",
       "    <tr>\n",
       "      <th>2021-06-06</th>\n",
       "      <td>35789.0</td>\n",
       "      <td>35930.0</td>\n",
       "      <td>3187.54640121</td>\n",
       "      <td>23692</td>\n",
       "      <td>0.007159</td>\n",
       "      <td>1</td>\n",
       "      <td>47228.606</td>\n",
       "      <td>51663.893</td>\n",
       "      <td>0.0</td>\n",
       "      <td>0.0</td>\n",
       "      <td>37484.035</td>\n",
       "      <td>2047.953661</td>\n",
       "      <td>39531.988661</td>\n",
       "      <td>35436.081339</td>\n",
       "      <td>0.0</td>\n",
       "      <td>0.0</td>\n",
       "      <td>0.0</td>\n",
       "    </tr>\n",
       "    <tr>\n",
       "      <th>2021-06-07</th>\n",
       "      <td>33587.6</td>\n",
       "      <td>35319.4</td>\n",
       "      <td>6165.92045486</td>\n",
       "      <td>42615</td>\n",
       "      <td>-0.061511</td>\n",
       "      <td>0</td>\n",
       "      <td>46775.562</td>\n",
       "      <td>51538.067</td>\n",
       "      <td>0.0</td>\n",
       "      <td>0.0</td>\n",
       "      <td>37018.655</td>\n",
       "      <td>1795.580802</td>\n",
       "      <td>38814.235802</td>\n",
       "      <td>35223.074198</td>\n",
       "      <td>1.0</td>\n",
       "      <td>0.0</td>\n",
       "      <td>1.0</td>\n",
       "    </tr>\n",
       "    <tr>\n",
       "      <th>2021-06-08</th>\n",
       "      <td>33420.0</td>\n",
       "      <td>32712.0</td>\n",
       "      <td>10548.32694320</td>\n",
       "      <td>72896</td>\n",
       "      <td>-0.004990</td>\n",
       "      <td>0</td>\n",
       "      <td>46329.562</td>\n",
       "      <td>51419.813</td>\n",
       "      <td>0.0</td>\n",
       "      <td>0.0</td>\n",
       "      <td>36852.540</td>\n",
       "      <td>1967.902434</td>\n",
       "      <td>38820.442434</td>\n",
       "      <td>34884.637566</td>\n",
       "      <td>1.0</td>\n",
       "      <td>0.0</td>\n",
       "      <td>1.0</td>\n",
       "    </tr>\n",
       "    <tr>\n",
       "      <th>2021-06-09</th>\n",
       "      <td>36281.7</td>\n",
       "      <td>34685.0</td>\n",
       "      <td>8188.31487431</td>\n",
       "      <td>56248</td>\n",
       "      <td>0.085628</td>\n",
       "      <td>1</td>\n",
       "      <td>45925.196</td>\n",
       "      <td>51286.423</td>\n",
       "      <td>0.0</td>\n",
       "      <td>0.0</td>\n",
       "      <td>36635.895</td>\n",
       "      <td>1759.399142</td>\n",
       "      <td>38395.294142</td>\n",
       "      <td>34876.495858</td>\n",
       "      <td>0.0</td>\n",
       "      <td>0.0</td>\n",
       "      <td>0.0</td>\n",
       "    </tr>\n",
       "  </tbody>\n",
       "</table>\n",
       "</div>"
      ],
      "text/plain": [
       "              close     vwap          volume  tradecount   returns  \\\n",
       "date                                                                 \n",
       "2021-06-05  35534.6  36066.4   5532.75325986       39833 -0.035636   \n",
       "2021-06-06  35789.0  35930.0   3187.54640121       23692  0.007159   \n",
       "2021-06-07  33587.6  35319.4   6165.92045486       42615 -0.061511   \n",
       "2021-06-08  33420.0  32712.0  10548.32694320       72896 -0.004990   \n",
       "2021-06-09  36281.7  34685.0   8188.31487431       56248  0.085628   \n",
       "\n",
       "            change_in_price      SMA50     SMA100  Signal  Entry/Exit  \\\n",
       "date                                                                    \n",
       "2021-06-05                0  47714.530  51769.148     0.0         0.0   \n",
       "2021-06-06                1  47228.606  51663.893     0.0         0.0   \n",
       "2021-06-07                0  46775.562  51538.067     0.0         0.0   \n",
       "2021-06-08                0  46329.562  51419.813     0.0         0.0   \n",
       "2021-06-09                1  45925.196  51286.423     0.0         0.0   \n",
       "\n",
       "            bollinger_mid_band  bollinger_std  bollinger_upper_band  \\\n",
       "date                                                                  \n",
       "2021-06-05           37872.175    2412.901126          40285.076126   \n",
       "2021-06-06           37484.035    2047.953661          39531.988661   \n",
       "2021-06-07           37018.655    1795.580802          38814.235802   \n",
       "2021-06-08           36852.540    1967.902434          38820.442434   \n",
       "2021-06-09           36635.895    1759.399142          38395.294142   \n",
       "\n",
       "            bollinger_lower_band  bollinger_long  bollinger_short  \\\n",
       "date                                                                \n",
       "2021-06-05          35459.273874             0.0              0.0   \n",
       "2021-06-06          35436.081339             0.0              0.0   \n",
       "2021-06-07          35223.074198             1.0              0.0   \n",
       "2021-06-08          34884.637566             1.0              0.0   \n",
       "2021-06-09          34876.495858             0.0              0.0   \n",
       "\n",
       "            bollinger_signal  \n",
       "date                          \n",
       "2021-06-05               0.0  \n",
       "2021-06-06               0.0  \n",
       "2021-06-07               1.0  \n",
       "2021-06-08               1.0  \n",
       "2021-06-09               0.0  "
      ]
     },
     "execution_count": 13,
     "metadata": {},
     "output_type": "execute_result"
    }
   ],
   "source": [
    "bollinger_window = 20\n",
    "\n",
    "# Calculate rolling mean and standard deviation\n",
    "all_sig = mov_avg.copy()\n",
    "all_sig['bollinger_mid_band'] = mov_avg['close'].rolling(window=bollinger_window).mean()\n",
    "all_sig['bollinger_std'] = mov_avg['close'].rolling(window=20).std()\n",
    "\n",
    "# Calculate upper and lowers bands of bollinger band\n",
    "all_sig['bollinger_upper_band']  = all_sig['bollinger_mid_band'] + (all_sig['bollinger_std'] * 1)\n",
    "all_sig['bollinger_lower_band']  = all_sig['bollinger_mid_band'] - (all_sig['bollinger_std'] * 1)\n",
    "\n",
    "# Calculate bollinger band trading signal\n",
    "all_sig['bollinger_long'] = np.where(all_sig['close'] < all_sig['bollinger_lower_band'], 1.0, 0.0)\n",
    "all_sig['bollinger_short'] = np.where(all_sig['close'] > all_sig['bollinger_upper_band'], -1.0, 0.0)\n",
    "all_sig['bollinger_signal'] = all_sig['bollinger_long'] + all_sig['bollinger_short']\n",
    "all_sig.tail()"
   ]
  },
  {
   "cell_type": "code",
   "execution_count": 14,
   "metadata": {},
   "outputs": [],
   "source": [
    "from ta.momentum import RSIIndicator"
   ]
  },
  {
   "cell_type": "code",
   "execution_count": 15,
   "metadata": {},
   "outputs": [
    {
     "data": {
      "text/html": [
       "<div>\n",
       "<style scoped>\n",
       "    .dataframe tbody tr th:only-of-type {\n",
       "        vertical-align: middle;\n",
       "    }\n",
       "\n",
       "    .dataframe tbody tr th {\n",
       "        vertical-align: top;\n",
       "    }\n",
       "\n",
       "    .dataframe thead th {\n",
       "        text-align: right;\n",
       "    }\n",
       "</style>\n",
       "<table border=\"1\" class=\"dataframe\">\n",
       "  <thead>\n",
       "    <tr style=\"text-align: right;\">\n",
       "      <th></th>\n",
       "      <th>close</th>\n",
       "      <th>vwap</th>\n",
       "      <th>volume</th>\n",
       "      <th>tradecount</th>\n",
       "      <th>returns</th>\n",
       "      <th>change_in_price</th>\n",
       "      <th>SMA50</th>\n",
       "      <th>SMA100</th>\n",
       "      <th>Signal</th>\n",
       "      <th>Entry/Exit</th>\n",
       "      <th>...</th>\n",
       "      <th>bollinger_std</th>\n",
       "      <th>bollinger_upper_band</th>\n",
       "      <th>bollinger_lower_band</th>\n",
       "      <th>bollinger_long</th>\n",
       "      <th>bollinger_short</th>\n",
       "      <th>bollinger_signal</th>\n",
       "      <th>RSI</th>\n",
       "      <th>RSI_long</th>\n",
       "      <th>RSI_short</th>\n",
       "      <th>RSI_signal</th>\n",
       "    </tr>\n",
       "    <tr>\n",
       "      <th>date</th>\n",
       "      <th></th>\n",
       "      <th></th>\n",
       "      <th></th>\n",
       "      <th></th>\n",
       "      <th></th>\n",
       "      <th></th>\n",
       "      <th></th>\n",
       "      <th></th>\n",
       "      <th></th>\n",
       "      <th></th>\n",
       "      <th></th>\n",
       "      <th></th>\n",
       "      <th></th>\n",
       "      <th></th>\n",
       "      <th></th>\n",
       "      <th></th>\n",
       "      <th></th>\n",
       "      <th></th>\n",
       "      <th></th>\n",
       "      <th></th>\n",
       "      <th></th>\n",
       "    </tr>\n",
       "  </thead>\n",
       "  <tbody>\n",
       "    <tr>\n",
       "      <th>2021-06-05</th>\n",
       "      <td>35534.6</td>\n",
       "      <td>36066.4</td>\n",
       "      <td>5532.75325986</td>\n",
       "      <td>39833</td>\n",
       "      <td>-0.035636</td>\n",
       "      <td>0</td>\n",
       "      <td>47714.530</td>\n",
       "      <td>51769.148</td>\n",
       "      <td>0.0</td>\n",
       "      <td>0.0</td>\n",
       "      <td>...</td>\n",
       "      <td>2412.901126</td>\n",
       "      <td>40285.076126</td>\n",
       "      <td>35459.273874</td>\n",
       "      <td>0.0</td>\n",
       "      <td>0.0</td>\n",
       "      <td>0.0</td>\n",
       "      <td>37.564257</td>\n",
       "      <td>0.0</td>\n",
       "      <td>0.0</td>\n",
       "      <td>0.0</td>\n",
       "    </tr>\n",
       "    <tr>\n",
       "      <th>2021-06-06</th>\n",
       "      <td>35789.0</td>\n",
       "      <td>35930.0</td>\n",
       "      <td>3187.54640121</td>\n",
       "      <td>23692</td>\n",
       "      <td>0.007159</td>\n",
       "      <td>1</td>\n",
       "      <td>47228.606</td>\n",
       "      <td>51663.893</td>\n",
       "      <td>0.0</td>\n",
       "      <td>0.0</td>\n",
       "      <td>...</td>\n",
       "      <td>2047.953661</td>\n",
       "      <td>39531.988661</td>\n",
       "      <td>35436.081339</td>\n",
       "      <td>0.0</td>\n",
       "      <td>0.0</td>\n",
       "      <td>0.0</td>\n",
       "      <td>38.258192</td>\n",
       "      <td>0.0</td>\n",
       "      <td>0.0</td>\n",
       "      <td>0.0</td>\n",
       "    </tr>\n",
       "    <tr>\n",
       "      <th>2021-06-07</th>\n",
       "      <td>33587.6</td>\n",
       "      <td>35319.4</td>\n",
       "      <td>6165.92045486</td>\n",
       "      <td>42615</td>\n",
       "      <td>-0.061511</td>\n",
       "      <td>0</td>\n",
       "      <td>46775.562</td>\n",
       "      <td>51538.067</td>\n",
       "      <td>0.0</td>\n",
       "      <td>0.0</td>\n",
       "      <td>...</td>\n",
       "      <td>1795.580802</td>\n",
       "      <td>38814.235802</td>\n",
       "      <td>35223.074198</td>\n",
       "      <td>1.0</td>\n",
       "      <td>0.0</td>\n",
       "      <td>1.0</td>\n",
       "      <td>34.667528</td>\n",
       "      <td>0.0</td>\n",
       "      <td>0.0</td>\n",
       "      <td>0.0</td>\n",
       "    </tr>\n",
       "    <tr>\n",
       "      <th>2021-06-08</th>\n",
       "      <td>33420.0</td>\n",
       "      <td>32712.0</td>\n",
       "      <td>10548.32694320</td>\n",
       "      <td>72896</td>\n",
       "      <td>-0.004990</td>\n",
       "      <td>0</td>\n",
       "      <td>46329.562</td>\n",
       "      <td>51419.813</td>\n",
       "      <td>0.0</td>\n",
       "      <td>0.0</td>\n",
       "      <td>...</td>\n",
       "      <td>1967.902434</td>\n",
       "      <td>38820.442434</td>\n",
       "      <td>34884.637566</td>\n",
       "      <td>1.0</td>\n",
       "      <td>0.0</td>\n",
       "      <td>1.0</td>\n",
       "      <td>34.402798</td>\n",
       "      <td>0.0</td>\n",
       "      <td>0.0</td>\n",
       "      <td>0.0</td>\n",
       "    </tr>\n",
       "    <tr>\n",
       "      <th>2021-06-09</th>\n",
       "      <td>36281.7</td>\n",
       "      <td>34685.0</td>\n",
       "      <td>8188.31487431</td>\n",
       "      <td>56248</td>\n",
       "      <td>0.085628</td>\n",
       "      <td>1</td>\n",
       "      <td>45925.196</td>\n",
       "      <td>51286.423</td>\n",
       "      <td>0.0</td>\n",
       "      <td>0.0</td>\n",
       "      <td>...</td>\n",
       "      <td>1759.399142</td>\n",
       "      <td>38395.294142</td>\n",
       "      <td>34876.495858</td>\n",
       "      <td>0.0</td>\n",
       "      <td>0.0</td>\n",
       "      <td>0.0</td>\n",
       "      <td>42.479570</td>\n",
       "      <td>0.0</td>\n",
       "      <td>0.0</td>\n",
       "      <td>0.0</td>\n",
       "    </tr>\n",
       "  </tbody>\n",
       "</table>\n",
       "<p>5 rows × 21 columns</p>\n",
       "</div>"
      ],
      "text/plain": [
       "              close     vwap          volume  tradecount   returns  \\\n",
       "date                                                                 \n",
       "2021-06-05  35534.6  36066.4   5532.75325986       39833 -0.035636   \n",
       "2021-06-06  35789.0  35930.0   3187.54640121       23692  0.007159   \n",
       "2021-06-07  33587.6  35319.4   6165.92045486       42615 -0.061511   \n",
       "2021-06-08  33420.0  32712.0  10548.32694320       72896 -0.004990   \n",
       "2021-06-09  36281.7  34685.0   8188.31487431       56248  0.085628   \n",
       "\n",
       "            change_in_price      SMA50     SMA100  Signal  Entry/Exit  ...  \\\n",
       "date                                                                   ...   \n",
       "2021-06-05                0  47714.530  51769.148     0.0         0.0  ...   \n",
       "2021-06-06                1  47228.606  51663.893     0.0         0.0  ...   \n",
       "2021-06-07                0  46775.562  51538.067     0.0         0.0  ...   \n",
       "2021-06-08                0  46329.562  51419.813     0.0         0.0  ...   \n",
       "2021-06-09                1  45925.196  51286.423     0.0         0.0  ...   \n",
       "\n",
       "            bollinger_std  bollinger_upper_band  bollinger_lower_band  \\\n",
       "date                                                                    \n",
       "2021-06-05    2412.901126          40285.076126          35459.273874   \n",
       "2021-06-06    2047.953661          39531.988661          35436.081339   \n",
       "2021-06-07    1795.580802          38814.235802          35223.074198   \n",
       "2021-06-08    1967.902434          38820.442434          34884.637566   \n",
       "2021-06-09    1759.399142          38395.294142          34876.495858   \n",
       "\n",
       "            bollinger_long  bollinger_short  bollinger_signal        RSI  \\\n",
       "date                                                                       \n",
       "2021-06-05             0.0              0.0               0.0  37.564257   \n",
       "2021-06-06             0.0              0.0               0.0  38.258192   \n",
       "2021-06-07             1.0              0.0               1.0  34.667528   \n",
       "2021-06-08             1.0              0.0               1.0  34.402798   \n",
       "2021-06-09             0.0              0.0               0.0  42.479570   \n",
       "\n",
       "            RSI_long  RSI_short  RSI_signal  \n",
       "date                                         \n",
       "2021-06-05       0.0        0.0         0.0  \n",
       "2021-06-06       0.0        0.0         0.0  \n",
       "2021-06-07       0.0        0.0         0.0  \n",
       "2021-06-08       0.0        0.0         0.0  \n",
       "2021-06-09       0.0        0.0         0.0  \n",
       "\n",
       "[5 rows x 21 columns]"
      ]
     },
     "execution_count": 15,
     "metadata": {},
     "output_type": "execute_result"
    }
   ],
   "source": [
    "rsi_14 = RSIIndicator(close = all_sig.close, window = 14)\n",
    "all_sig[\"RSI\"] = rsi_14.rsi()\n",
    "all_sig[\"RSI_long\"] = np.where(all_sig[\"RSI\"] < 30, 1.0, 0.0)\n",
    "all_sig[\"RSI_short\"] = np.where(all_sig[\"RSI\"] > 70, -1.0, 0.0)\n",
    "all_sig[\"RSI_signal\"] = all_sig[\"RSI_long\"] + all_sig[\"RSI_short\"]\n",
    "all_sig.tail()"
   ]
  },
  {
   "cell_type": "code",
   "execution_count": 16,
   "metadata": {},
   "outputs": [
    {
     "ename": "TypeError",
     "evalue": "'<' not supported between instances of 'float' and 'str'",
     "output_type": "error",
     "traceback": [
      "\u001b[1;31m---------------------------------------------------------------------------\u001b[0m",
      "\u001b[1;31mTypeError\u001b[0m                                 Traceback (most recent call last)",
      "\u001b[1;32m<ipython-input-16-4a78201d27fe>\u001b[0m in \u001b[0;36m<module>\u001b[1;34m\u001b[0m\n\u001b[0;32m      2\u001b[0m \u001b[1;31m# where 0 is when the close is under the VWAP, and\u001b[0m\u001b[1;33m\u001b[0m\u001b[1;33m\u001b[0m\u001b[1;33m\u001b[0m\u001b[0m\n\u001b[0;32m      3\u001b[0m \u001b[1;31m# where 1 is when the close is higher (or crosses over) the VWAP\u001b[0m\u001b[1;33m\u001b[0m\u001b[1;33m\u001b[0m\u001b[1;33m\u001b[0m\u001b[0m\n\u001b[1;32m----> 4\u001b[1;33m \u001b[0mall_sig\u001b[0m\u001b[1;33m[\u001b[0m\u001b[1;34m\"VWAP_long\"\u001b[0m\u001b[1;33m]\u001b[0m \u001b[1;33m=\u001b[0m \u001b[0mnp\u001b[0m\u001b[1;33m.\u001b[0m\u001b[0mwhere\u001b[0m\u001b[1;33m(\u001b[0m\u001b[0mall_sig\u001b[0m\u001b[1;33m[\u001b[0m\u001b[1;34m\"close\"\u001b[0m\u001b[1;33m]\u001b[0m \u001b[1;33m<\u001b[0m \u001b[0mall_sig\u001b[0m\u001b[1;33m[\u001b[0m\u001b[1;34m\"vwap\"\u001b[0m\u001b[1;33m]\u001b[0m\u001b[1;33m,\u001b[0m \u001b[1;36m0\u001b[0m\u001b[1;33m)\u001b[0m\u001b[1;33m\u001b[0m\u001b[1;33m\u001b[0m\u001b[0m\n\u001b[0m\u001b[0;32m      5\u001b[0m \u001b[0mall_sig\u001b[0m\u001b[1;33m[\u001b[0m\u001b[1;34m\"VWAP_short\"\u001b[0m\u001b[1;33m]\u001b[0m \u001b[1;33m=\u001b[0m \u001b[0mnp\u001b[0m\u001b[1;33m.\u001b[0m\u001b[0mwhere\u001b[0m\u001b[1;33m(\u001b[0m\u001b[0mall_sig\u001b[0m\u001b[1;33m[\u001b[0m\u001b[1;34m\"close\"\u001b[0m\u001b[1;33m]\u001b[0m \u001b[1;33m>\u001b[0m \u001b[0mall_sig\u001b[0m\u001b[1;33m[\u001b[0m\u001b[1;34m\"vwap\"\u001b[0m\u001b[1;33m]\u001b[0m\u001b[1;33m,\u001b[0m \u001b[1;36m1\u001b[0m\u001b[1;33m)\u001b[0m\u001b[1;33m\u001b[0m\u001b[1;33m\u001b[0m\u001b[0m\n\u001b[0;32m      6\u001b[0m \u001b[0mall_sig\u001b[0m\u001b[1;33m[\u001b[0m\u001b[1;34m\"VWAP_signal\"\u001b[0m\u001b[1;33m]\u001b[0m \u001b[1;33m=\u001b[0m \u001b[0mall_sig\u001b[0m\u001b[1;33m[\u001b[0m\u001b[1;34m\"VWAP_short\"\u001b[0m\u001b[1;33m]\u001b[0m \u001b[1;33m+\u001b[0m \u001b[0mall_sig\u001b[0m\u001b[1;33m[\u001b[0m\u001b[1;34m\"VWAP_long\"\u001b[0m\u001b[1;33m]\u001b[0m\u001b[1;33m\u001b[0m\u001b[1;33m\u001b[0m\u001b[0m\n",
      "\u001b[1;32mC:\\ProgramData\\Anaconda3\\envs\\dev\\lib\\site-packages\\pandas\\core\\ops\\common.py\u001b[0m in \u001b[0;36mnew_method\u001b[1;34m(self, other)\u001b[0m\n\u001b[0;32m     63\u001b[0m         \u001b[0mother\u001b[0m \u001b[1;33m=\u001b[0m \u001b[0mitem_from_zerodim\u001b[0m\u001b[1;33m(\u001b[0m\u001b[0mother\u001b[0m\u001b[1;33m)\u001b[0m\u001b[1;33m\u001b[0m\u001b[1;33m\u001b[0m\u001b[0m\n\u001b[0;32m     64\u001b[0m \u001b[1;33m\u001b[0m\u001b[0m\n\u001b[1;32m---> 65\u001b[1;33m         \u001b[1;32mreturn\u001b[0m \u001b[0mmethod\u001b[0m\u001b[1;33m(\u001b[0m\u001b[0mself\u001b[0m\u001b[1;33m,\u001b[0m \u001b[0mother\u001b[0m\u001b[1;33m)\u001b[0m\u001b[1;33m\u001b[0m\u001b[1;33m\u001b[0m\u001b[0m\n\u001b[0m\u001b[0;32m     66\u001b[0m \u001b[1;33m\u001b[0m\u001b[0m\n\u001b[0;32m     67\u001b[0m     \u001b[1;32mreturn\u001b[0m \u001b[0mnew_method\u001b[0m\u001b[1;33m\u001b[0m\u001b[1;33m\u001b[0m\u001b[0m\n",
      "\u001b[1;32mC:\\ProgramData\\Anaconda3\\envs\\dev\\lib\\site-packages\\pandas\\core\\arraylike.py\u001b[0m in \u001b[0;36m__lt__\u001b[1;34m(self, other)\u001b[0m\n\u001b[0;32m     35\u001b[0m     \u001b[1;33m@\u001b[0m\u001b[0munpack_zerodim_and_defer\u001b[0m\u001b[1;33m(\u001b[0m\u001b[1;34m\"__lt__\"\u001b[0m\u001b[1;33m)\u001b[0m\u001b[1;33m\u001b[0m\u001b[1;33m\u001b[0m\u001b[0m\n\u001b[0;32m     36\u001b[0m     \u001b[1;32mdef\u001b[0m \u001b[0m__lt__\u001b[0m\u001b[1;33m(\u001b[0m\u001b[0mself\u001b[0m\u001b[1;33m,\u001b[0m \u001b[0mother\u001b[0m\u001b[1;33m)\u001b[0m\u001b[1;33m:\u001b[0m\u001b[1;33m\u001b[0m\u001b[1;33m\u001b[0m\u001b[0m\n\u001b[1;32m---> 37\u001b[1;33m         \u001b[1;32mreturn\u001b[0m \u001b[0mself\u001b[0m\u001b[1;33m.\u001b[0m\u001b[0m_cmp_method\u001b[0m\u001b[1;33m(\u001b[0m\u001b[0mother\u001b[0m\u001b[1;33m,\u001b[0m \u001b[0moperator\u001b[0m\u001b[1;33m.\u001b[0m\u001b[0mlt\u001b[0m\u001b[1;33m)\u001b[0m\u001b[1;33m\u001b[0m\u001b[1;33m\u001b[0m\u001b[0m\n\u001b[0m\u001b[0;32m     38\u001b[0m \u001b[1;33m\u001b[0m\u001b[0m\n\u001b[0;32m     39\u001b[0m     \u001b[1;33m@\u001b[0m\u001b[0munpack_zerodim_and_defer\u001b[0m\u001b[1;33m(\u001b[0m\u001b[1;34m\"__le__\"\u001b[0m\u001b[1;33m)\u001b[0m\u001b[1;33m\u001b[0m\u001b[1;33m\u001b[0m\u001b[0m\n",
      "\u001b[1;32mC:\\ProgramData\\Anaconda3\\envs\\dev\\lib\\site-packages\\pandas\\core\\series.py\u001b[0m in \u001b[0;36m_cmp_method\u001b[1;34m(self, other, op)\u001b[0m\n\u001b[0;32m   4976\u001b[0m         \u001b[0mrvalues\u001b[0m \u001b[1;33m=\u001b[0m \u001b[0mextract_array\u001b[0m\u001b[1;33m(\u001b[0m\u001b[0mother\u001b[0m\u001b[1;33m,\u001b[0m \u001b[0mextract_numpy\u001b[0m\u001b[1;33m=\u001b[0m\u001b[1;32mTrue\u001b[0m\u001b[1;33m)\u001b[0m\u001b[1;33m\u001b[0m\u001b[1;33m\u001b[0m\u001b[0m\n\u001b[0;32m   4977\u001b[0m \u001b[1;33m\u001b[0m\u001b[0m\n\u001b[1;32m-> 4978\u001b[1;33m         \u001b[0mres_values\u001b[0m \u001b[1;33m=\u001b[0m \u001b[0mops\u001b[0m\u001b[1;33m.\u001b[0m\u001b[0mcomparison_op\u001b[0m\u001b[1;33m(\u001b[0m\u001b[0mlvalues\u001b[0m\u001b[1;33m,\u001b[0m \u001b[0mrvalues\u001b[0m\u001b[1;33m,\u001b[0m \u001b[0mop\u001b[0m\u001b[1;33m)\u001b[0m\u001b[1;33m\u001b[0m\u001b[1;33m\u001b[0m\u001b[0m\n\u001b[0m\u001b[0;32m   4979\u001b[0m \u001b[1;33m\u001b[0m\u001b[0m\n\u001b[0;32m   4980\u001b[0m         \u001b[1;32mreturn\u001b[0m \u001b[0mself\u001b[0m\u001b[1;33m.\u001b[0m\u001b[0m_construct_result\u001b[0m\u001b[1;33m(\u001b[0m\u001b[0mres_values\u001b[0m\u001b[1;33m,\u001b[0m \u001b[0mname\u001b[0m\u001b[1;33m=\u001b[0m\u001b[0mres_name\u001b[0m\u001b[1;33m)\u001b[0m\u001b[1;33m\u001b[0m\u001b[1;33m\u001b[0m\u001b[0m\n",
      "\u001b[1;32mC:\\ProgramData\\Anaconda3\\envs\\dev\\lib\\site-packages\\pandas\\core\\ops\\array_ops.py\u001b[0m in \u001b[0;36mcomparison_op\u001b[1;34m(left, right, op)\u001b[0m\n\u001b[0;32m    248\u001b[0m             \u001b[0mwarnings\u001b[0m\u001b[1;33m.\u001b[0m\u001b[0msimplefilter\u001b[0m\u001b[1;33m(\u001b[0m\u001b[1;34m\"ignore\"\u001b[0m\u001b[1;33m,\u001b[0m \u001b[0mDeprecationWarning\u001b[0m\u001b[1;33m)\u001b[0m\u001b[1;33m\u001b[0m\u001b[1;33m\u001b[0m\u001b[0m\n\u001b[0;32m    249\u001b[0m             \u001b[1;32mwith\u001b[0m \u001b[0mnp\u001b[0m\u001b[1;33m.\u001b[0m\u001b[0merrstate\u001b[0m\u001b[1;33m(\u001b[0m\u001b[0mall\u001b[0m\u001b[1;33m=\u001b[0m\u001b[1;34m\"ignore\"\u001b[0m\u001b[1;33m)\u001b[0m\u001b[1;33m:\u001b[0m\u001b[1;33m\u001b[0m\u001b[1;33m\u001b[0m\u001b[0m\n\u001b[1;32m--> 250\u001b[1;33m                 \u001b[0mres_values\u001b[0m \u001b[1;33m=\u001b[0m \u001b[0m_na_arithmetic_op\u001b[0m\u001b[1;33m(\u001b[0m\u001b[0mlvalues\u001b[0m\u001b[1;33m,\u001b[0m \u001b[0mrvalues\u001b[0m\u001b[1;33m,\u001b[0m \u001b[0mop\u001b[0m\u001b[1;33m,\u001b[0m \u001b[0mis_cmp\u001b[0m\u001b[1;33m=\u001b[0m\u001b[1;32mTrue\u001b[0m\u001b[1;33m)\u001b[0m\u001b[1;33m\u001b[0m\u001b[1;33m\u001b[0m\u001b[0m\n\u001b[0m\u001b[0;32m    251\u001b[0m \u001b[1;33m\u001b[0m\u001b[0m\n\u001b[0;32m    252\u001b[0m     \u001b[1;32mreturn\u001b[0m \u001b[0mres_values\u001b[0m\u001b[1;33m\u001b[0m\u001b[1;33m\u001b[0m\u001b[0m\n",
      "\u001b[1;32mC:\\ProgramData\\Anaconda3\\envs\\dev\\lib\\site-packages\\pandas\\core\\ops\\array_ops.py\u001b[0m in \u001b[0;36m_na_arithmetic_op\u001b[1;34m(left, right, op, is_cmp)\u001b[0m\n\u001b[0;32m    140\u001b[0m \u001b[1;33m\u001b[0m\u001b[0m\n\u001b[0;32m    141\u001b[0m     \u001b[1;32mtry\u001b[0m\u001b[1;33m:\u001b[0m\u001b[1;33m\u001b[0m\u001b[1;33m\u001b[0m\u001b[0m\n\u001b[1;32m--> 142\u001b[1;33m         \u001b[0mresult\u001b[0m \u001b[1;33m=\u001b[0m \u001b[0mexpressions\u001b[0m\u001b[1;33m.\u001b[0m\u001b[0mevaluate\u001b[0m\u001b[1;33m(\u001b[0m\u001b[0mop\u001b[0m\u001b[1;33m,\u001b[0m \u001b[0mleft\u001b[0m\u001b[1;33m,\u001b[0m \u001b[0mright\u001b[0m\u001b[1;33m)\u001b[0m\u001b[1;33m\u001b[0m\u001b[1;33m\u001b[0m\u001b[0m\n\u001b[0m\u001b[0;32m    143\u001b[0m     \u001b[1;32mexcept\u001b[0m \u001b[0mTypeError\u001b[0m\u001b[1;33m:\u001b[0m\u001b[1;33m\u001b[0m\u001b[1;33m\u001b[0m\u001b[0m\n\u001b[0;32m    144\u001b[0m         \u001b[1;32mif\u001b[0m \u001b[0mis_cmp\u001b[0m\u001b[1;33m:\u001b[0m\u001b[1;33m\u001b[0m\u001b[1;33m\u001b[0m\u001b[0m\n",
      "\u001b[1;32mC:\\ProgramData\\Anaconda3\\envs\\dev\\lib\\site-packages\\pandas\\core\\computation\\expressions.py\u001b[0m in \u001b[0;36mevaluate\u001b[1;34m(op, a, b, use_numexpr)\u001b[0m\n\u001b[0;32m    233\u001b[0m         \u001b[1;32mif\u001b[0m \u001b[0muse_numexpr\u001b[0m\u001b[1;33m:\u001b[0m\u001b[1;33m\u001b[0m\u001b[1;33m\u001b[0m\u001b[0m\n\u001b[0;32m    234\u001b[0m             \u001b[1;31m# error: \"None\" not callable\u001b[0m\u001b[1;33m\u001b[0m\u001b[1;33m\u001b[0m\u001b[1;33m\u001b[0m\u001b[0m\n\u001b[1;32m--> 235\u001b[1;33m             \u001b[1;32mreturn\u001b[0m \u001b[0m_evaluate\u001b[0m\u001b[1;33m(\u001b[0m\u001b[0mop\u001b[0m\u001b[1;33m,\u001b[0m \u001b[0mop_str\u001b[0m\u001b[1;33m,\u001b[0m \u001b[0ma\u001b[0m\u001b[1;33m,\u001b[0m \u001b[0mb\u001b[0m\u001b[1;33m)\u001b[0m  \u001b[1;31m# type: ignore[misc]\u001b[0m\u001b[1;33m\u001b[0m\u001b[1;33m\u001b[0m\u001b[0m\n\u001b[0m\u001b[0;32m    236\u001b[0m     \u001b[1;32mreturn\u001b[0m \u001b[0m_evaluate_standard\u001b[0m\u001b[1;33m(\u001b[0m\u001b[0mop\u001b[0m\u001b[1;33m,\u001b[0m \u001b[0mop_str\u001b[0m\u001b[1;33m,\u001b[0m \u001b[0ma\u001b[0m\u001b[1;33m,\u001b[0m \u001b[0mb\u001b[0m\u001b[1;33m)\u001b[0m\u001b[1;33m\u001b[0m\u001b[1;33m\u001b[0m\u001b[0m\n\u001b[0;32m    237\u001b[0m \u001b[1;33m\u001b[0m\u001b[0m\n",
      "\u001b[1;32mC:\\ProgramData\\Anaconda3\\envs\\dev\\lib\\site-packages\\pandas\\core\\computation\\expressions.py\u001b[0m in \u001b[0;36m_evaluate_numexpr\u001b[1;34m(op, op_str, a, b)\u001b[0m\n\u001b[0;32m    118\u001b[0m \u001b[1;33m\u001b[0m\u001b[0m\n\u001b[0;32m    119\u001b[0m     \u001b[1;32mif\u001b[0m \u001b[0mresult\u001b[0m \u001b[1;32mis\u001b[0m \u001b[1;32mNone\u001b[0m\u001b[1;33m:\u001b[0m\u001b[1;33m\u001b[0m\u001b[1;33m\u001b[0m\u001b[0m\n\u001b[1;32m--> 120\u001b[1;33m         \u001b[0mresult\u001b[0m \u001b[1;33m=\u001b[0m \u001b[0m_evaluate_standard\u001b[0m\u001b[1;33m(\u001b[0m\u001b[0mop\u001b[0m\u001b[1;33m,\u001b[0m \u001b[0mop_str\u001b[0m\u001b[1;33m,\u001b[0m \u001b[0ma\u001b[0m\u001b[1;33m,\u001b[0m \u001b[0mb\u001b[0m\u001b[1;33m)\u001b[0m\u001b[1;33m\u001b[0m\u001b[1;33m\u001b[0m\u001b[0m\n\u001b[0m\u001b[0;32m    121\u001b[0m \u001b[1;33m\u001b[0m\u001b[0m\n\u001b[0;32m    122\u001b[0m     \u001b[1;32mreturn\u001b[0m \u001b[0mresult\u001b[0m\u001b[1;33m\u001b[0m\u001b[1;33m\u001b[0m\u001b[0m\n",
      "\u001b[1;32mC:\\ProgramData\\Anaconda3\\envs\\dev\\lib\\site-packages\\pandas\\core\\computation\\expressions.py\u001b[0m in \u001b[0;36m_evaluate_standard\u001b[1;34m(op, op_str, a, b)\u001b[0m\n\u001b[0;32m     67\u001b[0m         \u001b[0m_store_test_result\u001b[0m\u001b[1;33m(\u001b[0m\u001b[1;32mFalse\u001b[0m\u001b[1;33m)\u001b[0m\u001b[1;33m\u001b[0m\u001b[1;33m\u001b[0m\u001b[0m\n\u001b[0;32m     68\u001b[0m     \u001b[1;32mwith\u001b[0m \u001b[0mnp\u001b[0m\u001b[1;33m.\u001b[0m\u001b[0merrstate\u001b[0m\u001b[1;33m(\u001b[0m\u001b[0mall\u001b[0m\u001b[1;33m=\u001b[0m\u001b[1;34m\"ignore\"\u001b[0m\u001b[1;33m)\u001b[0m\u001b[1;33m:\u001b[0m\u001b[1;33m\u001b[0m\u001b[1;33m\u001b[0m\u001b[0m\n\u001b[1;32m---> 69\u001b[1;33m         \u001b[1;32mreturn\u001b[0m \u001b[0mop\u001b[0m\u001b[1;33m(\u001b[0m\u001b[0ma\u001b[0m\u001b[1;33m,\u001b[0m \u001b[0mb\u001b[0m\u001b[1;33m)\u001b[0m\u001b[1;33m\u001b[0m\u001b[1;33m\u001b[0m\u001b[0m\n\u001b[0m\u001b[0;32m     70\u001b[0m \u001b[1;33m\u001b[0m\u001b[0m\n\u001b[0;32m     71\u001b[0m \u001b[1;33m\u001b[0m\u001b[0m\n",
      "\u001b[1;31mTypeError\u001b[0m: '<' not supported between instances of 'float' and 'str'"
     ]
    }
   ],
   "source": [
    "# Generate the trading signal 0 or 1,\n",
    "# where 0 is when the close is under the VWAP, and\n",
    "# where 1 is when the close is higher (or crosses over) the VWAP\n",
    "all_sig[\"VWAP_long\"] = np.where(all_sig[\"close\"] < all_sig[\"vwap\"], 0)\n",
    "all_sig[\"VWAP_short\"] = np.where(all_sig[\"close\"] > all_sig[\"vwap\"], 1)\n",
    "all_sig[\"VWAP_signal\"] = all_sig[\"VWAP_short\"] + all_sig[\"VWAP_long\"]\n",
    "all_sig.tail()\n"
   ]
  },
  {
   "cell_type": "markdown",
   "metadata": {},
   "source": [
    "# PCA Analysis "
   ]
  },
  {
   "cell_type": "code",
   "execution_count": null,
   "metadata": {},
   "outputs": [],
   "source": []
  },
  {
   "cell_type": "code",
   "execution_count": null,
   "metadata": {},
   "outputs": [],
   "source": [
    "#all_sig_pca = all_sig.dropna()"
   ]
  },
  {
   "cell_type": "code",
   "execution_count": null,
   "metadata": {},
   "outputs": [],
   "source": [
    "#sig_scaled = StandardScaler().fit_transform(all_sig_pca)\n",
    "#all_sig_scaled = pd.DataFrame(data=sig_scaled)\n",
    "#all_sig_scaled = all_sig"
   ]
  },
  {
   "cell_type": "code",
   "execution_count": null,
   "metadata": {},
   "outputs": [],
   "source": [
    "#pca = PCA(n_components=3)\n",
    "#sig_pca = pca.fit_transform(sig_scaled)\n",
    "#sig_df = pd.DataFrame(data=sig_pca, columns=[\"pc1\", \"pc2\", \"pc3\"])\n",
    "#sig_df"
   ]
  },
  {
   "cell_type": "code",
   "execution_count": null,
   "metadata": {},
   "outputs": [],
   "source": [
    "#pca.explained_variance_ratio_"
   ]
  },
  {
   "cell_type": "markdown",
   "metadata": {},
   "source": [
    "# Random Forest PCA"
   ]
  },
  {
   "cell_type": "code",
   "execution_count": null,
   "metadata": {},
   "outputs": [],
   "source": [
    "#avg_chng = all_sig[\"returns\"]"
   ]
  },
  {
   "cell_type": "code",
   "execution_count": null,
   "metadata": {},
   "outputs": [],
   "source": [
    "#X = sig_df.copy()\n",
    "#X.head()"
   ]
  },
  {
   "cell_type": "code",
   "execution_count": null,
   "metadata": {},
   "outputs": [],
   "source": [
    "#y=all_sig['returns'].values.reshape(-1,1)\n",
    "#y=y[99:]\n",
    "#y[:5]"
   ]
  },
  {
   "cell_type": "code",
   "execution_count": null,
   "metadata": {},
   "outputs": [],
   "source": []
  },
  {
   "cell_type": "markdown",
   "metadata": {},
   "source": [
    "# Random Forest With Raw Variables"
   ]
  },
  {
   "cell_type": "code",
   "execution_count": null,
   "metadata": {},
   "outputs": [],
   "source": [
    "X = all_sig.copy()\n",
    "X.dropna(inplace=True)\n",
    "X.drop(columns=['close','returns','change_in_price'], inplace=True)\n",
    "X.head()"
   ]
  },
  {
   "cell_type": "code",
   "execution_count": null,
   "metadata": {},
   "outputs": [],
   "source": [
    "y=all_sig['change_in_price'].values.reshape(-1,1)\n",
    "y=y[99:]\n",
    "y[:5]"
   ]
  },
  {
   "cell_type": "code",
   "execution_count": null,
   "metadata": {},
   "outputs": [],
   "source": [
    "X_train, X_test, y_train, y_test = train_test_split(X, y, random_state=78)"
   ]
  },
  {
   "cell_type": "code",
   "execution_count": null,
   "metadata": {},
   "outputs": [],
   "source": [
    "scaler = StandardScaler()"
   ]
  },
  {
   "cell_type": "code",
   "execution_count": null,
   "metadata": {},
   "outputs": [],
   "source": [
    "X_scaler = scaler.fit(X_train)"
   ]
  },
  {
   "cell_type": "code",
   "execution_count": null,
   "metadata": {},
   "outputs": [],
   "source": [
    "X_train_scaled = X_scaler.transform(X_train)\n",
    "X_test_scaled = X_scaler.transform(X_test)"
   ]
  },
  {
   "cell_type": "code",
   "execution_count": null,
   "metadata": {},
   "outputs": [],
   "source": [
    "rf_model = RandomForestClassifier(n_estimators=100, random_state=78)"
   ]
  },
  {
   "cell_type": "code",
   "execution_count": null,
   "metadata": {},
   "outputs": [],
   "source": [
    "rf_model = rf_model.fit(X_train_scaled, y_train)"
   ]
  },
  {
   "cell_type": "code",
   "execution_count": null,
   "metadata": {},
   "outputs": [],
   "source": [
    "predictions = rf_model.predict(X_test_scaled)"
   ]
  },
  {
   "cell_type": "code",
   "execution_count": null,
   "metadata": {},
   "outputs": [],
   "source": [
    "cm = confusion_matrix(y_test, predictions)\n",
    "cm_df = pd.DataFrame(\n",
    "    cm, index=[\"Actual 0\", \"Actual 1\"], columns=[\"Predicted 0\", \"Predicted 1\"]\n",
    ")\n",
    "\n",
    "acc_score = accuracy_score(y_test, predictions)"
   ]
  },
  {
   "cell_type": "code",
   "execution_count": null,
   "metadata": {},
   "outputs": [],
   "source": [
    "print(\"Confusion Matrix\")\n",
    "display(cm_df)\n",
    "print(f\"Accuracy Score : {acc_score}\")\n",
    "print(\"Classification Report\")\n",
    "print(classification_report(y_test, predictions))"
   ]
  },
  {
   "cell_type": "code",
   "execution_count": null,
   "metadata": {},
   "outputs": [],
   "source": [
    "importances = rf_model.feature_importances_"
   ]
  },
  {
   "cell_type": "code",
   "execution_count": null,
   "metadata": {},
   "outputs": [],
   "source": [
    "importances_sorted = sorted(zip(rf_model.feature_importances_, X.columns), reverse=True)\n",
    "importances_sorted[:10]"
   ]
  },
  {
   "cell_type": "code",
   "execution_count": null,
   "metadata": {},
   "outputs": [],
   "source": [
    "importances = pd.DataFrame(sorted(zip(rf_model.feature_importances_, X.columns), reverse=True))\n",
    "importances.set_index(importances[1], inplace=True)\n",
    "importances.drop(columns=1, inplace=True)\n",
    "importances.rename(columns={0: 'Feature Importances'}, inplace=True)\n",
    "importances_sorted = importances.sort_values(by='Feature Importances')\n",
    "importances_sorted.plot(kind='barh', color='lightgreen', title= 'Features Importances', legend=False)"
   ]
  },
  {
   "cell_type": "markdown",
   "metadata": {},
   "source": [
    "# Random Forest Training for Algo Trading"
   ]
  },
  {
   "cell_type": "markdown",
   "metadata": {},
   "source": [
    "##### From day 3 Algo Trading Module"
   ]
  },
  {
   "cell_type": "code",
   "execution_count": null,
   "metadata": {},
   "outputs": [],
   "source": [
    "all_sig"
   ]
  },
  {
   "cell_type": "code",
   "execution_count": null,
   "metadata": {},
   "outputs": [],
   "source": [
    "x_var_list = ['Signal', 'Entry/Exit']\n",
    "all_sig[x_var_list]"
   ]
  },
  {
   "cell_type": "code",
   "execution_count": null,
   "metadata": {},
   "outputs": [],
   "source": [
    "all_sig.dropna(subset=x_var_list, inplace=True)\n",
    "all_sig.dropna(subset=['returns'],inplace=True)\n",
    "all_sig = all_sig.replace([np.inf, -np.inf], np.nan)\n",
    "all_sig.head()"
   ]
  },
  {
   "cell_type": "code",
   "execution_count": null,
   "metadata": {},
   "outputs": [],
   "source": [
    "all_sig['Positive Return'] = np.where(all_sig['returns'] > 0, 1.0, 0.0)\n",
    "all_sig"
   ]
  },
  {
   "cell_type": "code",
   "execution_count": null,
   "metadata": {},
   "outputs": [],
   "source": [
    "training_start = all_sig.index.min().strftime(format='%Y-%m-%d')\n",
    "training_end = '2019-12-31'\n",
    "testing_start = '2019-06-21'\n",
    "testing_end = all_sig.index.max().strftime(format='%Y-%m-%d')\n",
    "print(f\"Training Start: {training_start}\")\n",
    "print(f\"Training End: {training_end}\")\n",
    "print(f\"Testing Start: {testing_start}\")\n",
    "print(f\"Testing End: {testing_end}\")"
   ]
  },
  {
   "cell_type": "code",
   "execution_count": null,
   "metadata": {},
   "outputs": [],
   "source": [
    "# Construct the X_train and y_train datasets\n",
    "X_train = all_sig[x_var_list][training_start:training_end]\n",
    "y_train = all_sig['Positive Return'][training_start:training_end]\n",
    "\n",
    "X_train.tail()"
   ]
  },
  {
   "cell_type": "code",
   "execution_count": null,
   "metadata": {},
   "outputs": [],
   "source": [
    "y_train.tail()"
   ]
  },
  {
   "cell_type": "code",
   "execution_count": null,
   "metadata": {},
   "outputs": [],
   "source": [
    "# Construct the X test and y test datasets\n",
    "X_test = all_sig[x_var_list][testing_start:testing_end]\n",
    "y_test = all_sig['Positive Return'][testing_start:testing_end]\n",
    "\n",
    "X_test.tail()"
   ]
  },
  {
   "cell_type": "code",
   "execution_count": null,
   "metadata": {},
   "outputs": [],
   "source": [
    "y_test.tail()"
   ]
  },
  {
   "cell_type": "code",
   "execution_count": null,
   "metadata": {},
   "outputs": [],
   "source": [
    "from sklearn.ensemble import RandomForestClassifier\n",
    "from sklearn.datasets import make_classification"
   ]
  },
  {
   "cell_type": "code",
   "execution_count": null,
   "metadata": {},
   "outputs": [],
   "source": [
    "# Fit a SKLearn linear regression using just the training set (X_train, Y_train):\n",
    "model = RandomForestClassifier(n_estimators=100, max_depth=3, random_state=0)\n",
    "model.fit(X_train, y_train)\n",
    "\n",
    "# Make a prediction of \"y\" values from the X_test dataset\n",
    "predictions = model.predict(X_test)\n",
    "\n",
    "# Assemble actual y data (Y_test) with predicted y data (from just above) into two columns in a dataframe:\n",
    "Results = y_test.to_frame()\n",
    "Results[\"Predicted Value\"] = predictions\n",
    "Results"
   ]
  },
  {
   "cell_type": "code",
   "execution_count": null,
   "metadata": {},
   "outputs": [],
   "source": [
    "# Save the pre-trained model\n",
    "from joblib import dump, load\n",
    "dump(model, 'random_forest_model.joblib')"
   ]
  },
  {
   "cell_type": "code",
   "execution_count": null,
   "metadata": {},
   "outputs": [],
   "source": []
  },
  {
   "cell_type": "code",
   "execution_count": null,
   "metadata": {},
   "outputs": [],
   "source": []
  },
  {
   "cell_type": "markdown",
   "metadata": {},
   "source": [
    "### Plot Cumulative Returns:"
   ]
  },
  {
   "cell_type": "code",
   "execution_count": null,
   "metadata": {},
   "outputs": [],
   "source": [
    "initial_capital = 1000000"
   ]
  },
  {
   "cell_type": "code",
   "execution_count": null,
   "metadata": {},
   "outputs": [],
   "source": [
    "cumulative_return_capital = initial_capital * (1 + (result['Return'] * results['Predicted Value']\n"
   ]
  },
  {
   "cell_type": "markdown",
   "metadata": {},
   "source": [
    "# Deep Learning Price Prediction: "
   ]
  },
  {
   "cell_type": "code",
   "execution_count": null,
   "metadata": {},
   "outputs": [],
   "source": [
    "import numpy as np\n",
    "import pandas as pd\n",
    "import hvplot.pandas\n",
    "\n",
    "from sklearn.datasets import make_blobs, make_moons\n",
    "from sklearn.model_selection import train_test_split\n",
    "from sklearn.preprocessing import StandardScaler\n",
    "from tensorflow.keras.models import Sequential\n",
    "from tensorflow.keras.layers import Dense"
   ]
  },
  {
   "cell_type": "code",
   "execution_count": null,
   "metadata": {},
   "outputs": [],
   "source": [
    "# Set the random seed for reproducibility\n",
    "# Note: This is for the homework solution, but it is good practice to comment this out and run multiple experiments to evaluate your model\n",
    "from numpy.random import seed\n",
    "seed(1)\n",
    "from tensorflow import random\n",
    "random.set_seed(2)"
   ]
  },
  {
   "cell_type": "code",
   "execution_count": 17,
   "metadata": {},
   "outputs": [
    {
     "data": {
      "text/html": [
       "<div>\n",
       "<style scoped>\n",
       "    .dataframe tbody tr th:only-of-type {\n",
       "        vertical-align: middle;\n",
       "    }\n",
       "\n",
       "    .dataframe tbody tr th {\n",
       "        vertical-align: top;\n",
       "    }\n",
       "\n",
       "    .dataframe thead th {\n",
       "        text-align: right;\n",
       "    }\n",
       "</style>\n",
       "<table border=\"1\" class=\"dataframe\">\n",
       "  <thead>\n",
       "    <tr style=\"text-align: right;\">\n",
       "      <th></th>\n",
       "      <th>vwap</th>\n",
       "      <th>volume</th>\n",
       "      <th>tradecount</th>\n",
       "      <th>change_in_price</th>\n",
       "      <th>SMA50</th>\n",
       "      <th>SMA100</th>\n",
       "      <th>Signal</th>\n",
       "      <th>Entry/Exit</th>\n",
       "      <th>bollinger_mid_band</th>\n",
       "      <th>bollinger_std</th>\n",
       "      <th>bollinger_upper_band</th>\n",
       "      <th>bollinger_lower_band</th>\n",
       "      <th>bollinger_long</th>\n",
       "      <th>bollinger_short</th>\n",
       "      <th>bollinger_signal</th>\n",
       "      <th>RSI</th>\n",
       "      <th>RSI_long</th>\n",
       "      <th>RSI_short</th>\n",
       "      <th>RSI_signal</th>\n",
       "    </tr>\n",
       "    <tr>\n",
       "      <th>date</th>\n",
       "      <th></th>\n",
       "      <th></th>\n",
       "      <th></th>\n",
       "      <th></th>\n",
       "      <th></th>\n",
       "      <th></th>\n",
       "      <th></th>\n",
       "      <th></th>\n",
       "      <th></th>\n",
       "      <th></th>\n",
       "      <th></th>\n",
       "      <th></th>\n",
       "      <th></th>\n",
       "      <th></th>\n",
       "      <th></th>\n",
       "      <th></th>\n",
       "      <th></th>\n",
       "      <th></th>\n",
       "      <th></th>\n",
       "    </tr>\n",
       "  </thead>\n",
       "  <tbody>\n",
       "    <tr>\n",
       "      <th>2019-06-22</th>\n",
       "      <td>10665.9</td>\n",
       "      <td>12842.48586265</td>\n",
       "      <td>54100</td>\n",
       "      <td>1</td>\n",
       "      <td>NaN</td>\n",
       "      <td>NaN</td>\n",
       "      <td>0.0</td>\n",
       "      <td>NaN</td>\n",
       "      <td>NaN</td>\n",
       "      <td>NaN</td>\n",
       "      <td>NaN</td>\n",
       "      <td>NaN</td>\n",
       "      <td>0.0</td>\n",
       "      <td>0.0</td>\n",
       "      <td>0.0</td>\n",
       "      <td>NaN</td>\n",
       "      <td>0.0</td>\n",
       "      <td>0.0</td>\n",
       "      <td>0.0</td>\n",
       "    </tr>\n",
       "    <tr>\n",
       "      <th>2019-06-23</th>\n",
       "      <td>10837.5</td>\n",
       "      <td>5943.46891708</td>\n",
       "      <td>34849</td>\n",
       "      <td>1</td>\n",
       "      <td>NaN</td>\n",
       "      <td>NaN</td>\n",
       "      <td>0.0</td>\n",
       "      <td>0.0</td>\n",
       "      <td>NaN</td>\n",
       "      <td>NaN</td>\n",
       "      <td>NaN</td>\n",
       "      <td>NaN</td>\n",
       "      <td>0.0</td>\n",
       "      <td>0.0</td>\n",
       "      <td>0.0</td>\n",
       "      <td>NaN</td>\n",
       "      <td>0.0</td>\n",
       "      <td>0.0</td>\n",
       "      <td>0.0</td>\n",
       "    </tr>\n",
       "    <tr>\n",
       "      <th>2019-06-24</th>\n",
       "      <td>10843.5</td>\n",
       "      <td>5457.41272587</td>\n",
       "      <td>26308</td>\n",
       "      <td>1</td>\n",
       "      <td>NaN</td>\n",
       "      <td>NaN</td>\n",
       "      <td>0.0</td>\n",
       "      <td>0.0</td>\n",
       "      <td>NaN</td>\n",
       "      <td>NaN</td>\n",
       "      <td>NaN</td>\n",
       "      <td>NaN</td>\n",
       "      <td>0.0</td>\n",
       "      <td>0.0</td>\n",
       "      <td>0.0</td>\n",
       "      <td>NaN</td>\n",
       "      <td>0.0</td>\n",
       "      <td>0.0</td>\n",
       "      <td>0.0</td>\n",
       "    </tr>\n",
       "    <tr>\n",
       "      <th>2019-06-25</th>\n",
       "      <td>11340.2</td>\n",
       "      <td>11623.88144358</td>\n",
       "      <td>40223</td>\n",
       "      <td>1</td>\n",
       "      <td>NaN</td>\n",
       "      <td>NaN</td>\n",
       "      <td>0.0</td>\n",
       "      <td>0.0</td>\n",
       "      <td>NaN</td>\n",
       "      <td>NaN</td>\n",
       "      <td>NaN</td>\n",
       "      <td>NaN</td>\n",
       "      <td>0.0</td>\n",
       "      <td>0.0</td>\n",
       "      <td>0.0</td>\n",
       "      <td>NaN</td>\n",
       "      <td>0.0</td>\n",
       "      <td>0.0</td>\n",
       "      <td>0.0</td>\n",
       "    </tr>\n",
       "    <tr>\n",
       "      <th>2019-06-26</th>\n",
       "      <td>12684.3</td>\n",
       "      <td>25637.82859518</td>\n",
       "      <td>100171</td>\n",
       "      <td>1</td>\n",
       "      <td>NaN</td>\n",
       "      <td>NaN</td>\n",
       "      <td>0.0</td>\n",
       "      <td>0.0</td>\n",
       "      <td>NaN</td>\n",
       "      <td>NaN</td>\n",
       "      <td>NaN</td>\n",
       "      <td>NaN</td>\n",
       "      <td>0.0</td>\n",
       "      <td>0.0</td>\n",
       "      <td>0.0</td>\n",
       "      <td>NaN</td>\n",
       "      <td>0.0</td>\n",
       "      <td>0.0</td>\n",
       "      <td>0.0</td>\n",
       "    </tr>\n",
       "    <tr>\n",
       "      <th>...</th>\n",
       "      <td>...</td>\n",
       "      <td>...</td>\n",
       "      <td>...</td>\n",
       "      <td>...</td>\n",
       "      <td>...</td>\n",
       "      <td>...</td>\n",
       "      <td>...</td>\n",
       "      <td>...</td>\n",
       "      <td>...</td>\n",
       "      <td>...</td>\n",
       "      <td>...</td>\n",
       "      <td>...</td>\n",
       "      <td>...</td>\n",
       "      <td>...</td>\n",
       "      <td>...</td>\n",
       "      <td>...</td>\n",
       "      <td>...</td>\n",
       "      <td>...</td>\n",
       "      <td>...</td>\n",
       "    </tr>\n",
       "    <tr>\n",
       "      <th>2021-06-05</th>\n",
       "      <td>36066.4</td>\n",
       "      <td>5532.75325986</td>\n",
       "      <td>39833</td>\n",
       "      <td>0</td>\n",
       "      <td>47714.530</td>\n",
       "      <td>51769.148</td>\n",
       "      <td>0.0</td>\n",
       "      <td>0.0</td>\n",
       "      <td>37872.175</td>\n",
       "      <td>2412.901126</td>\n",
       "      <td>40285.076126</td>\n",
       "      <td>35459.273874</td>\n",
       "      <td>0.0</td>\n",
       "      <td>0.0</td>\n",
       "      <td>0.0</td>\n",
       "      <td>37.564257</td>\n",
       "      <td>0.0</td>\n",
       "      <td>0.0</td>\n",
       "      <td>0.0</td>\n",
       "    </tr>\n",
       "    <tr>\n",
       "      <th>2021-06-06</th>\n",
       "      <td>35930.0</td>\n",
       "      <td>3187.54640121</td>\n",
       "      <td>23692</td>\n",
       "      <td>1</td>\n",
       "      <td>47228.606</td>\n",
       "      <td>51663.893</td>\n",
       "      <td>0.0</td>\n",
       "      <td>0.0</td>\n",
       "      <td>37484.035</td>\n",
       "      <td>2047.953661</td>\n",
       "      <td>39531.988661</td>\n",
       "      <td>35436.081339</td>\n",
       "      <td>0.0</td>\n",
       "      <td>0.0</td>\n",
       "      <td>0.0</td>\n",
       "      <td>38.258192</td>\n",
       "      <td>0.0</td>\n",
       "      <td>0.0</td>\n",
       "      <td>0.0</td>\n",
       "    </tr>\n",
       "    <tr>\n",
       "      <th>2021-06-07</th>\n",
       "      <td>35319.4</td>\n",
       "      <td>6165.92045486</td>\n",
       "      <td>42615</td>\n",
       "      <td>0</td>\n",
       "      <td>46775.562</td>\n",
       "      <td>51538.067</td>\n",
       "      <td>0.0</td>\n",
       "      <td>0.0</td>\n",
       "      <td>37018.655</td>\n",
       "      <td>1795.580802</td>\n",
       "      <td>38814.235802</td>\n",
       "      <td>35223.074198</td>\n",
       "      <td>1.0</td>\n",
       "      <td>0.0</td>\n",
       "      <td>1.0</td>\n",
       "      <td>34.667528</td>\n",
       "      <td>0.0</td>\n",
       "      <td>0.0</td>\n",
       "      <td>0.0</td>\n",
       "    </tr>\n",
       "    <tr>\n",
       "      <th>2021-06-08</th>\n",
       "      <td>32712.0</td>\n",
       "      <td>10548.32694320</td>\n",
       "      <td>72896</td>\n",
       "      <td>0</td>\n",
       "      <td>46329.562</td>\n",
       "      <td>51419.813</td>\n",
       "      <td>0.0</td>\n",
       "      <td>0.0</td>\n",
       "      <td>36852.540</td>\n",
       "      <td>1967.902434</td>\n",
       "      <td>38820.442434</td>\n",
       "      <td>34884.637566</td>\n",
       "      <td>1.0</td>\n",
       "      <td>0.0</td>\n",
       "      <td>1.0</td>\n",
       "      <td>34.402798</td>\n",
       "      <td>0.0</td>\n",
       "      <td>0.0</td>\n",
       "      <td>0.0</td>\n",
       "    </tr>\n",
       "    <tr>\n",
       "      <th>2021-06-09</th>\n",
       "      <td>34685.0</td>\n",
       "      <td>8188.31487431</td>\n",
       "      <td>56248</td>\n",
       "      <td>1</td>\n",
       "      <td>45925.196</td>\n",
       "      <td>51286.423</td>\n",
       "      <td>0.0</td>\n",
       "      <td>0.0</td>\n",
       "      <td>36635.895</td>\n",
       "      <td>1759.399142</td>\n",
       "      <td>38395.294142</td>\n",
       "      <td>34876.495858</td>\n",
       "      <td>0.0</td>\n",
       "      <td>0.0</td>\n",
       "      <td>0.0</td>\n",
       "      <td>42.479570</td>\n",
       "      <td>0.0</td>\n",
       "      <td>0.0</td>\n",
       "      <td>0.0</td>\n",
       "    </tr>\n",
       "  </tbody>\n",
       "</table>\n",
       "<p>719 rows × 19 columns</p>\n",
       "</div>"
      ],
      "text/plain": [
       "               vwap          volume  tradecount  change_in_price      SMA50  \\\n",
       "date                                                                          \n",
       "2019-06-22  10665.9  12842.48586265       54100                1        NaN   \n",
       "2019-06-23  10837.5   5943.46891708       34849                1        NaN   \n",
       "2019-06-24  10843.5   5457.41272587       26308                1        NaN   \n",
       "2019-06-25  11340.2  11623.88144358       40223                1        NaN   \n",
       "2019-06-26  12684.3  25637.82859518      100171                1        NaN   \n",
       "...             ...             ...         ...              ...        ...   \n",
       "2021-06-05  36066.4   5532.75325986       39833                0  47714.530   \n",
       "2021-06-06  35930.0   3187.54640121       23692                1  47228.606   \n",
       "2021-06-07  35319.4   6165.92045486       42615                0  46775.562   \n",
       "2021-06-08  32712.0  10548.32694320       72896                0  46329.562   \n",
       "2021-06-09  34685.0   8188.31487431       56248                1  45925.196   \n",
       "\n",
       "               SMA100  Signal  Entry/Exit  bollinger_mid_band  bollinger_std  \\\n",
       "date                                                                           \n",
       "2019-06-22        NaN     0.0         NaN                 NaN            NaN   \n",
       "2019-06-23        NaN     0.0         0.0                 NaN            NaN   \n",
       "2019-06-24        NaN     0.0         0.0                 NaN            NaN   \n",
       "2019-06-25        NaN     0.0         0.0                 NaN            NaN   \n",
       "2019-06-26        NaN     0.0         0.0                 NaN            NaN   \n",
       "...               ...     ...         ...                 ...            ...   \n",
       "2021-06-05  51769.148     0.0         0.0           37872.175    2412.901126   \n",
       "2021-06-06  51663.893     0.0         0.0           37484.035    2047.953661   \n",
       "2021-06-07  51538.067     0.0         0.0           37018.655    1795.580802   \n",
       "2021-06-08  51419.813     0.0         0.0           36852.540    1967.902434   \n",
       "2021-06-09  51286.423     0.0         0.0           36635.895    1759.399142   \n",
       "\n",
       "            bollinger_upper_band  bollinger_lower_band  bollinger_long  \\\n",
       "date                                                                     \n",
       "2019-06-22                   NaN                   NaN             0.0   \n",
       "2019-06-23                   NaN                   NaN             0.0   \n",
       "2019-06-24                   NaN                   NaN             0.0   \n",
       "2019-06-25                   NaN                   NaN             0.0   \n",
       "2019-06-26                   NaN                   NaN             0.0   \n",
       "...                          ...                   ...             ...   \n",
       "2021-06-05          40285.076126          35459.273874             0.0   \n",
       "2021-06-06          39531.988661          35436.081339             0.0   \n",
       "2021-06-07          38814.235802          35223.074198             1.0   \n",
       "2021-06-08          38820.442434          34884.637566             1.0   \n",
       "2021-06-09          38395.294142          34876.495858             0.0   \n",
       "\n",
       "            bollinger_short  bollinger_signal        RSI  RSI_long  RSI_short  \\\n",
       "date                                                                            \n",
       "2019-06-22              0.0               0.0        NaN       0.0        0.0   \n",
       "2019-06-23              0.0               0.0        NaN       0.0        0.0   \n",
       "2019-06-24              0.0               0.0        NaN       0.0        0.0   \n",
       "2019-06-25              0.0               0.0        NaN       0.0        0.0   \n",
       "2019-06-26              0.0               0.0        NaN       0.0        0.0   \n",
       "...                     ...               ...        ...       ...        ...   \n",
       "2021-06-05              0.0               0.0  37.564257       0.0        0.0   \n",
       "2021-06-06              0.0               0.0  38.258192       0.0        0.0   \n",
       "2021-06-07              0.0               1.0  34.667528       0.0        0.0   \n",
       "2021-06-08              0.0               1.0  34.402798       0.0        0.0   \n",
       "2021-06-09              0.0               0.0  42.479570       0.0        0.0   \n",
       "\n",
       "            RSI_signal  \n",
       "date                    \n",
       "2019-06-22         0.0  \n",
       "2019-06-23         0.0  \n",
       "2019-06-24         0.0  \n",
       "2019-06-25         0.0  \n",
       "2019-06-26         0.0  \n",
       "...                ...  \n",
       "2021-06-05         0.0  \n",
       "2021-06-06         0.0  \n",
       "2021-06-07         0.0  \n",
       "2021-06-08         0.0  \n",
       "2021-06-09         0.0  \n",
       "\n",
       "[719 rows x 19 columns]"
      ]
     },
     "execution_count": 17,
     "metadata": {},
     "output_type": "execute_result"
    }
   ],
   "source": [
    "all_sig = all_sig.drop(columns=[\"close\", \"returns\"])\n",
    "all_sig"
   ]
  },
  {
   "cell_type": "code",
   "execution_count": 18,
   "metadata": {},
   "outputs": [],
   "source": [
    "def window_data(all_sig, window, feature_col_number, target_col_number):\n",
    "    X = []\n",
    "    y = []\n",
    "    for i in range(len(all_sig) - window - 1):\n",
    "        features = all_sig.iloc[i:(i + window), feature_col_number]\n",
    "        target = all_sig.iloc[(i + window), target_col_number]\n",
    "        X.append(features)\n",
    "        y.append(target)\n",
    "    return np.array(X), np.array(y).reshape(-1, 1)"
   ]
  },
  {
   "cell_type": "code",
   "execution_count": 19,
   "metadata": {},
   "outputs": [],
   "source": [
    "# Predict Closing Prices using a 10 day window of previous closing prices\n",
    "# Then, experiment with window sizes anywhere from 1 to 10 and see how the model performance changes\n",
    "window_size = 10\n",
    "\n",
    "# Column index 0 is the 'fng_value' column\n",
    "# Column index 1 is the `Close` column\n",
    "feature_column = 0\n",
    "target_column = 1\n",
    "X, y = window_data(all_sig, window_size, feature_column, target_column)"
   ]
  },
  {
   "cell_type": "code",
   "execution_count": 20,
   "metadata": {},
   "outputs": [],
   "source": [
    "# Use 70% of the data for training and the remaineder for testing\n",
    "split = int(0.7 * len(X))\n",
    "X_train = X[: split]\n",
    "X_test = X[split:]\n",
    "y_train = y[: split]\n",
    "y_test = y[split:]"
   ]
  },
  {
   "cell_type": "code",
   "execution_count": 21,
   "metadata": {},
   "outputs": [],
   "source": [
    "from sklearn.preprocessing import MinMaxScaler\n",
    "# Use the MinMaxScaler to scale data between 0 and 1.\n",
    "x_train_scaler = MinMaxScaler()\n",
    "x_test_scaler = MinMaxScaler()\n",
    "y_train_scaler = MinMaxScaler()\n",
    "y_test_scaler = MinMaxScaler()\n",
    "\n",
    "x_train_scaler.fit(X_train)\n",
    "y_train_scaler.fit(y_train)\n",
    "\n",
    "X_train = x_train_scaler.transform(X_train)\n",
    "y_train = y_train_scaler.transform(y_train)\n",
    "\n",
    "x_test_scaler.fit(X_test)\n",
    "y_test_scaler.fit(y_test)\n",
    "\n",
    "X_test = x_test_scaler.transform(X_test)\n",
    "y_test = y_test_scaler.transform(y_test)"
   ]
  },
  {
   "cell_type": "code",
   "execution_count": 22,
   "metadata": {},
   "outputs": [],
   "source": [
    "# Reshape the features for the model\n",
    "X_train = X_train.reshape((X_train.shape[0], X_train.shape[1], 1))\n",
    "X_test = X_test.reshape((X_test.shape[0], X_test.shape[1], 1))"
   ]
  },
  {
   "cell_type": "code",
   "execution_count": 23,
   "metadata": {},
   "outputs": [],
   "source": [
    "from tensorflow.keras.models import Sequential\n",
    "from tensorflow.keras.layers import LSTM, Dense, Dropout"
   ]
  },
  {
   "cell_type": "code",
   "execution_count": 24,
   "metadata": {},
   "outputs": [],
   "source": [
    "# Build the LSTM model. \n",
    "# The return sequences need to be set to True if you are adding additional LSTM layers, but \n",
    "# You don't have to do this for the final layer. \n",
    "# Note: The dropouts help prevent overfitting\n",
    "# Note: The input shape is the number of time steps and the number of indicators\n",
    "# Note: Batching inputs has a different input shape of Samples/TimeSteps/Features\n",
    "\n",
    "model = Sequential()\n",
    "\n",
    "number_units = 30\n",
    "dropout_fraction = 0.2\n",
    "\n",
    "model.add(LSTM(\n",
    "    units=number_units,\n",
    "    return_sequences=True,\n",
    "    input_shape=(X_train.shape[1], 1))\n",
    "    )\n",
    "model.add(Dropout(dropout_fraction))\n",
    "\n",
    "model.add(LSTM(units=number_units, return_sequences=True))\n",
    "model.add(Dropout(dropout_fraction))\n",
    "\n",
    "model.add(LSTM(units=number_units))\n",
    "model.add(Dropout(dropout_fraction))\n",
    "\n",
    "model.add(Dense(1))"
   ]
  },
  {
   "cell_type": "code",
   "execution_count": 25,
   "metadata": {},
   "outputs": [],
   "source": [
    "# Compile the model\n",
    "model.compile(optimizer=\"adam\", loss=\"mean_squared_error\")"
   ]
  },
  {
   "cell_type": "code",
   "execution_count": 26,
   "metadata": {},
   "outputs": [
    {
     "name": "stdout",
     "output_type": "stream",
     "text": [
      "Model: \"sequential\"\n",
      "_________________________________________________________________\n",
      "Layer (type)                 Output Shape              Param #   \n",
      "=================================================================\n",
      "lstm (LSTM)                  (None, 10, 30)            3840      \n",
      "_________________________________________________________________\n",
      "dropout (Dropout)            (None, 10, 30)            0         \n",
      "_________________________________________________________________\n",
      "lstm_1 (LSTM)                (None, 10, 30)            7320      \n",
      "_________________________________________________________________\n",
      "dropout_1 (Dropout)          (None, 10, 30)            0         \n",
      "_________________________________________________________________\n",
      "lstm_2 (LSTM)                (None, 30)                7320      \n",
      "_________________________________________________________________\n",
      "dropout_2 (Dropout)          (None, 30)                0         \n",
      "_________________________________________________________________\n",
      "dense (Dense)                (None, 1)                 31        \n",
      "=================================================================\n",
      "Total params: 18,511\n",
      "Trainable params: 18,511\n",
      "Non-trainable params: 0\n",
      "_________________________________________________________________\n"
     ]
    }
   ],
   "source": [
    "# Summarize the model\n",
    "model.summary()"
   ]
  },
  {
   "cell_type": "code",
   "execution_count": 27,
   "metadata": {},
   "outputs": [
    {
     "name": "stdout",
     "output_type": "stream",
     "text": [
      "Epoch 1/10\n",
      "495/495 [==============================] - 6s 5ms/step - loss: 0.0108\n",
      "Epoch 2/10\n",
      "495/495 [==============================] - 2s 5ms/step - loss: 0.0094\n",
      "Epoch 3/10\n",
      "495/495 [==============================] - 2s 5ms/step - loss: 0.0095\n",
      "Epoch 4/10\n",
      "495/495 [==============================] - 3s 6ms/step - loss: 0.0096\n",
      "Epoch 5/10\n",
      "495/495 [==============================] - 4s 7ms/step - loss: 0.0094\n",
      "Epoch 6/10\n",
      "495/495 [==============================] - 3s 5ms/step - loss: 0.0092\n",
      "Epoch 7/10\n",
      "495/495 [==============================] - 3s 5ms/step - loss: 0.0095\n",
      "Epoch 8/10\n",
      "495/495 [==============================] - 3s 5ms/step - loss: 0.0095\n",
      "Epoch 9/10\n",
      "495/495 [==============================] - 3s 5ms/step - loss: 0.0094\n",
      "Epoch 10/10\n",
      "495/495 [==============================] - 2s 5ms/step - loss: 0.0094\n"
     ]
    },
    {
     "data": {
      "text/plain": [
       "<tensorflow.python.keras.callbacks.History at 0x1aba7882a08>"
      ]
     },
     "execution_count": 27,
     "metadata": {},
     "output_type": "execute_result"
    }
   ],
   "source": [
    "# Train the model\n",
    "# Use at least 10 epochs\n",
    "# Do not shuffle the data\n",
    "# Experiement with the batch size, but a smaller batch size is recommended\n",
    "model.fit(X_train, y_train, epochs=10, shuffle=False, batch_size=1, verbose=1)"
   ]
  },
  {
   "cell_type": "code",
   "execution_count": 28,
   "metadata": {},
   "outputs": [
    {
     "name": "stdout",
     "output_type": "stream",
     "text": [
      "7/7 [==============================] - 1s 2ms/step - loss: 0.0245\n"
     ]
    },
    {
     "data": {
      "text/plain": [
       "0.024514904245734215"
      ]
     },
     "execution_count": 28,
     "metadata": {},
     "output_type": "execute_result"
    }
   ],
   "source": [
    "# Evaluate the model\n",
    "model.evaluate(X_test, y_test)"
   ]
  },
  {
   "cell_type": "code",
   "execution_count": 29,
   "metadata": {},
   "outputs": [],
   "source": [
    "# Make some predictions\n",
    "predicted = model.predict(X_test)"
   ]
  },
  {
   "cell_type": "code",
   "execution_count": 30,
   "metadata": {},
   "outputs": [],
   "source": [
    "# Recover the original prices instead of the scaled version\n",
    "predicted_prices = y_test_scaler.inverse_transform(predicted)\n",
    "real_prices = y_test_scaler.inverse_transform(y_test.reshape(-1, 1))"
   ]
  },
  {
   "cell_type": "code",
   "execution_count": 31,
   "metadata": {},
   "outputs": [
    {
     "ename": "NameError",
     "evalue": "name 'df' is not defined",
     "output_type": "error",
     "traceback": [
      "\u001b[1;31m---------------------------------------------------------------------------\u001b[0m",
      "\u001b[1;31mNameError\u001b[0m                                 Traceback (most recent call last)",
      "\u001b[1;32m<ipython-input-31-16660a9de42c>\u001b[0m in \u001b[0;36m<module>\u001b[1;34m\u001b[0m\n\u001b[0;32m      3\u001b[0m     \u001b[1;34m\"Real\"\u001b[0m\u001b[1;33m:\u001b[0m \u001b[0mreal_prices\u001b[0m\u001b[1;33m.\u001b[0m\u001b[0mravel\u001b[0m\u001b[1;33m(\u001b[0m\u001b[1;33m)\u001b[0m\u001b[1;33m,\u001b[0m\u001b[1;33m\u001b[0m\u001b[1;33m\u001b[0m\u001b[0m\n\u001b[0;32m      4\u001b[0m     \u001b[1;34m\"Predicted\"\u001b[0m\u001b[1;33m:\u001b[0m \u001b[0mpredicted_prices\u001b[0m\u001b[1;33m.\u001b[0m\u001b[0mravel\u001b[0m\u001b[1;33m(\u001b[0m\u001b[1;33m)\u001b[0m\u001b[1;33m\u001b[0m\u001b[1;33m\u001b[0m\u001b[0m\n\u001b[1;32m----> 5\u001b[1;33m }, index = df.index[-len(real_prices): ]) \n\u001b[0m\u001b[0;32m      6\u001b[0m \u001b[0mstocks\u001b[0m\u001b[1;33m.\u001b[0m\u001b[0mhead\u001b[0m\u001b[1;33m(\u001b[0m\u001b[1;33m)\u001b[0m\u001b[1;33m\u001b[0m\u001b[1;33m\u001b[0m\u001b[0m\n",
      "\u001b[1;31mNameError\u001b[0m: name 'df' is not defined"
     ]
    }
   ],
   "source": [
    "# Create a DataFrame of Real and Predicted values\n",
    "stocks = pd.DataFrame({\n",
    "    \"Real\": real_prices.ravel(),\n",
    "    \"Predicted\": predicted_prices.ravel()\n",
    "}, index = df.index[-len(real_prices): ]) \n",
    "stocks.head()"
   ]
  },
  {
   "cell_type": "code",
   "execution_count": null,
   "metadata": {},
   "outputs": [],
   "source": [
    "# Plot the real vs predicted values as a line chart\n",
    "stocks.plot()"
   ]
  },
  {
   "cell_type": "markdown",
   "metadata": {},
   "source": [
    "# Attempt Sentiment Analysis Using Twitter: "
   ]
  },
  {
   "cell_type": "code",
   "execution_count": null,
   "metadata": {},
   "outputs": [],
   "source": [
    "import tweepy \n",
    "from textblob import TextBlob\n",
    "from wordcloud import WordCloud\n",
    "import pandas as pd\n",
    "import numpy as np\n",
    "import re \n",
    "import matplotlib.pyplot as plt\n",
    "plt.style.use('fivethirtyeight')"
   ]
  },
  {
   "cell_type": "code",
   "execution_count": null,
   "metadata": {},
   "outputs": [],
   "source": [
    "API_KEY=\"ixfnArRC0LrqGw9oMsKWaeeHH\"\n",
    "API_SECRET_KEY=\"bavWCrmk1pGMFTyUkScWgLwtbGt7TYbTqzIFBGUc3H4xAgIn33\"\n",
    "BEARER_TOKEN=\"1049318615261097984-2TXX3rME99h28i7ZuE6LmirwUtW0KW\"\n",
    "BEARER_TOKEN_SECRET=\"EznHh57YvAkj299l4GdqtNsnfQ7Ge9UZYPMPROkUA2ukC\"\n",
    "AZURE_KEY1=\"934412a2f06d4a37bf1fc3cbb513a944\"\n",
    "AZURE_KEY2=\"52cf1c0ec04d4fb085c583ea5680d646\""
   ]
  },
  {
   "cell_type": "code",
   "execution_count": null,
   "metadata": {},
   "outputs": [],
   "source": [
    "consumerKey = API_KEY\n",
    "consumerSecret = API_SECRET_KEY\n",
    "accessToken = BEARER_TOKEN\n",
    "accessTokenSecret = BEARER_TOKEN_SECRET"
   ]
  },
  {
   "cell_type": "code",
   "execution_count": null,
   "metadata": {},
   "outputs": [],
   "source": [
    "authenticate = tweepy.OAuthHandler(consumerKey, consumerSecret)"
   ]
  },
  {
   "cell_type": "code",
   "execution_count": null,
   "metadata": {},
   "outputs": [],
   "source": [
    "authenticate.set_access_token(accessToken, accessTokenSecret)"
   ]
  },
  {
   "cell_type": "code",
   "execution_count": null,
   "metadata": {},
   "outputs": [],
   "source": [
    "api = tweepy.API(authenticate, wait_on_rate_limit=True)"
   ]
  },
  {
   "cell_type": "code",
   "execution_count": null,
   "metadata": {},
   "outputs": [],
   "source": [
    "#save the id of the oldest tweet less one\n",
    "username = \"elonmusk\"\n",
    "\n",
    "alltweets = []\t\n",
    "new_tweets = api.user_timeline(screen_name = username,count=200)\n",
    "\n",
    "#save most recent tweets\n",
    "alltweets.extend(new_tweets)\n",
    "\n",
    "#save the id of the oldest tweet less one\n",
    "\n",
    "oldest = alltweets[-1].id - 1\n",
    "\n",
    "posts = api.user_timeline(screen_name = username, count = 200, max_id=oldest, tweet_mode=\"extended\")"
   ]
  },
  {
   "cell_type": "code",
   "execution_count": null,
   "metadata": {},
   "outputs": [],
   "source": [
    "type(posts[0])"
   ]
  },
  {
   "cell_type": "code",
   "execution_count": null,
   "metadata": {},
   "outputs": [],
   "source": [
    "print(\"Show the 5 recent tweets: \\n \")\n",
    "i = 1\n",
    "for tweet in posts[0:5]:\n",
    "  print(str(i) + ')' +  tweet.full_text + \"\\n\")\n",
    "  i = i+1"
   ]
  },
  {
   "cell_type": "code",
   "execution_count": null,
   "metadata": {},
   "outputs": [],
   "source": [
    "for status in api.user_timeline():\n",
    "    print(status.id)"
   ]
  },
  {
   "cell_type": "code",
   "execution_count": null,
   "metadata": {},
   "outputs": [],
   "source": [
    "df = pd.DataFrame([tweet.full_text for tweet in posts], columns = ['Tweets'])"
   ]
  },
  {
   "cell_type": "code",
   "execution_count": null,
   "metadata": {},
   "outputs": [],
   "source": [
    "df.head()"
   ]
  },
  {
   "cell_type": "code",
   "execution_count": null,
   "metadata": {},
   "outputs": [],
   "source": [
    "# Create a function to clean the tweets\n",
    "def cleanTxt(text):\n",
    " text = re.sub('@[A-Za-z0–9]+', '', text) #Removing @mentions\n",
    " text = re.sub('#', '', text) # Removing '#' hash tag\n",
    " text = re.sub('RT[\\s]+', '', text) # Removing RT\n",
    " text = re.sub('https?:\\/\\/\\S+', '', text) # Removing hyperlink\n",
    " \n",
    " return text\n",
    "\n",
    "\n",
    "# Clean the tweets\n",
    "df['Tweets'] = df['Tweets'].apply(cleanTxt)"
   ]
  },
  {
   "cell_type": "code",
   "execution_count": null,
   "metadata": {},
   "outputs": [],
   "source": [
    "for status in "
   ]
  },
  {
   "cell_type": "code",
   "execution_count": null,
   "metadata": {},
   "outputs": [],
   "source": [
    "# Create a function to get the subjectivity\n",
    "def getSubjectivity(text):\n",
    "   return TextBlob(text).sentiment.subjectivity\n",
    "\n",
    "# Create a function to get the polarity\n",
    "def getPolarity(text):\n",
    "   return  TextBlob(text).sentiment.polarity\n",
    "\n",
    "\n",
    "# Create two new columns 'Subjectivity' & 'Polarity'\n",
    "df['Subjectivity'] = df['Tweets'].apply(getSubjectivity)\n",
    "df['Polarity'] = df['Tweets'].apply(getPolarity)"
   ]
  },
  {
   "cell_type": "code",
   "execution_count": null,
   "metadata": {},
   "outputs": [],
   "source": [
    "df"
   ]
  },
  {
   "cell_type": "code",
   "execution_count": null,
   "metadata": {},
   "outputs": [],
   "source": [
    "# Show the new dataframe with columns 'Subjectivity' & 'Polarity'\n",
    "df\n",
    "\n",
    "'''\n",
    "Let's see how well the sentiments are distributed. \n",
    "A good way to accomplish this task is by understanding the common words by plotting word clouds.\n",
    "A word cloud (also known as text clouds or tag clouds) is a visualization, the more a specific word \n",
    "appears in text, the bigger and bolder it appears in the word cloud.\n",
    "Let’s visualize all the words in the data using the word cloud plot.\n",
    "'''\n",
    "\n",
    "allWords = ' '.join([twts for twts in df['Tweets']])\n",
    "wordCloud = WordCloud(width=500, height=300, random_state=21, max_font_size=110).generate(allWords)\n",
    "\n",
    "\n",
    "plt.imshow(wordCloud, interpolation=\"bilinear\")\n",
    "plt.axis('off')\n",
    "plt.show()"
   ]
  },
  {
   "cell_type": "code",
   "execution_count": null,
   "metadata": {},
   "outputs": [],
   "source": [
    "# Create a function to compute negative (-1), neutral (0) and positive (+1) analysis\n",
    "def getAnalysis(score):\n",
    " if score < 0:\n",
    "  return 'Negative'\n",
    " elif score == 0:\n",
    "  return 'Neutral'\n",
    " else:\n",
    "  return 'Positive'\n",
    "\n",
    "\n",
    "df['Analysis'] = df['Polarity'].apply(getAnalysis)\n",
    "\n",
    "# Show the dataframe\n",
    "df"
   ]
  },
  {
   "cell_type": "code",
   "execution_count": null,
   "metadata": {},
   "outputs": [],
   "source": [
    "# Printing positive tweets \n",
    "print('Printing positive tweets:\\n')\n",
    "j=1\n",
    "sortedDF = df.sort_values(by=['Polarity']) #Sort the tweets\n",
    "for i in range(0, sortedDF.shape[0] ):\n",
    "  if( sortedDF['Analysis'][i] == 'Positive'):\n",
    "    print(str(j) + ') '+ sortedDF['Tweets'][i])\n",
    "    print()\n",
    "    j= j+1"
   ]
  },
  {
   "cell_type": "code",
   "execution_count": null,
   "metadata": {},
   "outputs": [],
   "source": [
    "\n",
    "# Printing negative tweets  \n",
    "print('Printing negative tweets:\\n')\n",
    "j=1\n",
    "sortedDF = df.sort_values(by=['Polarity'],ascending=False) #Sort the tweets\n",
    "for i in range(0, sortedDF.shape[0] ):\n",
    "  if( sortedDF['Analysis'][i] == 'Negative'):\n",
    "    print(str(j) + ') '+sortedDF['Tweets'][i])\n",
    "    print()\n",
    "    j=j+1"
   ]
  },
  {
   "cell_type": "code",
   "execution_count": null,
   "metadata": {},
   "outputs": [],
   "source": [
    "# Plotting\n",
    "plt.figure(figsize=(8,6))\n",
    "for i in range(0, df.shape[0]):\n",
    " plt.scatter(df[\"Polarity\"][i], df[\"Subjectivity\"][i], color='Blue') # plt.scatter(x,y,color)\n",
    " \n",
    "plt.title('Sentiment Analysis')\n",
    "plt.xlabel('Polarity')\n",
    "plt.ylabel('Subjectivity')\n",
    "plt.show()"
   ]
  },
  {
   "cell_type": "code",
   "execution_count": null,
   "metadata": {},
   "outputs": [],
   "source": [
    "# Print the percentage of positive tweets\n",
    "ptweets = df[df.Analysis == 'Positive']\n",
    "ptweets = ptweets['Tweets']\n",
    "ptweets\n",
    "\n",
    "round( (ptweets.shape[0] / df.shape[0]) * 100 , 1)"
   ]
  },
  {
   "cell_type": "code",
   "execution_count": null,
   "metadata": {},
   "outputs": [],
   "source": [
    "# Print the percentage of negative tweets\n",
    "ntweets = df[df.Analysis == 'Negative']\n",
    "ntweets = ntweets['Tweets']\n",
    "ntweets\n",
    "\n",
    "round( (ntweets.shape[0] / df.shape[0]) * 100, 1)"
   ]
  },
  {
   "cell_type": "code",
   "execution_count": null,
   "metadata": {},
   "outputs": [],
   "source": [
    "# Show the value counts\n",
    "df['Analysis'].value_counts()\n",
    "\n",
    "# Plotting and visualizing the counts\n",
    "plt.title('Sentiment Analysis')\n",
    "plt.xlabel('Sentiment')\n",
    "plt.ylabel('Counts')\n",
    "df['Analysis'].value_counts().plot(kind = 'bar')\n",
    "plt.show()"
   ]
  },
  {
   "cell_type": "code",
   "execution_count": null,
   "metadata": {},
   "outputs": [],
   "source": []
  },
  {
   "cell_type": "code",
   "execution_count": null,
   "metadata": {},
   "outputs": [],
   "source": []
  },
  {
   "cell_type": "code",
   "execution_count": null,
   "metadata": {},
   "outputs": [],
   "source": []
  },
  {
   "cell_type": "code",
   "execution_count": null,
   "metadata": {},
   "outputs": [],
   "source": []
  },
  {
   "cell_type": "code",
   "execution_count": null,
   "metadata": {},
   "outputs": [],
   "source": []
  },
  {
   "cell_type": "markdown",
   "metadata": {},
   "source": [
    "# Perform Random Forest Analysis for Classification:"
   ]
  },
  {
   "cell_type": "code",
   "execution_count": null,
   "metadata": {},
   "outputs": [],
   "source": [
    "# Initial imports\n",
    "import pandas as pd\n",
    "from pathlib import Path\n",
    "from sklearn.ensemble import RandomForestClassifier\n",
    "from sklearn.preprocessing import StandardScaler\n",
    "from sklearn.model_selection import train_test_split\n",
    "from sklearn.metrics import confusion_matrix, accuracy_score, classification_report\n",
    "%matplotlib inline\n",
    "\n",
    "# Needed for decision tree visualization\n",
    "import pydotplus\n",
    "from IPython.display import Image"
   ]
  },
  {
   "cell_type": "code",
   "execution_count": null,
   "metadata": {},
   "outputs": [],
   "source": [
    "# Define features set\n",
    "X = all_sig.copy()\n",
    "X.drop(\"close\", axis=1, inplace=True)\n",
    "X.head()"
   ]
  },
  {
   "cell_type": "code",
   "execution_count": null,
   "metadata": {},
   "outputs": [],
   "source": [
    "# Define target vector\n",
    "y = all_sig[\"close\"].ravel()\n",
    "y[:5]"
   ]
  },
  {
   "cell_type": "code",
   "execution_count": null,
   "metadata": {},
   "outputs": [],
   "source": [
    "# Splitting into Train and Test sets\n",
    "X_train, X_test, y_train, y_test = train_test_split(X, y, random_state=78)"
   ]
  },
  {
   "cell_type": "code",
   "execution_count": null,
   "metadata": {},
   "outputs": [],
   "source": [
    "# Creating StandardScaler instance\n",
    "scaler = StandardScaler()"
   ]
  },
  {
   "cell_type": "code",
   "execution_count": null,
   "metadata": {},
   "outputs": [],
   "source": [
    "# Fitting Standard Scaller\n",
    "X_scaler = scaler.fit(X_train)"
   ]
  },
  {
   "cell_type": "code",
   "execution_count": null,
   "metadata": {},
   "outputs": [],
   "source": [
    "# Scaling data\n",
    "X_train_scaled = X_scaler.transform(X_train)\n",
    "X_test_scaled = X_scaler.transform(X_test)"
   ]
  },
  {
   "cell_type": "code",
   "execution_count": null,
   "metadata": {},
   "outputs": [],
   "source": [
    "# Create a random forest classifier\n",
    "rf_model = RandomForestClassifier(n_estimators=1000, random_state=78)"
   ]
  },
  {
   "cell_type": "code",
   "execution_count": null,
   "metadata": {},
   "outputs": [],
   "source": [
    "# Fitting the model\n",
    "rf_model = rf_model.fit(X_train_scaled, y_train)"
   ]
  },
  {
   "cell_type": "code",
   "execution_count": null,
   "metadata": {},
   "outputs": [],
   "source": [
    "# Making predictions using the testing data\n",
    "predictions = rf_model.predict(X_test_scaled)"
   ]
  },
  {
   "cell_type": "code",
   "execution_count": null,
   "metadata": {},
   "outputs": [],
   "source": [
    "print(X_train.shape, X_test.shape)\n",
    "print(y_train.shape, y_test.shape)"
   ]
  },
  {
   "cell_type": "code",
   "execution_count": null,
   "metadata": {},
   "outputs": [],
   "source": [
    "# Calculating the confusion matrix\n",
    "cm = confusion_matrix(y_test, predictions)\n",
    "cm_df = pd.DataFrame(\n",
    "    cm, index=[\"Actual 0\", \"Actual 1\"], columns=[\"Predicted 0\", \"Predicted 1\"]\n",
    ")\n",
    "\n",
    "# Calculating the accuracy score\n",
    "acc_score = accuracy_score(y_test, predictions)"
   ]
  },
  {
   "cell_type": "code",
   "execution_count": null,
   "metadata": {},
   "outputs": [],
   "source": []
  }
 ],
 "metadata": {
  "kernelspec": {
   "display_name": "Python 3",
   "language": "python",
   "name": "python3"
  },
  "language_info": {
   "codemirror_mode": {
    "name": "ipython",
    "version": 3
   },
   "file_extension": ".py",
   "mimetype": "text/x-python",
   "name": "python",
   "nbconvert_exporter": "python",
   "pygments_lexer": "ipython3",
   "version": "3.7.9"
  }
 },
 "nbformat": 4,
 "nbformat_minor": 4
}
