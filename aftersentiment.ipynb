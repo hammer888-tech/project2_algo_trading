{
 "cells": [
  {
   "cell_type": "markdown",
   "metadata": {},
   "source": [
    "# Import Price Data From Kraken API:"
   ]
  },
  {
   "cell_type": "code",
   "execution_count": 1,
   "metadata": {},
   "outputs": [],
   "source": [
    "import krakenex \n",
    "from pykrakenapi import KrakenAPI\n",
    "import sys\n",
    "import time\n",
    "import urllib.request\n",
    "import json\n",
    "import requests\n",
    "import pandas as pd\n",
    "import numpy as np \n",
    "\n",
    "from sklearn.ensemble import RandomForestClassifier\n",
    "from sklearn.preprocessing import StandardScaler\n",
    "from sklearn.model_selection import train_test_split\n",
    "from sklearn.metrics import confusion_matrix, accuracy_score, classification_report"
   ]
  },
  {
   "cell_type": "code",
   "execution_count": 2,
   "metadata": {},
   "outputs": [],
   "source": [
    "api = krakenex.API()\n",
    "k = KrakenAPI(api)"
   ]
  },
  {
   "cell_type": "code",
   "execution_count": 3,
   "metadata": {},
   "outputs": [
    {
     "name": "stdout",
     "output_type": "stream",
     "text": [
      "(                           time     open     high      low    close     vwap  \\\n",
      "dtime                                                                          \n",
      "2021-06-08 00:09:00  1623110940  33879.1  33909.5  33853.2  33853.2  33898.4   \n",
      "2021-06-08 00:08:00  1623110880  33848.6  33888.8  33826.8  33882.3  33868.8   \n",
      "2021-06-08 00:07:00  1623110820  33771.8  33896.2  33771.8  33854.0  33880.3   \n",
      "2021-06-08 00:06:00  1623110760  33791.2  33806.0  33741.2  33777.4  33786.6   \n",
      "2021-06-08 00:05:00  1623110700  33723.7  33799.0  33700.0  33783.3  33748.7   \n",
      "...                         ...      ...      ...      ...      ...      ...   \n",
      "2021-06-07 12:14:00  1623068040  36326.4  36326.4  36324.0  36326.4  36324.9   \n",
      "2021-06-07 12:13:00  1623067980  36334.5  36334.5  36317.8  36326.4  36321.4   \n",
      "2021-06-07 12:12:00  1623067920  36334.5  36334.6  36334.5  36334.6  36334.5   \n",
      "2021-06-07 12:11:00  1623067860  36331.1  36331.1  36331.0  36331.0  36331.0   \n",
      "2021-06-07 12:10:00  1623067800  36313.8  36322.4  36312.8  36322.4  36315.2   \n",
      "\n",
      "                       volume  count  \n",
      "dtime                                 \n",
      "2021-06-08 00:09:00  3.755520     47  \n",
      "2021-06-08 00:08:00  2.851380     36  \n",
      "2021-06-08 00:07:00  6.446405     40  \n",
      "2021-06-08 00:06:00  1.514505     29  \n",
      "2021-06-08 00:05:00  2.776563     48  \n",
      "...                       ...    ...  \n",
      "2021-06-07 12:14:00  0.077163      6  \n",
      "2021-06-07 12:13:00  7.519300     29  \n",
      "2021-06-07 12:12:00  0.304371     15  \n",
      "2021-06-07 12:11:00  0.500000      3  \n",
      "2021-06-07 12:10:00  0.332868      9  \n",
      "\n",
      "[720 rows x 8 columns], 1623110880)\n"
     ]
    }
   ],
   "source": [
    "ohlc = k.get_ohlc_data(\"BTCUSD\")\n",
    "print(ohlc)"
   ]
  },
  {
   "cell_type": "code",
   "execution_count": 4,
   "metadata": {},
   "outputs": [],
   "source": [
    "def fetch_OHLC_data(symbol, timeframe):\n",
    "    pair_split = symbol.split('/')\n",
    "    symbol = pair_split[0] + pair_split[1]\n",
    "    url = f'https://api.kraken.com/0/public/OHLC?pair={symbol}&interval={timeframe}'\n",
    "    response = requests.get(url)\n",
    "    if response.status_code == 200: \n",
    "        j = json.loads(response.text)\n",
    "        result = j['result']\n",
    "        keys = []\n",
    "        for item in result:\n",
    "            keys.append(item)\n",
    "        if keys[0] != 'last':\n",
    "            data = pd.DataFrame(result[keys[0]],\n",
    "                                columns=['unix', 'open', 'high', 'low', 'close', 'vwap', 'volume', 'tradecount'])\n",
    "        else:\n",
    "            data = pd.DataFrame(result[keys[1]],\n",
    "                                columns=['unix', 'open', 'high', 'low', 'close', 'vwap', 'volume', 'tradecount'])\n",
    "\n",
    "        data['date'] = pd.to_datetime(data['unix'], unit='s')\n",
    "        data['volume_from'] = data['volume'].astype(float) * data['close'].astype(float)\n",
    "    return data"
   ]
  },
  {
   "cell_type": "code",
   "execution_count": 5,
   "metadata": {},
   "outputs": [
    {
     "data": {
      "text/html": [
       "<div>\n",
       "<style scoped>\n",
       "    .dataframe tbody tr th:only-of-type {\n",
       "        vertical-align: middle;\n",
       "    }\n",
       "\n",
       "    .dataframe tbody tr th {\n",
       "        vertical-align: top;\n",
       "    }\n",
       "\n",
       "    .dataframe thead th {\n",
       "        text-align: right;\n",
       "    }\n",
       "</style>\n",
       "<table border=\"1\" class=\"dataframe\">\n",
       "  <thead>\n",
       "    <tr style=\"text-align: right;\">\n",
       "      <th></th>\n",
       "      <th>close</th>\n",
       "      <th>vwap</th>\n",
       "      <th>volume</th>\n",
       "      <th>tradecount</th>\n",
       "    </tr>\n",
       "    <tr>\n",
       "      <th>date</th>\n",
       "      <th></th>\n",
       "      <th></th>\n",
       "      <th></th>\n",
       "      <th></th>\n",
       "    </tr>\n",
       "  </thead>\n",
       "  <tbody>\n",
       "    <tr>\n",
       "      <th>2019-06-20</th>\n",
       "      <td>9534.3</td>\n",
       "      <td>9402.8</td>\n",
       "      <td>6475.26400109</td>\n",
       "      <td>22100</td>\n",
       "    </tr>\n",
       "    <tr>\n",
       "      <th>2019-06-21</th>\n",
       "      <td>10219.2</td>\n",
       "      <td>9835.0</td>\n",
       "      <td>9099.70690374</td>\n",
       "      <td>29051</td>\n",
       "    </tr>\n",
       "    <tr>\n",
       "      <th>2019-06-22</th>\n",
       "      <td>10663.8</td>\n",
       "      <td>10665.9</td>\n",
       "      <td>12842.48586265</td>\n",
       "      <td>54100</td>\n",
       "    </tr>\n",
       "    <tr>\n",
       "      <th>2019-06-23</th>\n",
       "      <td>10814.1</td>\n",
       "      <td>10837.5</td>\n",
       "      <td>5943.46891708</td>\n",
       "      <td>34849</td>\n",
       "    </tr>\n",
       "    <tr>\n",
       "      <th>2019-06-24</th>\n",
       "      <td>11020.6</td>\n",
       "      <td>10843.5</td>\n",
       "      <td>5457.41272587</td>\n",
       "      <td>26308</td>\n",
       "    </tr>\n",
       "    <tr>\n",
       "      <th>...</th>\n",
       "      <td>...</td>\n",
       "      <td>...</td>\n",
       "      <td>...</td>\n",
       "      <td>...</td>\n",
       "    </tr>\n",
       "    <tr>\n",
       "      <th>2021-06-04</th>\n",
       "      <td>36847.7</td>\n",
       "      <td>37066.4</td>\n",
       "      <td>4991.51744280</td>\n",
       "      <td>46978</td>\n",
       "    </tr>\n",
       "    <tr>\n",
       "      <th>2021-06-05</th>\n",
       "      <td>35534.6</td>\n",
       "      <td>36066.4</td>\n",
       "      <td>5532.75325986</td>\n",
       "      <td>39833</td>\n",
       "    </tr>\n",
       "    <tr>\n",
       "      <th>2021-06-06</th>\n",
       "      <td>35789.0</td>\n",
       "      <td>35930.0</td>\n",
       "      <td>3187.54640121</td>\n",
       "      <td>23692</td>\n",
       "    </tr>\n",
       "    <tr>\n",
       "      <th>2021-06-07</th>\n",
       "      <td>33587.6</td>\n",
       "      <td>35319.4</td>\n",
       "      <td>6165.92045486</td>\n",
       "      <td>42615</td>\n",
       "    </tr>\n",
       "    <tr>\n",
       "      <th>2021-06-08</th>\n",
       "      <td>33870.0</td>\n",
       "      <td>33736.3</td>\n",
       "      <td>86.42800043</td>\n",
       "      <td>575</td>\n",
       "    </tr>\n",
       "  </tbody>\n",
       "</table>\n",
       "<p>720 rows × 4 columns</p>\n",
       "</div>"
      ],
      "text/plain": [
       "              close     vwap          volume  tradecount\n",
       "date                                                    \n",
       "2019-06-20   9534.3   9402.8   6475.26400109       22100\n",
       "2019-06-21  10219.2   9835.0   9099.70690374       29051\n",
       "2019-06-22  10663.8  10665.9  12842.48586265       54100\n",
       "2019-06-23  10814.1  10837.5   5943.46891708       34849\n",
       "2019-06-24  11020.6  10843.5   5457.41272587       26308\n",
       "...             ...      ...             ...         ...\n",
       "2021-06-04  36847.7  37066.4   4991.51744280       46978\n",
       "2021-06-05  35534.6  36066.4   5532.75325986       39833\n",
       "2021-06-06  35789.0  35930.0   3187.54640121       23692\n",
       "2021-06-07  33587.6  35319.4   6165.92045486       42615\n",
       "2021-06-08  33870.0  33736.3     86.42800043         575\n",
       "\n",
       "[720 rows x 4 columns]"
      ]
     },
     "execution_count": 5,
     "metadata": {},
     "output_type": "execute_result"
    }
   ],
   "source": [
    "btc = fetch_OHLC_data(symbol=\"BTC/USD\", timeframe=\"1440\")\n",
    "btc = btc.drop(columns=[\"unix\", \"open\", \"high\", \"low\", \"volume_from\"])\n",
    "btc = btc.set_index(\"date\")\n",
    "btc"
   ]
  },
  {
   "cell_type": "code",
   "execution_count": 6,
   "metadata": {},
   "outputs": [
    {
     "name": "stderr",
     "output_type": "stream",
     "text": [
      "C:\\Users\\15159\\anaconda3\\envs\\mlenv\\lib\\site-packages\\ipykernel_launcher.py:4: SettingWithCopyWarning: \n",
      "A value is trying to be set on a copy of a slice from a DataFrame\n",
      "\n",
      "See the caveats in the documentation: https://pandas.pydata.org/pandas-docs/stable/user_guide/indexing.html#returning-a-view-versus-a-copy\n",
      "  after removing the cwd from sys.path.\n",
      "C:\\Users\\15159\\anaconda3\\envs\\mlenv\\lib\\site-packages\\ipykernel_launcher.py:5: SettingWithCopyWarning: \n",
      "A value is trying to be set on a copy of a slice from a DataFrame\n",
      "\n",
      "See the caveats in the documentation: https://pandas.pydata.org/pandas-docs/stable/user_guide/indexing.html#returning-a-view-versus-a-copy\n",
      "  \"\"\"\n"
     ]
    },
    {
     "data": {
      "text/html": [
       "<div>\n",
       "<style scoped>\n",
       "    .dataframe tbody tr th:only-of-type {\n",
       "        vertical-align: middle;\n",
       "    }\n",
       "\n",
       "    .dataframe tbody tr th {\n",
       "        vertical-align: top;\n",
       "    }\n",
       "\n",
       "    .dataframe thead th {\n",
       "        text-align: right;\n",
       "    }\n",
       "</style>\n",
       "<table border=\"1\" class=\"dataframe\">\n",
       "  <thead>\n",
       "    <tr style=\"text-align: right;\">\n",
       "      <th></th>\n",
       "      <th>close</th>\n",
       "      <th>vwap</th>\n",
       "      <th>volume</th>\n",
       "      <th>tradecount</th>\n",
       "      <th>returns</th>\n",
       "      <th>change_in_price</th>\n",
       "    </tr>\n",
       "    <tr>\n",
       "      <th>date</th>\n",
       "      <th></th>\n",
       "      <th></th>\n",
       "      <th></th>\n",
       "      <th></th>\n",
       "      <th></th>\n",
       "      <th></th>\n",
       "    </tr>\n",
       "  </thead>\n",
       "  <tbody>\n",
       "    <tr>\n",
       "      <th>2019-06-21</th>\n",
       "      <td>10219.2</td>\n",
       "      <td>9835.0</td>\n",
       "      <td>9099.70690374</td>\n",
       "      <td>29051</td>\n",
       "      <td>0.071835</td>\n",
       "      <td>1</td>\n",
       "    </tr>\n",
       "    <tr>\n",
       "      <th>2019-06-22</th>\n",
       "      <td>10663.8</td>\n",
       "      <td>10665.9</td>\n",
       "      <td>12842.48586265</td>\n",
       "      <td>54100</td>\n",
       "      <td>0.043506</td>\n",
       "      <td>1</td>\n",
       "    </tr>\n",
       "    <tr>\n",
       "      <th>2019-06-23</th>\n",
       "      <td>10814.1</td>\n",
       "      <td>10837.5</td>\n",
       "      <td>5943.46891708</td>\n",
       "      <td>34849</td>\n",
       "      <td>0.014094</td>\n",
       "      <td>1</td>\n",
       "    </tr>\n",
       "    <tr>\n",
       "      <th>2019-06-24</th>\n",
       "      <td>11020.6</td>\n",
       "      <td>10843.5</td>\n",
       "      <td>5457.41272587</td>\n",
       "      <td>26308</td>\n",
       "      <td>0.019095</td>\n",
       "      <td>1</td>\n",
       "    </tr>\n",
       "    <tr>\n",
       "      <th>2019-06-25</th>\n",
       "      <td>11765.1</td>\n",
       "      <td>11340.2</td>\n",
       "      <td>11623.88144358</td>\n",
       "      <td>40223</td>\n",
       "      <td>0.067555</td>\n",
       "      <td>1</td>\n",
       "    </tr>\n",
       "    <tr>\n",
       "      <th>...</th>\n",
       "      <td>...</td>\n",
       "      <td>...</td>\n",
       "      <td>...</td>\n",
       "      <td>...</td>\n",
       "      <td>...</td>\n",
       "      <td>...</td>\n",
       "    </tr>\n",
       "    <tr>\n",
       "      <th>2021-06-04</th>\n",
       "      <td>36847.7</td>\n",
       "      <td>37066.4</td>\n",
       "      <td>4991.51744280</td>\n",
       "      <td>46978</td>\n",
       "      <td>-0.059926</td>\n",
       "      <td>0</td>\n",
       "    </tr>\n",
       "    <tr>\n",
       "      <th>2021-06-05</th>\n",
       "      <td>35534.6</td>\n",
       "      <td>36066.4</td>\n",
       "      <td>5532.75325986</td>\n",
       "      <td>39833</td>\n",
       "      <td>-0.035636</td>\n",
       "      <td>0</td>\n",
       "    </tr>\n",
       "    <tr>\n",
       "      <th>2021-06-06</th>\n",
       "      <td>35789.0</td>\n",
       "      <td>35930.0</td>\n",
       "      <td>3187.54640121</td>\n",
       "      <td>23692</td>\n",
       "      <td>0.007159</td>\n",
       "      <td>1</td>\n",
       "    </tr>\n",
       "    <tr>\n",
       "      <th>2021-06-07</th>\n",
       "      <td>33587.6</td>\n",
       "      <td>35319.4</td>\n",
       "      <td>6165.92045486</td>\n",
       "      <td>42615</td>\n",
       "      <td>-0.061511</td>\n",
       "      <td>0</td>\n",
       "    </tr>\n",
       "    <tr>\n",
       "      <th>2021-06-08</th>\n",
       "      <td>33870.0</td>\n",
       "      <td>33736.3</td>\n",
       "      <td>86.42800043</td>\n",
       "      <td>575</td>\n",
       "      <td>0.008408</td>\n",
       "      <td>1</td>\n",
       "    </tr>\n",
       "  </tbody>\n",
       "</table>\n",
       "<p>719 rows × 6 columns</p>\n",
       "</div>"
      ],
      "text/plain": [
       "              close     vwap          volume  tradecount   returns  \\\n",
       "date                                                                 \n",
       "2019-06-21  10219.2   9835.0   9099.70690374       29051  0.071835   \n",
       "2019-06-22  10663.8  10665.9  12842.48586265       54100  0.043506   \n",
       "2019-06-23  10814.1  10837.5   5943.46891708       34849  0.014094   \n",
       "2019-06-24  11020.6  10843.5   5457.41272587       26308  0.019095   \n",
       "2019-06-25  11765.1  11340.2  11623.88144358       40223  0.067555   \n",
       "...             ...      ...             ...         ...       ...   \n",
       "2021-06-04  36847.7  37066.4   4991.51744280       46978 -0.059926   \n",
       "2021-06-05  35534.6  36066.4   5532.75325986       39833 -0.035636   \n",
       "2021-06-06  35789.0  35930.0   3187.54640121       23692  0.007159   \n",
       "2021-06-07  33587.6  35319.4   6165.92045486       42615 -0.061511   \n",
       "2021-06-08  33870.0  33736.3     86.42800043         575  0.008408   \n",
       "\n",
       "            change_in_price  \n",
       "date                         \n",
       "2019-06-21                1  \n",
       "2019-06-22                1  \n",
       "2019-06-23                1  \n",
       "2019-06-24                1  \n",
       "2019-06-25                1  \n",
       "...                     ...  \n",
       "2021-06-04                0  \n",
       "2021-06-05                0  \n",
       "2021-06-06                1  \n",
       "2021-06-07                0  \n",
       "2021-06-08                1  \n",
       "\n",
       "[719 rows x 6 columns]"
      ]
     },
     "execution_count": 6,
     "metadata": {},
     "output_type": "execute_result"
    }
   ],
   "source": [
    "btc['close'] = btc['close'].astype(float)\n",
    "btc['returns'] = btc.close.pct_change()\n",
    "btc['change_in_price'] = btc['returns']\n",
    "btc.change_in_price[btc.change_in_price > 0] = 1\n",
    "btc.change_in_price[btc.change_in_price <= 0] = 0\n",
    "btc.dropna(inplace=True)\n",
    "btc['change_in_price'] = btc['change_in_price'].astype(int)\n",
    "btc"
   ]
  },
  {
   "cell_type": "markdown",
   "metadata": {},
   "source": [
    "# Generate Quantitative Trading Signals:"
   ]
  },
  {
   "cell_type": "code",
   "execution_count": 7,
   "metadata": {},
   "outputs": [],
   "source": [
    "def generate_signals(btc):\n",
    "    \"\"\"Generates trading signals for a given dataset.\"\"\"\n",
    "    # Grab just the `date` and `close` from the IEX dataset\n",
    "    signals_df = btc.copy()\n",
    "    # Set the short window and long windows\n",
    "    short_window = 50\n",
    "    long_window = 100\n",
    "\n",
    "    # Generate the short and long moving averages (50 and 100 days, respectively)\n",
    "    signals_df[\"SMA50\"] = signals_df[\"close\"].rolling(window=short_window).mean()\n",
    "    signals_df[\"SMA100\"] = signals_df[\"close\"].rolling(window=long_window).mean()\n",
    "\n",
    "    signals_df[\"Signal\"] = 0.0\n",
    "    # Generate the trading signal 0 or 1,\n",
    "    # where 0 is when the SMA50 is under the SMA100, and\n",
    "    # where 1 is when the SMA50 is higher (or crosses over) the SMA100\n",
    "    signals_df[\"Signal\"][short_window:] = np.where(\n",
    "        signals_df[\"SMA50\"][short_window:] > signals_df[\"SMA100\"][short_window:],\n",
    "        1.0,\n",
    "        0.0,\n",
    "    )\n",
    "    # Calculate the points in time at which a position should be taken, 1 or -1\n",
    "    signals_df[\"Entry/Exit\"] = signals_df[\"Signal\"].diff()\n",
    "    return signals_df"
   ]
  },
  {
   "cell_type": "code",
   "execution_count": 8,
   "metadata": {},
   "outputs": [
    {
     "name": "stderr",
     "output_type": "stream",
     "text": [
      "C:\\Users\\15159\\anaconda3\\envs\\mlenv\\lib\\site-packages\\ipykernel_launcher.py:20: SettingWithCopyWarning: \n",
      "A value is trying to be set on a copy of a slice from a DataFrame\n",
      "\n",
      "See the caveats in the documentation: https://pandas.pydata.org/pandas-docs/stable/user_guide/indexing.html#returning-a-view-versus-a-copy\n",
      "C:\\Users\\15159\\anaconda3\\envs\\mlenv\\lib\\site-packages\\pandas\\core\\indexing.py:670: SettingWithCopyWarning: \n",
      "A value is trying to be set on a copy of a slice from a DataFrame\n",
      "\n",
      "See the caveats in the documentation: https://pandas.pydata.org/pandas-docs/stable/user_guide/indexing.html#returning-a-view-versus-a-copy\n",
      "  iloc._setitem_with_indexer(indexer, value)\n"
     ]
    },
    {
     "data": {
      "text/html": [
       "<div>\n",
       "<style scoped>\n",
       "    .dataframe tbody tr th:only-of-type {\n",
       "        vertical-align: middle;\n",
       "    }\n",
       "\n",
       "    .dataframe tbody tr th {\n",
       "        vertical-align: top;\n",
       "    }\n",
       "\n",
       "    .dataframe thead th {\n",
       "        text-align: right;\n",
       "    }\n",
       "</style>\n",
       "<table border=\"1\" class=\"dataframe\">\n",
       "  <thead>\n",
       "    <tr style=\"text-align: right;\">\n",
       "      <th></th>\n",
       "      <th>close</th>\n",
       "      <th>vwap</th>\n",
       "      <th>volume</th>\n",
       "      <th>tradecount</th>\n",
       "      <th>returns</th>\n",
       "      <th>change_in_price</th>\n",
       "      <th>SMA50</th>\n",
       "      <th>SMA100</th>\n",
       "      <th>Signal</th>\n",
       "      <th>Entry/Exit</th>\n",
       "    </tr>\n",
       "    <tr>\n",
       "      <th>date</th>\n",
       "      <th></th>\n",
       "      <th></th>\n",
       "      <th></th>\n",
       "      <th></th>\n",
       "      <th></th>\n",
       "      <th></th>\n",
       "      <th></th>\n",
       "      <th></th>\n",
       "      <th></th>\n",
       "      <th></th>\n",
       "    </tr>\n",
       "  </thead>\n",
       "  <tbody>\n",
       "    <tr>\n",
       "      <th>2021-06-04</th>\n",
       "      <td>36847.7</td>\n",
       "      <td>37066.4</td>\n",
       "      <td>4991.51744280</td>\n",
       "      <td>46978</td>\n",
       "      <td>-0.059926</td>\n",
       "      <td>0</td>\n",
       "      <td>48232.938</td>\n",
       "      <td>51884.417</td>\n",
       "      <td>0.0</td>\n",
       "      <td>0.0</td>\n",
       "    </tr>\n",
       "    <tr>\n",
       "      <th>2021-06-05</th>\n",
       "      <td>35534.6</td>\n",
       "      <td>36066.4</td>\n",
       "      <td>5532.75325986</td>\n",
       "      <td>39833</td>\n",
       "      <td>-0.035636</td>\n",
       "      <td>0</td>\n",
       "      <td>47714.530</td>\n",
       "      <td>51769.148</td>\n",
       "      <td>0.0</td>\n",
       "      <td>0.0</td>\n",
       "    </tr>\n",
       "    <tr>\n",
       "      <th>2021-06-06</th>\n",
       "      <td>35789.0</td>\n",
       "      <td>35930.0</td>\n",
       "      <td>3187.54640121</td>\n",
       "      <td>23692</td>\n",
       "      <td>0.007159</td>\n",
       "      <td>1</td>\n",
       "      <td>47228.606</td>\n",
       "      <td>51663.893</td>\n",
       "      <td>0.0</td>\n",
       "      <td>0.0</td>\n",
       "    </tr>\n",
       "    <tr>\n",
       "      <th>2021-06-07</th>\n",
       "      <td>33587.6</td>\n",
       "      <td>35319.4</td>\n",
       "      <td>6165.92045486</td>\n",
       "      <td>42615</td>\n",
       "      <td>-0.061511</td>\n",
       "      <td>0</td>\n",
       "      <td>46775.562</td>\n",
       "      <td>51538.067</td>\n",
       "      <td>0.0</td>\n",
       "      <td>0.0</td>\n",
       "    </tr>\n",
       "    <tr>\n",
       "      <th>2021-06-08</th>\n",
       "      <td>33870.0</td>\n",
       "      <td>33736.3</td>\n",
       "      <td>86.42800043</td>\n",
       "      <td>575</td>\n",
       "      <td>0.008408</td>\n",
       "      <td>1</td>\n",
       "      <td>46338.562</td>\n",
       "      <td>51424.313</td>\n",
       "      <td>0.0</td>\n",
       "      <td>0.0</td>\n",
       "    </tr>\n",
       "  </tbody>\n",
       "</table>\n",
       "</div>"
      ],
      "text/plain": [
       "              close     vwap         volume  tradecount   returns  \\\n",
       "date                                                                \n",
       "2021-06-04  36847.7  37066.4  4991.51744280       46978 -0.059926   \n",
       "2021-06-05  35534.6  36066.4  5532.75325986       39833 -0.035636   \n",
       "2021-06-06  35789.0  35930.0  3187.54640121       23692  0.007159   \n",
       "2021-06-07  33587.6  35319.4  6165.92045486       42615 -0.061511   \n",
       "2021-06-08  33870.0  33736.3    86.42800043         575  0.008408   \n",
       "\n",
       "            change_in_price      SMA50     SMA100  Signal  Entry/Exit  \n",
       "date                                                                   \n",
       "2021-06-04                0  48232.938  51884.417     0.0         0.0  \n",
       "2021-06-05                0  47714.530  51769.148     0.0         0.0  \n",
       "2021-06-06                1  47228.606  51663.893     0.0         0.0  \n",
       "2021-06-07                0  46775.562  51538.067     0.0         0.0  \n",
       "2021-06-08                1  46338.562  51424.313     0.0         0.0  "
      ]
     },
     "execution_count": 8,
     "metadata": {},
     "output_type": "execute_result"
    }
   ],
   "source": [
    "mov_avg = generate_signals(btc)\n",
    "mov_avg.tail()"
   ]
  },
  {
   "cell_type": "code",
   "execution_count": 9,
   "metadata": {},
   "outputs": [
    {
     "data": {
      "text/html": [
       "<div>\n",
       "<style scoped>\n",
       "    .dataframe tbody tr th:only-of-type {\n",
       "        vertical-align: middle;\n",
       "    }\n",
       "\n",
       "    .dataframe tbody tr th {\n",
       "        vertical-align: top;\n",
       "    }\n",
       "\n",
       "    .dataframe thead th {\n",
       "        text-align: right;\n",
       "    }\n",
       "</style>\n",
       "<table border=\"1\" class=\"dataframe\">\n",
       "  <thead>\n",
       "    <tr style=\"text-align: right;\">\n",
       "      <th></th>\n",
       "      <th>close</th>\n",
       "      <th>vwap</th>\n",
       "      <th>volume</th>\n",
       "      <th>tradecount</th>\n",
       "      <th>returns</th>\n",
       "      <th>change_in_price</th>\n",
       "      <th>SMA50</th>\n",
       "      <th>SMA100</th>\n",
       "      <th>Signal</th>\n",
       "      <th>Entry/Exit</th>\n",
       "      <th>bollinger_mid_band</th>\n",
       "      <th>bollinger_std</th>\n",
       "      <th>bollinger_upper_band</th>\n",
       "      <th>bollinger_lower_band</th>\n",
       "    </tr>\n",
       "    <tr>\n",
       "      <th>date</th>\n",
       "      <th></th>\n",
       "      <th></th>\n",
       "      <th></th>\n",
       "      <th></th>\n",
       "      <th></th>\n",
       "      <th></th>\n",
       "      <th></th>\n",
       "      <th></th>\n",
       "      <th></th>\n",
       "      <th></th>\n",
       "      <th></th>\n",
       "      <th></th>\n",
       "      <th></th>\n",
       "      <th></th>\n",
       "    </tr>\n",
       "  </thead>\n",
       "  <tbody>\n",
       "    <tr>\n",
       "      <th>2019-06-21</th>\n",
       "      <td>10219.2</td>\n",
       "      <td>9835.0</td>\n",
       "      <td>9099.70690374</td>\n",
       "      <td>29051</td>\n",
       "      <td>0.071835</td>\n",
       "      <td>1</td>\n",
       "      <td>NaN</td>\n",
       "      <td>NaN</td>\n",
       "      <td>0.0</td>\n",
       "      <td>NaN</td>\n",
       "      <td>NaN</td>\n",
       "      <td>NaN</td>\n",
       "      <td>NaN</td>\n",
       "      <td>NaN</td>\n",
       "    </tr>\n",
       "    <tr>\n",
       "      <th>2019-06-22</th>\n",
       "      <td>10663.8</td>\n",
       "      <td>10665.9</td>\n",
       "      <td>12842.48586265</td>\n",
       "      <td>54100</td>\n",
       "      <td>0.043506</td>\n",
       "      <td>1</td>\n",
       "      <td>NaN</td>\n",
       "      <td>NaN</td>\n",
       "      <td>0.0</td>\n",
       "      <td>0.0</td>\n",
       "      <td>NaN</td>\n",
       "      <td>NaN</td>\n",
       "      <td>NaN</td>\n",
       "      <td>NaN</td>\n",
       "    </tr>\n",
       "    <tr>\n",
       "      <th>2019-06-23</th>\n",
       "      <td>10814.1</td>\n",
       "      <td>10837.5</td>\n",
       "      <td>5943.46891708</td>\n",
       "      <td>34849</td>\n",
       "      <td>0.014094</td>\n",
       "      <td>1</td>\n",
       "      <td>NaN</td>\n",
       "      <td>NaN</td>\n",
       "      <td>0.0</td>\n",
       "      <td>0.0</td>\n",
       "      <td>NaN</td>\n",
       "      <td>NaN</td>\n",
       "      <td>NaN</td>\n",
       "      <td>NaN</td>\n",
       "    </tr>\n",
       "    <tr>\n",
       "      <th>2019-06-24</th>\n",
       "      <td>11020.6</td>\n",
       "      <td>10843.5</td>\n",
       "      <td>5457.41272587</td>\n",
       "      <td>26308</td>\n",
       "      <td>0.019095</td>\n",
       "      <td>1</td>\n",
       "      <td>NaN</td>\n",
       "      <td>NaN</td>\n",
       "      <td>0.0</td>\n",
       "      <td>0.0</td>\n",
       "      <td>NaN</td>\n",
       "      <td>NaN</td>\n",
       "      <td>NaN</td>\n",
       "      <td>NaN</td>\n",
       "    </tr>\n",
       "    <tr>\n",
       "      <th>2019-06-25</th>\n",
       "      <td>11765.1</td>\n",
       "      <td>11340.2</td>\n",
       "      <td>11623.88144358</td>\n",
       "      <td>40223</td>\n",
       "      <td>0.067555</td>\n",
       "      <td>1</td>\n",
       "      <td>NaN</td>\n",
       "      <td>NaN</td>\n",
       "      <td>0.0</td>\n",
       "      <td>0.0</td>\n",
       "      <td>NaN</td>\n",
       "      <td>NaN</td>\n",
       "      <td>NaN</td>\n",
       "      <td>NaN</td>\n",
       "    </tr>\n",
       "    <tr>\n",
       "      <th>...</th>\n",
       "      <td>...</td>\n",
       "      <td>...</td>\n",
       "      <td>...</td>\n",
       "      <td>...</td>\n",
       "      <td>...</td>\n",
       "      <td>...</td>\n",
       "      <td>...</td>\n",
       "      <td>...</td>\n",
       "      <td>...</td>\n",
       "      <td>...</td>\n",
       "      <td>...</td>\n",
       "      <td>...</td>\n",
       "      <td>...</td>\n",
       "      <td>...</td>\n",
       "    </tr>\n",
       "    <tr>\n",
       "      <th>2021-06-04</th>\n",
       "      <td>36847.7</td>\n",
       "      <td>37066.4</td>\n",
       "      <td>4991.51744280</td>\n",
       "      <td>46978</td>\n",
       "      <td>-0.059926</td>\n",
       "      <td>0</td>\n",
       "      <td>48232.938</td>\n",
       "      <td>51884.417</td>\n",
       "      <td>0.0</td>\n",
       "      <td>0.0</td>\n",
       "      <td>38419.565</td>\n",
       "      <td>3020.097127</td>\n",
       "      <td>41439.662127</td>\n",
       "      <td>35399.467873</td>\n",
       "    </tr>\n",
       "    <tr>\n",
       "      <th>2021-06-05</th>\n",
       "      <td>35534.6</td>\n",
       "      <td>36066.4</td>\n",
       "      <td>5532.75325986</td>\n",
       "      <td>39833</td>\n",
       "      <td>-0.035636</td>\n",
       "      <td>0</td>\n",
       "      <td>47714.530</td>\n",
       "      <td>51769.148</td>\n",
       "      <td>0.0</td>\n",
       "      <td>0.0</td>\n",
       "      <td>37872.175</td>\n",
       "      <td>2412.901126</td>\n",
       "      <td>40285.076126</td>\n",
       "      <td>35459.273874</td>\n",
       "    </tr>\n",
       "    <tr>\n",
       "      <th>2021-06-06</th>\n",
       "      <td>35789.0</td>\n",
       "      <td>35930.0</td>\n",
       "      <td>3187.54640121</td>\n",
       "      <td>23692</td>\n",
       "      <td>0.007159</td>\n",
       "      <td>1</td>\n",
       "      <td>47228.606</td>\n",
       "      <td>51663.893</td>\n",
       "      <td>0.0</td>\n",
       "      <td>0.0</td>\n",
       "      <td>37484.035</td>\n",
       "      <td>2047.953661</td>\n",
       "      <td>39531.988661</td>\n",
       "      <td>35436.081339</td>\n",
       "    </tr>\n",
       "    <tr>\n",
       "      <th>2021-06-07</th>\n",
       "      <td>33587.6</td>\n",
       "      <td>35319.4</td>\n",
       "      <td>6165.92045486</td>\n",
       "      <td>42615</td>\n",
       "      <td>-0.061511</td>\n",
       "      <td>0</td>\n",
       "      <td>46775.562</td>\n",
       "      <td>51538.067</td>\n",
       "      <td>0.0</td>\n",
       "      <td>0.0</td>\n",
       "      <td>37018.655</td>\n",
       "      <td>1795.580802</td>\n",
       "      <td>38814.235802</td>\n",
       "      <td>35223.074198</td>\n",
       "    </tr>\n",
       "    <tr>\n",
       "      <th>2021-06-08</th>\n",
       "      <td>33870.0</td>\n",
       "      <td>33736.3</td>\n",
       "      <td>86.42800043</td>\n",
       "      <td>575</td>\n",
       "      <td>0.008408</td>\n",
       "      <td>1</td>\n",
       "      <td>46338.562</td>\n",
       "      <td>51424.313</td>\n",
       "      <td>0.0</td>\n",
       "      <td>0.0</td>\n",
       "      <td>36875.040</td>\n",
       "      <td>1928.774478</td>\n",
       "      <td>38803.814478</td>\n",
       "      <td>34946.265522</td>\n",
       "    </tr>\n",
       "  </tbody>\n",
       "</table>\n",
       "<p>719 rows × 14 columns</p>\n",
       "</div>"
      ],
      "text/plain": [
       "              close     vwap          volume  tradecount   returns  \\\n",
       "date                                                                 \n",
       "2019-06-21  10219.2   9835.0   9099.70690374       29051  0.071835   \n",
       "2019-06-22  10663.8  10665.9  12842.48586265       54100  0.043506   \n",
       "2019-06-23  10814.1  10837.5   5943.46891708       34849  0.014094   \n",
       "2019-06-24  11020.6  10843.5   5457.41272587       26308  0.019095   \n",
       "2019-06-25  11765.1  11340.2  11623.88144358       40223  0.067555   \n",
       "...             ...      ...             ...         ...       ...   \n",
       "2021-06-04  36847.7  37066.4   4991.51744280       46978 -0.059926   \n",
       "2021-06-05  35534.6  36066.4   5532.75325986       39833 -0.035636   \n",
       "2021-06-06  35789.0  35930.0   3187.54640121       23692  0.007159   \n",
       "2021-06-07  33587.6  35319.4   6165.92045486       42615 -0.061511   \n",
       "2021-06-08  33870.0  33736.3     86.42800043         575  0.008408   \n",
       "\n",
       "            change_in_price      SMA50     SMA100  Signal  Entry/Exit  \\\n",
       "date                                                                    \n",
       "2019-06-21                1        NaN        NaN     0.0         NaN   \n",
       "2019-06-22                1        NaN        NaN     0.0         0.0   \n",
       "2019-06-23                1        NaN        NaN     0.0         0.0   \n",
       "2019-06-24                1        NaN        NaN     0.0         0.0   \n",
       "2019-06-25                1        NaN        NaN     0.0         0.0   \n",
       "...                     ...        ...        ...     ...         ...   \n",
       "2021-06-04                0  48232.938  51884.417     0.0         0.0   \n",
       "2021-06-05                0  47714.530  51769.148     0.0         0.0   \n",
       "2021-06-06                1  47228.606  51663.893     0.0         0.0   \n",
       "2021-06-07                0  46775.562  51538.067     0.0         0.0   \n",
       "2021-06-08                1  46338.562  51424.313     0.0         0.0   \n",
       "\n",
       "            bollinger_mid_band  bollinger_std  bollinger_upper_band  \\\n",
       "date                                                                  \n",
       "2019-06-21                 NaN            NaN                   NaN   \n",
       "2019-06-22                 NaN            NaN                   NaN   \n",
       "2019-06-23                 NaN            NaN                   NaN   \n",
       "2019-06-24                 NaN            NaN                   NaN   \n",
       "2019-06-25                 NaN            NaN                   NaN   \n",
       "...                        ...            ...                   ...   \n",
       "2021-06-04           38419.565    3020.097127          41439.662127   \n",
       "2021-06-05           37872.175    2412.901126          40285.076126   \n",
       "2021-06-06           37484.035    2047.953661          39531.988661   \n",
       "2021-06-07           37018.655    1795.580802          38814.235802   \n",
       "2021-06-08           36875.040    1928.774478          38803.814478   \n",
       "\n",
       "            bollinger_lower_band  \n",
       "date                              \n",
       "2019-06-21                   NaN  \n",
       "2019-06-22                   NaN  \n",
       "2019-06-23                   NaN  \n",
       "2019-06-24                   NaN  \n",
       "2019-06-25                   NaN  \n",
       "...                          ...  \n",
       "2021-06-04          35399.467873  \n",
       "2021-06-05          35459.273874  \n",
       "2021-06-06          35436.081339  \n",
       "2021-06-07          35223.074198  \n",
       "2021-06-08          34946.265522  \n",
       "\n",
       "[719 rows x 14 columns]"
      ]
     },
     "execution_count": 9,
     "metadata": {},
     "output_type": "execute_result"
    }
   ],
   "source": [
    "bollinger_window = 20\n",
    "\n",
    "# Calculate rolling mean and standard deviation\n",
    "all_sig = mov_avg.copy()\n",
    "all_sig['bollinger_mid_band'] = mov_avg['close'].rolling(window=bollinger_window).mean()\n",
    "all_sig['bollinger_std'] = mov_avg['close'].rolling(window=20).std()\n",
    "\n",
    "# Calculate upper and lowers bands of bollinger band\n",
    "all_sig['bollinger_upper_band']  = all_sig['bollinger_mid_band'] + (all_sig['bollinger_std'] * 1)\n",
    "all_sig['bollinger_lower_band']  = all_sig['bollinger_mid_band'] - (all_sig['bollinger_std'] * 1)\n",
    "all_sig"
   ]
  },
  {
   "cell_type": "code",
   "execution_count": 10,
   "metadata": {},
   "outputs": [],
   "source": [
    "from ta.momentum import RSIIndicator"
   ]
  },
  {
   "cell_type": "code",
   "execution_count": 11,
   "metadata": {},
   "outputs": [],
   "source": [
    "rsi_21 = RSIIndicator(close = all_sig.close, window = 21)\n",
    "all_sig[\"RSI\"] = rsi_21.rsi()"
   ]
  },
  {
   "cell_type": "code",
   "execution_count": 12,
   "metadata": {},
   "outputs": [
    {
     "data": {
      "text/html": [
       "<div>\n",
       "<style scoped>\n",
       "    .dataframe tbody tr th:only-of-type {\n",
       "        vertical-align: middle;\n",
       "    }\n",
       "\n",
       "    .dataframe tbody tr th {\n",
       "        vertical-align: top;\n",
       "    }\n",
       "\n",
       "    .dataframe thead th {\n",
       "        text-align: right;\n",
       "    }\n",
       "</style>\n",
       "<table border=\"1\" class=\"dataframe\">\n",
       "  <thead>\n",
       "    <tr style=\"text-align: right;\">\n",
       "      <th></th>\n",
       "      <th>close</th>\n",
       "      <th>vwap</th>\n",
       "      <th>volume</th>\n",
       "      <th>tradecount</th>\n",
       "      <th>returns</th>\n",
       "      <th>change_in_price</th>\n",
       "      <th>SMA50</th>\n",
       "      <th>SMA100</th>\n",
       "      <th>Signal</th>\n",
       "      <th>Entry/Exit</th>\n",
       "      <th>bollinger_mid_band</th>\n",
       "      <th>bollinger_std</th>\n",
       "      <th>bollinger_upper_band</th>\n",
       "      <th>bollinger_lower_band</th>\n",
       "      <th>RSI</th>\n",
       "    </tr>\n",
       "    <tr>\n",
       "      <th>date</th>\n",
       "      <th></th>\n",
       "      <th></th>\n",
       "      <th></th>\n",
       "      <th></th>\n",
       "      <th></th>\n",
       "      <th></th>\n",
       "      <th></th>\n",
       "      <th></th>\n",
       "      <th></th>\n",
       "      <th></th>\n",
       "      <th></th>\n",
       "      <th></th>\n",
       "      <th></th>\n",
       "      <th></th>\n",
       "      <th></th>\n",
       "    </tr>\n",
       "  </thead>\n",
       "  <tbody>\n",
       "    <tr>\n",
       "      <th>2019-06-21</th>\n",
       "      <td>10219.2</td>\n",
       "      <td>9835.0</td>\n",
       "      <td>9099.70690374</td>\n",
       "      <td>29051</td>\n",
       "      <td>0.071835</td>\n",
       "      <td>1</td>\n",
       "      <td>NaN</td>\n",
       "      <td>NaN</td>\n",
       "      <td>0.0</td>\n",
       "      <td>NaN</td>\n",
       "      <td>NaN</td>\n",
       "      <td>NaN</td>\n",
       "      <td>NaN</td>\n",
       "      <td>NaN</td>\n",
       "      <td>NaN</td>\n",
       "    </tr>\n",
       "    <tr>\n",
       "      <th>2019-06-22</th>\n",
       "      <td>10663.8</td>\n",
       "      <td>10665.9</td>\n",
       "      <td>12842.48586265</td>\n",
       "      <td>54100</td>\n",
       "      <td>0.043506</td>\n",
       "      <td>1</td>\n",
       "      <td>NaN</td>\n",
       "      <td>NaN</td>\n",
       "      <td>0.0</td>\n",
       "      <td>0.0</td>\n",
       "      <td>NaN</td>\n",
       "      <td>NaN</td>\n",
       "      <td>NaN</td>\n",
       "      <td>NaN</td>\n",
       "      <td>NaN</td>\n",
       "    </tr>\n",
       "    <tr>\n",
       "      <th>2019-06-23</th>\n",
       "      <td>10814.1</td>\n",
       "      <td>10837.5</td>\n",
       "      <td>5943.46891708</td>\n",
       "      <td>34849</td>\n",
       "      <td>0.014094</td>\n",
       "      <td>1</td>\n",
       "      <td>NaN</td>\n",
       "      <td>NaN</td>\n",
       "      <td>0.0</td>\n",
       "      <td>0.0</td>\n",
       "      <td>NaN</td>\n",
       "      <td>NaN</td>\n",
       "      <td>NaN</td>\n",
       "      <td>NaN</td>\n",
       "      <td>NaN</td>\n",
       "    </tr>\n",
       "    <tr>\n",
       "      <th>2019-06-24</th>\n",
       "      <td>11020.6</td>\n",
       "      <td>10843.5</td>\n",
       "      <td>5457.41272587</td>\n",
       "      <td>26308</td>\n",
       "      <td>0.019095</td>\n",
       "      <td>1</td>\n",
       "      <td>NaN</td>\n",
       "      <td>NaN</td>\n",
       "      <td>0.0</td>\n",
       "      <td>0.0</td>\n",
       "      <td>NaN</td>\n",
       "      <td>NaN</td>\n",
       "      <td>NaN</td>\n",
       "      <td>NaN</td>\n",
       "      <td>NaN</td>\n",
       "    </tr>\n",
       "    <tr>\n",
       "      <th>2019-06-25</th>\n",
       "      <td>11765.1</td>\n",
       "      <td>11340.2</td>\n",
       "      <td>11623.88144358</td>\n",
       "      <td>40223</td>\n",
       "      <td>0.067555</td>\n",
       "      <td>1</td>\n",
       "      <td>NaN</td>\n",
       "      <td>NaN</td>\n",
       "      <td>0.0</td>\n",
       "      <td>0.0</td>\n",
       "      <td>NaN</td>\n",
       "      <td>NaN</td>\n",
       "      <td>NaN</td>\n",
       "      <td>NaN</td>\n",
       "      <td>NaN</td>\n",
       "    </tr>\n",
       "    <tr>\n",
       "      <th>...</th>\n",
       "      <td>...</td>\n",
       "      <td>...</td>\n",
       "      <td>...</td>\n",
       "      <td>...</td>\n",
       "      <td>...</td>\n",
       "      <td>...</td>\n",
       "      <td>...</td>\n",
       "      <td>...</td>\n",
       "      <td>...</td>\n",
       "      <td>...</td>\n",
       "      <td>...</td>\n",
       "      <td>...</td>\n",
       "      <td>...</td>\n",
       "      <td>...</td>\n",
       "      <td>...</td>\n",
       "    </tr>\n",
       "    <tr>\n",
       "      <th>2021-06-04</th>\n",
       "      <td>36847.7</td>\n",
       "      <td>37066.4</td>\n",
       "      <td>4991.51744280</td>\n",
       "      <td>46978</td>\n",
       "      <td>-0.059926</td>\n",
       "      <td>0</td>\n",
       "      <td>48232.938</td>\n",
       "      <td>51884.417</td>\n",
       "      <td>0.0</td>\n",
       "      <td>0.0</td>\n",
       "      <td>38419.565</td>\n",
       "      <td>3020.097127</td>\n",
       "      <td>41439.662127</td>\n",
       "      <td>35399.467873</td>\n",
       "      <td>39.554589</td>\n",
       "    </tr>\n",
       "    <tr>\n",
       "      <th>2021-06-05</th>\n",
       "      <td>35534.6</td>\n",
       "      <td>36066.4</td>\n",
       "      <td>5532.75325986</td>\n",
       "      <td>39833</td>\n",
       "      <td>-0.035636</td>\n",
       "      <td>0</td>\n",
       "      <td>47714.530</td>\n",
       "      <td>51769.148</td>\n",
       "      <td>0.0</td>\n",
       "      <td>0.0</td>\n",
       "      <td>37872.175</td>\n",
       "      <td>2412.901126</td>\n",
       "      <td>40285.076126</td>\n",
       "      <td>35459.273874</td>\n",
       "      <td>38.155382</td>\n",
       "    </tr>\n",
       "    <tr>\n",
       "      <th>2021-06-06</th>\n",
       "      <td>35789.0</td>\n",
       "      <td>35930.0</td>\n",
       "      <td>3187.54640121</td>\n",
       "      <td>23692</td>\n",
       "      <td>0.007159</td>\n",
       "      <td>1</td>\n",
       "      <td>47228.606</td>\n",
       "      <td>51663.893</td>\n",
       "      <td>0.0</td>\n",
       "      <td>0.0</td>\n",
       "      <td>37484.035</td>\n",
       "      <td>2047.953661</td>\n",
       "      <td>39531.988661</td>\n",
       "      <td>35436.081339</td>\n",
       "      <td>38.597238</td>\n",
       "    </tr>\n",
       "    <tr>\n",
       "      <th>2021-06-07</th>\n",
       "      <td>33587.6</td>\n",
       "      <td>35319.4</td>\n",
       "      <td>6165.92045486</td>\n",
       "      <td>42615</td>\n",
       "      <td>-0.061511</td>\n",
       "      <td>0</td>\n",
       "      <td>46775.562</td>\n",
       "      <td>51538.067</td>\n",
       "      <td>0.0</td>\n",
       "      <td>0.0</td>\n",
       "      <td>37018.655</td>\n",
       "      <td>1795.580802</td>\n",
       "      <td>38814.235802</td>\n",
       "      <td>35223.074198</td>\n",
       "      <td>36.244402</td>\n",
       "    </tr>\n",
       "    <tr>\n",
       "      <th>2021-06-08</th>\n",
       "      <td>33870.0</td>\n",
       "      <td>33736.3</td>\n",
       "      <td>86.42800043</td>\n",
       "      <td>575</td>\n",
       "      <td>0.008408</td>\n",
       "      <td>1</td>\n",
       "      <td>46338.562</td>\n",
       "      <td>51424.313</td>\n",
       "      <td>0.0</td>\n",
       "      <td>0.0</td>\n",
       "      <td>36875.040</td>\n",
       "      <td>1928.774478</td>\n",
       "      <td>38803.814478</td>\n",
       "      <td>34946.265522</td>\n",
       "      <td>36.763629</td>\n",
       "    </tr>\n",
       "  </tbody>\n",
       "</table>\n",
       "<p>719 rows × 15 columns</p>\n",
       "</div>"
      ],
      "text/plain": [
       "              close     vwap          volume  tradecount   returns  \\\n",
       "date                                                                 \n",
       "2019-06-21  10219.2   9835.0   9099.70690374       29051  0.071835   \n",
       "2019-06-22  10663.8  10665.9  12842.48586265       54100  0.043506   \n",
       "2019-06-23  10814.1  10837.5   5943.46891708       34849  0.014094   \n",
       "2019-06-24  11020.6  10843.5   5457.41272587       26308  0.019095   \n",
       "2019-06-25  11765.1  11340.2  11623.88144358       40223  0.067555   \n",
       "...             ...      ...             ...         ...       ...   \n",
       "2021-06-04  36847.7  37066.4   4991.51744280       46978 -0.059926   \n",
       "2021-06-05  35534.6  36066.4   5532.75325986       39833 -0.035636   \n",
       "2021-06-06  35789.0  35930.0   3187.54640121       23692  0.007159   \n",
       "2021-06-07  33587.6  35319.4   6165.92045486       42615 -0.061511   \n",
       "2021-06-08  33870.0  33736.3     86.42800043         575  0.008408   \n",
       "\n",
       "            change_in_price      SMA50     SMA100  Signal  Entry/Exit  \\\n",
       "date                                                                    \n",
       "2019-06-21                1        NaN        NaN     0.0         NaN   \n",
       "2019-06-22                1        NaN        NaN     0.0         0.0   \n",
       "2019-06-23                1        NaN        NaN     0.0         0.0   \n",
       "2019-06-24                1        NaN        NaN     0.0         0.0   \n",
       "2019-06-25                1        NaN        NaN     0.0         0.0   \n",
       "...                     ...        ...        ...     ...         ...   \n",
       "2021-06-04                0  48232.938  51884.417     0.0         0.0   \n",
       "2021-06-05                0  47714.530  51769.148     0.0         0.0   \n",
       "2021-06-06                1  47228.606  51663.893     0.0         0.0   \n",
       "2021-06-07                0  46775.562  51538.067     0.0         0.0   \n",
       "2021-06-08                1  46338.562  51424.313     0.0         0.0   \n",
       "\n",
       "            bollinger_mid_band  bollinger_std  bollinger_upper_band  \\\n",
       "date                                                                  \n",
       "2019-06-21                 NaN            NaN                   NaN   \n",
       "2019-06-22                 NaN            NaN                   NaN   \n",
       "2019-06-23                 NaN            NaN                   NaN   \n",
       "2019-06-24                 NaN            NaN                   NaN   \n",
       "2019-06-25                 NaN            NaN                   NaN   \n",
       "...                        ...            ...                   ...   \n",
       "2021-06-04           38419.565    3020.097127          41439.662127   \n",
       "2021-06-05           37872.175    2412.901126          40285.076126   \n",
       "2021-06-06           37484.035    2047.953661          39531.988661   \n",
       "2021-06-07           37018.655    1795.580802          38814.235802   \n",
       "2021-06-08           36875.040    1928.774478          38803.814478   \n",
       "\n",
       "            bollinger_lower_band        RSI  \n",
       "date                                         \n",
       "2019-06-21                   NaN        NaN  \n",
       "2019-06-22                   NaN        NaN  \n",
       "2019-06-23                   NaN        NaN  \n",
       "2019-06-24                   NaN        NaN  \n",
       "2019-06-25                   NaN        NaN  \n",
       "...                          ...        ...  \n",
       "2021-06-04          35399.467873  39.554589  \n",
       "2021-06-05          35459.273874  38.155382  \n",
       "2021-06-06          35436.081339  38.597238  \n",
       "2021-06-07          35223.074198  36.244402  \n",
       "2021-06-08          34946.265522  36.763629  \n",
       "\n",
       "[719 rows x 15 columns]"
      ]
     },
     "execution_count": 12,
     "metadata": {},
     "output_type": "execute_result"
    }
   ],
   "source": [
    "all_sig"
   ]
  },
  {
   "cell_type": "code",
   "execution_count": null,
   "metadata": {},
   "outputs": [],
   "source": []
  },
  {
   "cell_type": "markdown",
   "metadata": {},
   "source": [
    "# ARIMA Model"
   ]
  },
  {
   "cell_type": "code",
   "execution_count": 13,
   "metadata": {},
   "outputs": [
    {
     "data": {
      "text/plain": [
       "<AxesSubplot:xlabel='date'>"
      ]
     },
     "execution_count": 13,
     "metadata": {},
     "output_type": "execute_result"
    },
    {
     "data": {
      "image/png": "[encoded data removed]",
      "text/plain": [
       "<Figure size 432x288 with 1 Axes>"
      ]
     },
     "metadata": {
      "needs_background": "light"
     },
     "output_type": "display_data"
    }
   ],
   "source": [
    "btc.close.plot()"
   ]
  },
  {
   "cell_type": "code",
   "execution_count": 14,
   "metadata": {},
   "outputs": [
    {
     "data": {
      "text/plain": [
       "<AxesSubplot:xlabel='date'>"
      ]
     },
     "execution_count": 14,
     "metadata": {},
     "output_type": "execute_result"
    },
    {
     "data": {
      "image/png": "[encoded data removed]",
      "text/plain": [
       "<Figure size 432x288 with 1 Axes>"
      ]
     },
     "metadata": {
      "needs_background": "light"
     },
     "output_type": "display_data"
    }
   ],
   "source": [
    "btc.close.diff().plot()"
   ]
  },
  {
   "cell_type": "code",
   "execution_count": 15,
   "metadata": {},
   "outputs": [
    {
     "data": {
      "image/png": "[encoded data removed]",
      "text/plain": [
       "<Figure size 432x288 with 1 Axes>"
      ]
     },
     "metadata": {
      "needs_background": "light"
     },
     "output_type": "display_data"
    }
   ],
   "source": [
    "from statsmodels.graphics.tsaplots import plot_acf, plot_pacf\n",
    "plot_acf(btc.close, zero=False, lags=35);"
   ]
  },
  {
   "cell_type": "code",
   "execution_count": 39,
   "metadata": {},
   "outputs": [
    {
     "name": "stderr",
     "output_type": "stream",
     "text": [
      "C:\\Users\\15159\\anaconda3\\envs\\mlenv\\lib\\site-packages\\statsmodels\\regression\\linear_model.py:1434: RuntimeWarning: invalid value encountered in sqrt\n",
      "  return rho, np.sqrt(sigmasq)\n"
     ]
    },
    {
     "data": {
      "image/png": "[encoded data removed]",
      "text/plain": [
       "<Figure size 432x288 with 1 Axes>"
      ]
     },
     "metadata": {
      "needs_background": "light"
     },
     "output_type": "display_data"
    }
   ],
   "source": [
    "from statsmodels.graphics.tsaplots import plot_acf, plot_pacf\n",
    "plot_pacf(btc.close, zero=False, lags=35);"
   ]
  },
  {
   "cell_type": "code",
   "execution_count": 17,
   "metadata": {},
   "outputs": [
    {
     "name": "stderr",
     "output_type": "stream",
     "text": [
      "C:\\Users\\15159\\anaconda3\\envs\\mlenv\\lib\\site-packages\\statsmodels\\tsa\\arima_model.py:472: FutureWarning: \n",
      "statsmodels.tsa.arima_model.ARMA and statsmodels.tsa.arima_model.ARIMA have\n",
      "been deprecated in favor of statsmodels.tsa.arima.model.ARIMA (note the .\n",
      "between arima and model) and\n",
      "statsmodels.tsa.SARIMAX. These will be removed after the 0.12 release.\n",
      "\n",
      "statsmodels.tsa.arima.model.ARIMA makes use of the statespace framework and\n",
      "is both well tested and maintained.\n",
      "\n",
      "To silence this warning and continue using ARMA and ARIMA until they are\n",
      "removed, use:\n",
      "\n",
      "import warnings\n",
      "warnings.filterwarnings('ignore', 'statsmodels.tsa.arima_model.ARMA',\n",
      "                        FutureWarning)\n",
      "warnings.filterwarnings('ignore', 'statsmodels.tsa.arima_model.ARIMA',\n",
      "                        FutureWarning)\n",
      "\n",
      "  warnings.warn(ARIMA_DEPRECATION_WARN, FutureWarning)\n"
     ]
    }
   ],
   "source": [
    "# Create an ARIMA model\n",
    "from statsmodels.tsa.arima_model import ARIMA\n",
    "model = ARIMA(btc.close.values, order=(1, 1, 1))"
   ]
  },
  {
   "cell_type": "code",
   "execution_count": 18,
   "metadata": {},
   "outputs": [
    {
     "name": "stderr",
     "output_type": "stream",
     "text": [
      "C:\\Users\\15159\\anaconda3\\envs\\mlenv\\lib\\site-packages\\statsmodels\\tsa\\arima_model.py:472: FutureWarning: \n",
      "statsmodels.tsa.arima_model.ARMA and statsmodels.tsa.arima_model.ARIMA have\n",
      "been deprecated in favor of statsmodels.tsa.arima.model.ARIMA (note the .\n",
      "between arima and model) and\n",
      "statsmodels.tsa.SARIMAX. These will be removed after the 0.12 release.\n",
      "\n",
      "statsmodels.tsa.arima.model.ARIMA makes use of the statespace framework and\n",
      "is both well tested and maintained.\n",
      "\n",
      "To silence this warning and continue using ARMA and ARIMA until they are\n",
      "removed, use:\n",
      "\n",
      "import warnings\n",
      "warnings.filterwarnings('ignore', 'statsmodels.tsa.arima_model.ARMA',\n",
      "                        FutureWarning)\n",
      "warnings.filterwarnings('ignore', 'statsmodels.tsa.arima_model.ARIMA',\n",
      "                        FutureWarning)\n",
      "\n",
      "  warnings.warn(ARIMA_DEPRECATION_WARN, FutureWarning)\n"
     ]
    }
   ],
   "source": [
    "# Fit the model to the data\n",
    "results = model.fit()"
   ]
  },
  {
   "cell_type": "code",
   "execution_count": 19,
   "metadata": {},
   "outputs": [
    {
     "data": {
      "text/html": [
       "<table class=\"simpletable\">\n",
       "<caption>ARIMA Model Results</caption>\n",
       "<tr>\n",
       "  <th>Dep. Variable:</th>        <td>D.y</td>       <th>  No. Observations:  </th>    <td>718</td>   \n",
       "</tr>\n",
       "<tr>\n",
       "  <th>Model:</th>          <td>ARIMA(1, 1, 1)</td>  <th>  Log Likelihood     </th> <td>-6030.633</td>\n",
       "</tr>\n",
       "<tr>\n",
       "  <th>Method:</th>             <td>css-mle</td>     <th>  S.D. of innovations</th> <td>1075.199</td> \n",
       "</tr>\n",
       "<tr>\n",
       "  <th>Date:</th>          <td>Mon, 07 Jun 2021</td> <th>  AIC                </th> <td>12069.266</td>\n",
       "</tr>\n",
       "<tr>\n",
       "  <th>Time:</th>              <td>20:09:58</td>     <th>  BIC                </th> <td>12087.572</td>\n",
       "</tr>\n",
       "<tr>\n",
       "  <th>Sample:</th>                <td>1</td>        <th>  HQIC               </th> <td>12076.334</td>\n",
       "</tr>\n",
       "<tr>\n",
       "  <th></th>                       <td> </td>        <th>                     </th>     <td> </td>    \n",
       "</tr>\n",
       "</table>\n",
       "<table class=\"simpletable\">\n",
       "<tr>\n",
       "      <td></td>         <th>coef</th>     <th>std err</th>      <th>z</th>      <th>P>|z|</th>  <th>[0.025</th>    <th>0.975]</th>  \n",
       "</tr>\n",
       "<tr>\n",
       "  <th>const</th>     <td>   32.9392</td> <td>   37.728</td> <td>    0.873</td> <td> 0.383</td> <td>  -41.006</td> <td>  106.885</td>\n",
       "</tr>\n",
       "<tr>\n",
       "  <th>ar.L1.D.y</th> <td>   -0.5423</td> <td>    0.259</td> <td>   -2.096</td> <td> 0.036</td> <td>   -1.049</td> <td>   -0.035</td>\n",
       "</tr>\n",
       "<tr>\n",
       "  <th>ma.L1.D.y</th> <td>    0.4500</td> <td>    0.275</td> <td>    1.636</td> <td> 0.102</td> <td>   -0.089</td> <td>    0.989</td>\n",
       "</tr>\n",
       "</table>\n",
       "<table class=\"simpletable\">\n",
       "<caption>Roots</caption>\n",
       "<tr>\n",
       "    <td></td>   <th>            Real</th>  <th>         Imaginary</th> <th>         Modulus</th>  <th>        Frequency</th>\n",
       "</tr>\n",
       "<tr>\n",
       "  <th>AR.1</th> <td>          -1.8441</td> <td>          +0.0000j</td> <td>           1.8441</td> <td>           0.5000</td>\n",
       "</tr>\n",
       "<tr>\n",
       "  <th>MA.1</th> <td>          -2.2221</td> <td>          +0.0000j</td> <td>           2.2221</td> <td>           0.5000</td>\n",
       "</tr>\n",
       "</table>"
      ],
      "text/plain": [
       "<class 'statsmodels.iolib.summary.Summary'>\n",
       "\"\"\"\n",
       "                             ARIMA Model Results                              \n",
       "==============================================================================\n",
       "Dep. Variable:                    D.y   No. Observations:                  718\n",
       "Model:                 ARIMA(1, 1, 1)   Log Likelihood               -6030.633\n",
       "Method:                       css-mle   S.D. of innovations           1075.199\n",
       "Date:                Mon, 07 Jun 2021   AIC                          12069.266\n",
       "Time:                        20:09:58   BIC                          12087.572\n",
       "Sample:                             1   HQIC                         12076.334\n",
       "                                                                              \n",
       "==============================================================================\n",
       "                 coef    std err          z      P>|z|      [0.025      0.975]\n",
       "------------------------------------------------------------------------------\n",
       "const         32.9392     37.728      0.873      0.383     -41.006     106.885\n",
       "ar.L1.D.y     -0.5423      0.259     -2.096      0.036      -1.049      -0.035\n",
       "ma.L1.D.y      0.4500      0.275      1.636      0.102      -0.089       0.989\n",
       "                                    Roots                                    \n",
       "=============================================================================\n",
       "                  Real          Imaginary           Modulus         Frequency\n",
       "-----------------------------------------------------------------------------\n",
       "AR.1           -1.8441           +0.0000j            1.8441            0.5000\n",
       "MA.1           -2.2221           +0.0000j            2.2221            0.5000\n",
       "-----------------------------------------------------------------------------\n",
       "\"\"\""
      ]
     },
     "execution_count": 19,
     "metadata": {},
     "output_type": "execute_result"
    }
   ],
   "source": [
    "# Print the model summary\n",
    "results.summary()"
   ]
  },
  {
   "cell_type": "code",
   "execution_count": 20,
   "metadata": {},
   "outputs": [
    {
     "data": {
      "text/plain": [
       "<AxesSubplot:title={'center':'Futures Forecast'}>"
      ]
     },
     "execution_count": 20,
     "metadata": {},
     "output_type": "execute_result"
    },
    {
     "data": {
      "image/png": "[encoded data removed]",
      "text/plain": [
       "<Figure size 432x288 with 1 Axes>"
      ]
     },
     "metadata": {
      "needs_background": "light"
     },
     "output_type": "display_data"
    }
   ],
   "source": [
    "pd.DataFrame(results.forecast(steps=10)[0]).plot(title=\"Futures Forecast\")"
   ]
  },
  {
   "cell_type": "markdown",
   "metadata": {},
   "source": [
    "# ARIMA LAG 2"
   ]
  },
  {
   "cell_type": "code",
   "execution_count": 21,
   "metadata": {},
   "outputs": [
    {
     "name": "stderr",
     "output_type": "stream",
     "text": [
      "C:\\Users\\15159\\anaconda3\\envs\\mlenv\\lib\\site-packages\\statsmodels\\tsa\\arima_model.py:472: FutureWarning: \n",
      "statsmodels.tsa.arima_model.ARMA and statsmodels.tsa.arima_model.ARIMA have\n",
      "been deprecated in favor of statsmodels.tsa.arima.model.ARIMA (note the .\n",
      "between arima and model) and\n",
      "statsmodels.tsa.SARIMAX. These will be removed after the 0.12 release.\n",
      "\n",
      "statsmodels.tsa.arima.model.ARIMA makes use of the statespace framework and\n",
      "is both well tested and maintained.\n",
      "\n",
      "To silence this warning and continue using ARMA and ARIMA until they are\n",
      "removed, use:\n",
      "\n",
      "import warnings\n",
      "warnings.filterwarnings('ignore', 'statsmodels.tsa.arima_model.ARMA',\n",
      "                        FutureWarning)\n",
      "warnings.filterwarnings('ignore', 'statsmodels.tsa.arima_model.ARIMA',\n",
      "                        FutureWarning)\n",
      "\n",
      "  warnings.warn(ARIMA_DEPRECATION_WARN, FutureWarning)\n",
      "C:\\Users\\15159\\anaconda3\\envs\\mlenv\\lib\\site-packages\\statsmodels\\tsa\\arima_model.py:472: FutureWarning: \n",
      "statsmodels.tsa.arima_model.ARMA and statsmodels.tsa.arima_model.ARIMA have\n",
      "been deprecated in favor of statsmodels.tsa.arima.model.ARIMA (note the .\n",
      "between arima and model) and\n",
      "statsmodels.tsa.SARIMAX. These will be removed after the 0.12 release.\n",
      "\n",
      "statsmodels.tsa.arima.model.ARIMA makes use of the statespace framework and\n",
      "is both well tested and maintained.\n",
      "\n",
      "To silence this warning and continue using ARMA and ARIMA until they are\n",
      "removed, use:\n",
      "\n",
      "import warnings\n",
      "warnings.filterwarnings('ignore', 'statsmodels.tsa.arima_model.ARMA',\n",
      "                        FutureWarning)\n",
      "warnings.filterwarnings('ignore', 'statsmodels.tsa.arima_model.ARIMA',\n",
      "                        FutureWarning)\n",
      "\n",
      "  warnings.warn(ARIMA_DEPRECATION_WARN, FutureWarning)\n"
     ]
    }
   ],
   "source": [
    "model2 = ARIMA(btc.close.values, order=(2, 1, 1))\n",
    "results2 = model2.fit()"
   ]
  },
  {
   "cell_type": "code",
   "execution_count": 22,
   "metadata": {},
   "outputs": [
    {
     "data": {
      "text/html": [
       "<table class=\"simpletable\">\n",
       "<caption>ARIMA Model Results</caption>\n",
       "<tr>\n",
       "  <th>Dep. Variable:</th>        <td>D.y</td>       <th>  No. Observations:  </th>    <td>718</td>   \n",
       "</tr>\n",
       "<tr>\n",
       "  <th>Model:</th>          <td>ARIMA(2, 1, 1)</td>  <th>  Log Likelihood     </th> <td>-6027.223</td>\n",
       "</tr>\n",
       "<tr>\n",
       "  <th>Method:</th>             <td>css-mle</td>     <th>  S.D. of innovations</th> <td>1070.086</td> \n",
       "</tr>\n",
       "<tr>\n",
       "  <th>Date:</th>          <td>Mon, 07 Jun 2021</td> <th>  AIC                </th> <td>12064.445</td>\n",
       "</tr>\n",
       "<tr>\n",
       "  <th>Time:</th>              <td>20:09:58</td>     <th>  BIC                </th> <td>12087.328</td>\n",
       "</tr>\n",
       "<tr>\n",
       "  <th>Sample:</th>                <td>1</td>        <th>  HQIC               </th> <td>12073.280</td>\n",
       "</tr>\n",
       "<tr>\n",
       "  <th></th>                       <td> </td>        <th>                     </th>     <td> </td>    \n",
       "</tr>\n",
       "</table>\n",
       "<table class=\"simpletable\">\n",
       "<tr>\n",
       "      <td></td>         <th>coef</th>     <th>std err</th>      <th>z</th>      <th>P>|z|</th>  <th>[0.025</th>    <th>0.975]</th>  \n",
       "</tr>\n",
       "<tr>\n",
       "  <th>const</th>     <td>   32.3137</td> <td>   45.198</td> <td>    0.715</td> <td> 0.475</td> <td>  -56.272</td> <td>  120.899</td>\n",
       "</tr>\n",
       "<tr>\n",
       "  <th>ar.L1.D.y</th> <td>    0.4226</td> <td>    0.214</td> <td>    1.973</td> <td> 0.048</td> <td>    0.003</td> <td>    0.842</td>\n",
       "</tr>\n",
       "<tr>\n",
       "  <th>ar.L2.D.y</th> <td>    0.1449</td> <td>    0.037</td> <td>    3.887</td> <td> 0.000</td> <td>    0.072</td> <td>    0.218</td>\n",
       "</tr>\n",
       "<tr>\n",
       "  <th>ma.L1.D.y</th> <td>   -0.5101</td> <td>    0.215</td> <td>   -2.371</td> <td> 0.018</td> <td>   -0.932</td> <td>   -0.088</td>\n",
       "</tr>\n",
       "</table>\n",
       "<table class=\"simpletable\">\n",
       "<caption>Roots</caption>\n",
       "<tr>\n",
       "    <td></td>   <th>            Real</th>  <th>         Imaginary</th> <th>         Modulus</th>  <th>        Frequency</th>\n",
       "</tr>\n",
       "<tr>\n",
       "  <th>AR.1</th> <td>           1.5464</td> <td>          +0.0000j</td> <td>           1.5464</td> <td>           0.0000</td>\n",
       "</tr>\n",
       "<tr>\n",
       "  <th>AR.2</th> <td>          -4.4630</td> <td>          +0.0000j</td> <td>           4.4630</td> <td>           0.5000</td>\n",
       "</tr>\n",
       "<tr>\n",
       "  <th>MA.1</th> <td>           1.9604</td> <td>          +0.0000j</td> <td>           1.9604</td> <td>           0.0000</td>\n",
       "</tr>\n",
       "</table>"
      ],
      "text/plain": [
       "<class 'statsmodels.iolib.summary.Summary'>\n",
       "\"\"\"\n",
       "                             ARIMA Model Results                              \n",
       "==============================================================================\n",
       "Dep. Variable:                    D.y   No. Observations:                  718\n",
       "Model:                 ARIMA(2, 1, 1)   Log Likelihood               -6027.223\n",
       "Method:                       css-mle   S.D. of innovations           1070.086\n",
       "Date:                Mon, 07 Jun 2021   AIC                          12064.445\n",
       "Time:                        20:09:58   BIC                          12087.328\n",
       "Sample:                             1   HQIC                         12073.280\n",
       "                                                                              \n",
       "==============================================================================\n",
       "                 coef    std err          z      P>|z|      [0.025      0.975]\n",
       "------------------------------------------------------------------------------\n",
       "const         32.3137     45.198      0.715      0.475     -56.272     120.899\n",
       "ar.L1.D.y      0.4226      0.214      1.973      0.048       0.003       0.842\n",
       "ar.L2.D.y      0.1449      0.037      3.887      0.000       0.072       0.218\n",
       "ma.L1.D.y     -0.5101      0.215     -2.371      0.018      -0.932      -0.088\n",
       "                                    Roots                                    \n",
       "=============================================================================\n",
       "                  Real          Imaginary           Modulus         Frequency\n",
       "-----------------------------------------------------------------------------\n",
       "AR.1            1.5464           +0.0000j            1.5464            0.0000\n",
       "AR.2           -4.4630           +0.0000j            4.4630            0.5000\n",
       "MA.1            1.9604           +0.0000j            1.9604            0.0000\n",
       "-----------------------------------------------------------------------------\n",
       "\"\"\""
      ]
     },
     "execution_count": 22,
     "metadata": {},
     "output_type": "execute_result"
    }
   ],
   "source": [
    "results2.summary()"
   ]
  },
  {
   "cell_type": "code",
   "execution_count": 23,
   "metadata": {},
   "outputs": [
    {
     "data": {
      "text/plain": [
       "<AxesSubplot:title={'center':'Futures Forecast'}>"
      ]
     },
     "execution_count": 23,
     "metadata": {},
     "output_type": "execute_result"
    },
    {
     "data": {
      "image/png": "[encoded data removed]",
      "text/plain": [
       "<Figure size 432x288 with 1 Axes>"
      ]
     },
     "metadata": {
      "needs_background": "light"
     },
     "output_type": "display_data"
    }
   ],
   "source": [
    "pd.DataFrame(results2.forecast(steps=10)[0]).plot(title=\"Futures Forecast\")"
   ]
  },
  {
   "cell_type": "markdown",
   "metadata": {},
   "source": [
    "# Random Forest"
   ]
  },
  {
   "cell_type": "code",
   "execution_count": 24,
   "metadata": {},
   "outputs": [
    {
     "data": {
      "text/html": [
       "<div>\n",
       "<style scoped>\n",
       "    .dataframe tbody tr th:only-of-type {\n",
       "        vertical-align: middle;\n",
       "    }\n",
       "\n",
       "    .dataframe tbody tr th {\n",
       "        vertical-align: top;\n",
       "    }\n",
       "\n",
       "    .dataframe thead th {\n",
       "        text-align: right;\n",
       "    }\n",
       "</style>\n",
       "<table border=\"1\" class=\"dataframe\">\n",
       "  <thead>\n",
       "    <tr style=\"text-align: right;\">\n",
       "      <th></th>\n",
       "      <th>vwap</th>\n",
       "      <th>volume</th>\n",
       "      <th>tradecount</th>\n",
       "      <th>SMA50</th>\n",
       "      <th>SMA100</th>\n",
       "      <th>Signal</th>\n",
       "      <th>Entry/Exit</th>\n",
       "      <th>bollinger_mid_band</th>\n",
       "      <th>bollinger_std</th>\n",
       "      <th>bollinger_upper_band</th>\n",
       "      <th>bollinger_lower_band</th>\n",
       "      <th>RSI</th>\n",
       "    </tr>\n",
       "    <tr>\n",
       "      <th>date</th>\n",
       "      <th></th>\n",
       "      <th></th>\n",
       "      <th></th>\n",
       "      <th></th>\n",
       "      <th></th>\n",
       "      <th></th>\n",
       "      <th></th>\n",
       "      <th></th>\n",
       "      <th></th>\n",
       "      <th></th>\n",
       "      <th></th>\n",
       "      <th></th>\n",
       "    </tr>\n",
       "  </thead>\n",
       "  <tbody>\n",
       "    <tr>\n",
       "      <th>2019-09-28</th>\n",
       "      <td>8171.3</td>\n",
       "      <td>3824.92774834</td>\n",
       "      <td>11962</td>\n",
       "      <td>10103.012</td>\n",
       "      <td>10512.054</td>\n",
       "      <td>0.0</td>\n",
       "      <td>0.0</td>\n",
       "      <td>9711.105</td>\n",
       "      <td>862.088116</td>\n",
       "      <td>10573.193116</td>\n",
       "      <td>8849.016884</td>\n",
       "      <td>30.927267</td>\n",
       "    </tr>\n",
       "    <tr>\n",
       "      <th>2019-09-29</th>\n",
       "      <td>8040.9</td>\n",
       "      <td>4937.63306462</td>\n",
       "      <td>13621</td>\n",
       "      <td>10038.380</td>\n",
       "      <td>10490.393</td>\n",
       "      <td>0.0</td>\n",
       "      <td>0.0</td>\n",
       "      <td>9598.035</td>\n",
       "      <td>924.802142</td>\n",
       "      <td>10522.837142</td>\n",
       "      <td>8673.232858</td>\n",
       "      <td>29.810191</td>\n",
       "    </tr>\n",
       "    <tr>\n",
       "      <th>2019-09-30</th>\n",
       "      <td>8051.4</td>\n",
       "      <td>7532.44669163</td>\n",
       "      <td>29502</td>\n",
       "      <td>9974.046</td>\n",
       "      <td>10466.855</td>\n",
       "      <td>0.0</td>\n",
       "      <td>0.0</td>\n",
       "      <td>9508.810</td>\n",
       "      <td>959.804138</td>\n",
       "      <td>10468.614138</td>\n",
       "      <td>8549.005862</td>\n",
       "      <td>33.829526</td>\n",
       "    </tr>\n",
       "    <tr>\n",
       "      <th>2019-10-01</th>\n",
       "      <td>8379.4</td>\n",
       "      <td>7856.25020541</td>\n",
       "      <td>31716</td>\n",
       "      <td>9912.822</td>\n",
       "      <td>10441.944</td>\n",
       "      <td>0.0</td>\n",
       "      <td>0.0</td>\n",
       "      <td>9416.925</td>\n",
       "      <td>981.823851</td>\n",
       "      <td>10398.748851</td>\n",
       "      <td>8435.101149</td>\n",
       "      <td>34.030247</td>\n",
       "    </tr>\n",
       "    <tr>\n",
       "      <th>2019-10-02</th>\n",
       "      <td>8262.6</td>\n",
       "      <td>3884.72475803</td>\n",
       "      <td>12206</td>\n",
       "      <td>9863.328</td>\n",
       "      <td>10415.561</td>\n",
       "      <td>0.0</td>\n",
       "      <td>0.0</td>\n",
       "      <td>9315.040</td>\n",
       "      <td>977.974862</td>\n",
       "      <td>10293.014862</td>\n",
       "      <td>8337.065138</td>\n",
       "      <td>34.974983</td>\n",
       "    </tr>\n",
       "  </tbody>\n",
       "</table>\n",
       "</div>"
      ],
      "text/plain": [
       "              vwap         volume  tradecount      SMA50     SMA100  Signal  \\\n",
       "date                                                                          \n",
       "2019-09-28  8171.3  3824.92774834       11962  10103.012  10512.054     0.0   \n",
       "2019-09-29  8040.9  4937.63306462       13621  10038.380  10490.393     0.0   \n",
       "2019-09-30  8051.4  7532.44669163       29502   9974.046  10466.855     0.0   \n",
       "2019-10-01  8379.4  7856.25020541       31716   9912.822  10441.944     0.0   \n",
       "2019-10-02  8262.6  3884.72475803       12206   9863.328  10415.561     0.0   \n",
       "\n",
       "            Entry/Exit  bollinger_mid_band  bollinger_std  \\\n",
       "date                                                        \n",
       "2019-09-28         0.0            9711.105     862.088116   \n",
       "2019-09-29         0.0            9598.035     924.802142   \n",
       "2019-09-30         0.0            9508.810     959.804138   \n",
       "2019-10-01         0.0            9416.925     981.823851   \n",
       "2019-10-02         0.0            9315.040     977.974862   \n",
       "\n",
       "            bollinger_upper_band  bollinger_lower_band        RSI  \n",
       "date                                                               \n",
       "2019-09-28          10573.193116           8849.016884  30.927267  \n",
       "2019-09-29          10522.837142           8673.232858  29.810191  \n",
       "2019-09-30          10468.614138           8549.005862  33.829526  \n",
       "2019-10-01          10398.748851           8435.101149  34.030247  \n",
       "2019-10-02          10293.014862           8337.065138  34.974983  "
      ]
     },
     "execution_count": 24,
     "metadata": {},
     "output_type": "execute_result"
    }
   ],
   "source": [
    "X = all_sig.copy()\n",
    "X.dropna(inplace=True)\n",
    "X.drop(columns=['close','returns','change_in_price'], inplace=True)\n",
    "X.head()"
   ]
  },
  {
   "cell_type": "code",
   "execution_count": 25,
   "metadata": {},
   "outputs": [
    {
     "data": {
      "text/plain": [
       "array([[1],\n",
       "       [0],\n",
       "       [1],\n",
       "       [1],\n",
       "       [1]])"
      ]
     },
     "execution_count": 25,
     "metadata": {},
     "output_type": "execute_result"
    }
   ],
   "source": [
    "y=all_sig['change_in_price'].values.reshape(-1,1)\n",
    "y=y[99:]\n",
    "y[:5]"
   ]
  },
  {
   "cell_type": "code",
   "execution_count": 26,
   "metadata": {},
   "outputs": [],
   "source": [
    "X_train, X_test, y_train, y_test = train_test_split(X, y, random_state=78)"
   ]
  },
  {
   "cell_type": "code",
   "execution_count": 27,
   "metadata": {},
   "outputs": [],
   "source": [
    "scaler = StandardScaler()"
   ]
  },
  {
   "cell_type": "code",
   "execution_count": 28,
   "metadata": {},
   "outputs": [],
   "source": [
    "X_scaler = scaler.fit(X_train)"
   ]
  },
  {
   "cell_type": "code",
   "execution_count": 29,
   "metadata": {},
   "outputs": [],
   "source": [
    "X_train_scaled = X_scaler.transform(X_train)\n",
    "X_test_scaled = X_scaler.transform(X_test)"
   ]
  },
  {
   "cell_type": "code",
   "execution_count": 30,
   "metadata": {},
   "outputs": [],
   "source": [
    "rf_model = RandomForestClassifier(n_estimators=100, random_state=78)"
   ]
  },
  {
   "cell_type": "code",
   "execution_count": 31,
   "metadata": {},
   "outputs": [
    {
     "name": "stderr",
     "output_type": "stream",
     "text": [
      "C:\\Users\\15159\\anaconda3\\envs\\mlenv\\lib\\site-packages\\ipykernel_launcher.py:1: DataConversionWarning: A column-vector y was passed when a 1d array was expected. Please change the shape of y to (n_samples,), for example using ravel().\n",
      "  \"\"\"Entry point for launching an IPython kernel.\n"
     ]
    }
   ],
   "source": [
    "rf_model = rf_model.fit(X_train_scaled, y_train)"
   ]
  },
  {
   "cell_type": "code",
   "execution_count": 32,
   "metadata": {},
   "outputs": [],
   "source": [
    "predictions = rf_model.predict(X_test_scaled)"
   ]
  },
  {
   "cell_type": "code",
   "execution_count": 33,
   "metadata": {},
   "outputs": [],
   "source": [
    "cm = confusion_matrix(y_test, predictions)\n",
    "cm_df = pd.DataFrame(\n",
    "    cm, index=[\"Actual 0\", \"Actual 1\"], columns=[\"Predicted 0\", \"Predicted 1\"]\n",
    ")\n",
    "\n",
    "acc_score = accuracy_score(y_test, predictions)"
   ]
  },
  {
   "cell_type": "code",
   "execution_count": 34,
   "metadata": {},
   "outputs": [
    {
     "name": "stdout",
     "output_type": "stream",
     "text": [
      "Confusion Matrix\n"
     ]
    },
    {
     "data": {
      "text/html": [
       "<div>\n",
       "<style scoped>\n",
       "    .dataframe tbody tr th:only-of-type {\n",
       "        vertical-align: middle;\n",
       "    }\n",
       "\n",
       "    .dataframe tbody tr th {\n",
       "        vertical-align: top;\n",
       "    }\n",
       "\n",
       "    .dataframe thead th {\n",
       "        text-align: right;\n",
       "    }\n",
       "</style>\n",
       "<table border=\"1\" class=\"dataframe\">\n",
       "  <thead>\n",
       "    <tr style=\"text-align: right;\">\n",
       "      <th></th>\n",
       "      <th>Predicted 0</th>\n",
       "      <th>Predicted 1</th>\n",
       "    </tr>\n",
       "  </thead>\n",
       "  <tbody>\n",
       "    <tr>\n",
       "      <th>Actual 0</th>\n",
       "      <td>38</td>\n",
       "      <td>40</td>\n",
       "    </tr>\n",
       "    <tr>\n",
       "      <th>Actual 1</th>\n",
       "      <td>27</td>\n",
       "      <td>50</td>\n",
       "    </tr>\n",
       "  </tbody>\n",
       "</table>\n",
       "</div>"
      ],
      "text/plain": [
       "          Predicted 0  Predicted 1\n",
       "Actual 0           38           40\n",
       "Actual 1           27           50"
      ]
     },
     "metadata": {},
     "output_type": "display_data"
    },
    {
     "name": "stdout",
     "output_type": "stream",
     "text": [
      "Accuracy Score : 0.567741935483871\n",
      "Classification Report\n",
      "              precision    recall  f1-score   support\n",
      "\n",
      "           0       0.58      0.49      0.53        78\n",
      "           1       0.56      0.65      0.60        77\n",
      "\n",
      "    accuracy                           0.57       155\n",
      "   macro avg       0.57      0.57      0.57       155\n",
      "weighted avg       0.57      0.57      0.56       155\n",
      "\n"
     ]
    }
   ],
   "source": [
    "print(\"Confusion Matrix\")\n",
    "display(cm_df)\n",
    "print(f\"Accuracy Score : {acc_score}\")\n",
    "print(\"Classification Report\")\n",
    "print(classification_report(y_test, predictions))"
   ]
  },
  {
   "cell_type": "code",
   "execution_count": 35,
   "metadata": {},
   "outputs": [],
   "source": [
    "importances = rf_model.feature_importances_"
   ]
  },
  {
   "cell_type": "code",
   "execution_count": 36,
   "metadata": {},
   "outputs": [
    {
     "data": {
      "text/plain": [
       "[(0.14660804261933943, 'RSI'),\n",
       " (0.11639773662670073, 'volume'),\n",
       " (0.11524170581285997, 'tradecount'),\n",
       " (0.09821535505291176, 'bollinger_std'),\n",
       " (0.09658897742657713, 'vwap'),\n",
       " (0.09252420278210315, 'bollinger_lower_band'),\n",
       " (0.0866272115673078, 'bollinger_upper_band'),\n",
       " (0.08558907380612117, 'SMA100'),\n",
       " (0.07797409732996799, 'bollinger_mid_band'),\n",
       " (0.07654329163945793, 'SMA50')]"
      ]
     },
     "execution_count": 36,
     "metadata": {},
     "output_type": "execute_result"
    }
   ],
   "source": [
    "importances_sorted = sorted(zip(rf_model.feature_importances_, X.columns), reverse=True)\n",
    "importances_sorted[:10]"
   ]
  },
  {
   "cell_type": "code",
   "execution_count": 37,
   "metadata": {},
   "outputs": [
    {
     "data": {
      "text/plain": [
       "<AxesSubplot:title={'center':'Features Importances'}, ylabel='1'>"
      ]
     },
     "execution_count": 37,
     "metadata": {},
     "output_type": "execute_result"
    },
    {
     "data": {
      "image/png": "[encoded data removed]",
      "text/plain": [
       "<Figure size 432x288 with 1 Axes>"
      ]
     },
     "metadata": {
      "needs_background": "light"
     },
     "output_type": "display_data"
    }
   ],
   "source": [
    "importances = pd.DataFrame(sorted(zip(rf_model.feature_importances_, X.columns), reverse=True))\n",
    "importances.set_index(importances[1], inplace=True)\n",
    "importances.drop(columns=1, inplace=True)\n",
    "importances.rename(columns={0: 'Feature Importances'}, inplace=True)\n",
    "importances_sorted = importances.sort_values(by='Feature Importances')\n",
    "importances_sorted.plot(kind='barh', color='lightgreen', title= 'Features Importances', legend=False)"
   ]
  },
  {
   "cell_type": "markdown",
   "metadata": {},
   "source": [
    "# Random Forest Training for Algo Trading"
   ]
  },
  {
   "cell_type": "markdown",
   "metadata": {},
   "source": [
    "##### From day 3 Algo Trading Module"
   ]
  },
  {
   "cell_type": "code",
   "execution_count": 38,
   "metadata": {},
   "outputs": [
    {
     "ename": "NameError",
     "evalue": "name 'all_' is not defined",
     "output_type": "error",
     "traceback": [
      "\u001b[1;31m---------------------------------------------------------------------------\u001b[0m",
      "\u001b[1;31mNameError\u001b[0m                                 Traceback (most recent call last)",
      "\u001b[1;32m<ipython-input-38-13971447654a>\u001b[0m in \u001b[0;36m<module>\u001b[1;34m\u001b[0m\n\u001b[1;32m----> 1\u001b[1;33m \u001b[0mall_sig\u001b[0m \u001b[1;33m=\u001b[0m \u001b[0mall_\u001b[0m\u001b[1;33m\u001b[0m\u001b[1;33m\u001b[0m\u001b[0m\n\u001b[0m",
      "\u001b[1;31mNameError\u001b[0m: name 'all_' is not defined"
     ]
    }
   ],
   "source": [
    "all_sig = all_"
   ]
  },
  {
   "cell_type": "code",
   "execution_count": null,
   "metadata": {},
   "outputs": [],
   "source": [
    "x_var_list = ['Signal', 'Entry/Exit']\n",
    "all_sig[x_var_list]"
   ]
  },
  {
   "cell_type": "code",
   "execution_count": null,
   "metadata": {},
   "outputs": [],
   "source": [
    "all_sig.dropna(subset=x_var_list, inplace=True)\n",
    "all_sig.dropna(subset=['returns'],inplace=True)\n",
    "all_sig = all_sig.replace([np.inf, -np.inf], np.nan)\n",
    "all_sig.head()"
   ]
  },
  {
   "cell_type": "code",
   "execution_count": null,
   "metadata": {},
   "outputs": [],
   "source": [
    "all_sig['Positive Return'] = np.where(all_sig['returns'] > 0, 1.0, 0.0)\n",
    "all_sig"
   ]
  },
  {
   "cell_type": "code",
   "execution_count": null,
   "metadata": {},
   "outputs": [],
   "source": [
    "training_start = all_sig.index.min().strftime(format='%Y-%m-%d')\n",
    "training_end = '2019-12-31'\n",
    "testing_start = '2019-06-21'\n",
    "testing_end = all_sig.index.max().strftime(format='%Y-%m-%d')\n",
    "print(f\"Training Start: {training_start}\")\n",
    "print(f\"Training End: {training_end}\")\n",
    "print(f\"Testing Start: {testing_start}\")\n",
    "print(f\"Testing End: {testing_end}\")"
   ]
  },
  {
   "cell_type": "code",
   "execution_count": null,
   "metadata": {},
   "outputs": [],
   "source": [
    "# Construct the X_train and y_train datasets\n",
    "X_train = all_sig[x_var_list][training_start:training_end]\n",
    "y_train = all_sig['Positive Return'][training_start:training_end]\n",
    "\n",
    "X_train.tail()"
   ]
  },
  {
   "cell_type": "code",
   "execution_count": null,
   "metadata": {},
   "outputs": [],
   "source": [
    "y_train.tail()"
   ]
  },
  {
   "cell_type": "code",
   "execution_count": null,
   "metadata": {},
   "outputs": [],
   "source": [
    "# Construct the X test and y test datasets\n",
    "X_test = all_sig[x_var_list][testing_start:testing_end]\n",
    "y_test = all_sig['Positive Return'][testing_start:testing_end]\n",
    "\n",
    "X_test.tail()"
   ]
  },
  {
   "cell_type": "code",
   "execution_count": null,
   "metadata": {},
   "outputs": [],
   "source": [
    "y_test.tail()"
   ]
  },
  {
   "cell_type": "code",
   "execution_count": null,
   "metadata": {},
   "outputs": [],
   "source": [
    "from sklearn.ensemble import RandomForestClassifier\n",
    "from sklearn.datasets import make_classification"
   ]
  },
  {
   "cell_type": "code",
   "execution_count": null,
   "metadata": {},
   "outputs": [],
   "source": [
    "# Fit a SKLearn linear regression using just the training set (X_train, Y_train):\n",
    "model = RandomForestClassifier(n_estimators=100, max_depth=3, random_state=0)\n",
    "model.fit(X_train, y_train)\n",
    "\n",
    "# Make a prediction of \"y\" values from the X_test dataset\n",
    "predictions = model.predict(X_test)\n",
    "\n",
    "# Assemble actual y data (Y_test) with predicted y data (from just above) into two columns in a dataframe:\n",
    "Results = y_test.to_frame()\n",
    "Results[\"Predicted Value\"] = predictions\n",
    "Results"
   ]
  },
  {
   "cell_type": "code",
   "execution_count": null,
   "metadata": {},
   "outputs": [],
   "source": [
    "# Save the pre-trained model\n",
    "from joblib import dump, load\n",
    "dump(model, 'random_forest_model.joblib')"
   ]
  },
  {
   "cell_type": "code",
   "execution_count": null,
   "metadata": {},
   "outputs": [],
   "source": []
  },
  {
   "cell_type": "code",
   "execution_count": null,
   "metadata": {},
   "outputs": [],
   "source": []
  },
  {
   "cell_type": "code",
   "execution_count": null,
   "metadata": {},
   "outputs": [],
   "source": []
  },
  {
   "cell_type": "code",
   "execution_count": null,
   "metadata": {},
   "outputs": [],
   "source": []
  },
  {
   "cell_type": "markdown",
   "metadata": {},
   "source": [
    "# Deep Learning Price Prediction: "
   ]
  },
  {
   "cell_type": "code",
   "execution_count": null,
   "metadata": {},
   "outputs": [],
   "source": [
    "import numpy as np\n",
    "import pandas as pd\n",
    "import hvplot.pandas\n",
    "\n",
    "from sklearn.datasets import make_blobs, make_moons\n",
    "from sklearn.model_selection import train_test_split\n",
    "from sklearn.preprocessing import StandardScaler\n",
    "from tensorflow.keras.models import Sequential\n",
    "from tensorflow.keras.layers import Dense"
   ]
  },
  {
   "cell_type": "code",
   "execution_count": null,
   "metadata": {},
   "outputs": [],
   "source": [
    "# Set the random seed for reproducibility\n",
    "# Note: This is for the homework solution, but it is good practice to comment this out and run multiple experiments to evaluate your model\n",
    "from numpy.random import seed\n",
    "seed(1)\n",
    "from tensorflow import random\n",
    "random.set_seed(2)"
   ]
  },
  {
   "cell_type": "code",
   "execution_count": null,
   "metadata": {},
   "outputs": [],
   "source": [
    "all_sig = all_sig.drop(columns=[\"change_in_price\", \"returns\"])\n",
    "all_sig"
   ]
  },
  {
   "cell_type": "code",
   "execution_count": null,
   "metadata": {},
   "outputs": [],
   "source": [
    "def window_data(all_sig, window, feature_col_number, target_col_number):\n",
    "    X = []\n",
    "    y = []\n",
    "    for i in range(len(all_sig) - window - 1):\n",
    "        features = all_sig.iloc[i:(i + window), feature_col_number]\n",
    "        target = all_sig.iloc[(i + window), target_col_number]\n",
    "        X.append(features)\n",
    "        y.append(target)\n",
    "    return np.array(X), np.array(y).reshape(-1, 1)"
   ]
  },
  {
   "cell_type": "code",
   "execution_count": null,
   "metadata": {},
   "outputs": [],
   "source": [
    "# Predict Closing Prices using a 10 day window of previous closing prices\n",
    "# Then, experiment with window sizes anywhere from 1 to 10 and see how the model performance changes\n",
    "window_size = 10\n",
    "\n",
    "# Column index 0 is the 'fng_value' column\n",
    "# Column index 1 is the `Close` column\n",
    "feature_column = 0\n",
    "target_column = 1\n",
    "X, y = window_data(all_sig, window_size, feature_column, target_column)"
   ]
  },
  {
   "cell_type": "code",
   "execution_count": null,
   "metadata": {},
   "outputs": [],
   "source": [
    "# Use 70% of the data for training and the remaineder for testing\n",
    "split = int(0.7 * len(X))\n",
    "X_train = X[: split]\n",
    "X_test = X[split:]\n",
    "y_train = y[: split]\n",
    "y_test = y[split:]"
   ]
  },
  {
   "cell_type": "code",
   "execution_count": null,
   "metadata": {},
   "outputs": [],
   "source": [
    "from sklearn.preprocessing import MinMaxScaler\n",
    "# Use the MinMaxScaler to scale data between 0 and 1.\n",
    "x_train_scaler = MinMaxScaler()\n",
    "x_test_scaler = MinMaxScaler()\n",
    "y_train_scaler = MinMaxScaler()\n",
    "y_test_scaler = MinMaxScaler()\n",
    "\n",
    "x_train_scaler.fit(X_train)\n",
    "y_train_scaler.fit(y_train)\n",
    "\n",
    "X_train = x_train_scaler.transform(X_train)\n",
    "y_train = y_train_scaler.transform(y_train)\n",
    "\n",
    "x_test_scaler.fit(X_test)\n",
    "y_test_scaler.fit(y_test)\n",
    "\n",
    "X_test = x_test_scaler.transform(X_test)\n",
    "y_test = y_test_scaler.transform(y_test)"
   ]
  },
  {
   "cell_type": "code",
   "execution_count": null,
   "metadata": {},
   "outputs": [],
   "source": [
    "# Reshape the features for the model\n",
    "X_train = X_train.reshape((X_train.shape[0], X_train.shape[1], 1))\n",
    "X_test = X_test.reshape((X_test.shape[0], X_test.shape[1], 1))"
   ]
  },
  {
   "cell_type": "code",
   "execution_count": null,
   "metadata": {},
   "outputs": [],
   "source": [
    "from tensorflow.keras.models import Sequential\n",
    "from tensorflow.keras.layers import LSTM, Dense, Dropout"
   ]
  },
  {
   "cell_type": "code",
   "execution_count": null,
   "metadata": {},
   "outputs": [],
   "source": [
    "# Build the LSTM model. \n",
    "# The return sequences need to be set to True if you are adding additional LSTM layers, but \n",
    "# You don't have to do this for the final layer. \n",
    "# Note: The dropouts help prevent overfitting\n",
    "# Note: The input shape is the number of time steps and the number of indicators\n",
    "# Note: Batching inputs has a different input shape of Samples/TimeSteps/Features\n",
    "\n",
    "model = Sequential()\n",
    "\n",
    "number_units = 30\n",
    "dropout_fraction = 0.2\n",
    "\n",
    "model.add(LSTM(\n",
    "    units=number_units,\n",
    "    return_sequences=True,\n",
    "    input_shape=(X_train.shape[1], 1))\n",
    "    )\n",
    "model.add(Dropout(dropout_fraction))\n",
    "\n",
    "model.add(LSTM(units=number_units, return_sequences=True))\n",
    "model.add(Dropout(dropout_fraction))\n",
    "\n",
    "model.add(LSTM(units=number_units))\n",
    "model.add(Dropout(dropout_fraction))\n",
    "\n",
    "model.add(Dense(1))"
   ]
  },
  {
   "cell_type": "code",
   "execution_count": null,
   "metadata": {},
   "outputs": [],
   "source": [
    "# Compile the model\n",
    "model.compile(optimizer=\"adam\", loss=\"mean_squared_error\")"
   ]
  },
  {
   "cell_type": "code",
   "execution_count": null,
   "metadata": {},
   "outputs": [],
   "source": [
    "# Summarize the model\n",
    "model.summary()"
   ]
  },
  {
   "cell_type": "code",
   "execution_count": null,
   "metadata": {},
   "outputs": [],
   "source": [
    "# Train the model\n",
    "# Use at least 10 epochs\n",
    "# Do not shuffle the data\n",
    "# Experiement with the batch size, but a smaller batch size is recommended\n",
    "model.fit(X_train, y_train, epochs=10, shuffle=False, batch_size=1, verbose=1)"
   ]
  },
  {
   "cell_type": "code",
   "execution_count": null,
   "metadata": {},
   "outputs": [],
   "source": [
    "# Evaluate the model\n",
    "model.evaluate(X_test, y_test)"
   ]
  },
  {
   "cell_type": "code",
   "execution_count": null,
   "metadata": {},
   "outputs": [],
   "source": [
    "# Make some predictions\n",
    "predicted = model.predict(X_test)"
   ]
  },
  {
   "cell_type": "code",
   "execution_count": null,
   "metadata": {},
   "outputs": [],
   "source": [
    "# Recover the original prices instead of the scaled version\n",
    "predicted_prices = y_test_scaler.inverse_transform(predicted)\n",
    "real_prices = y_test_scaler.inverse_transform(y_test.reshape(-1, 1))"
   ]
  },
  {
   "cell_type": "code",
   "execution_count": null,
   "metadata": {},
   "outputs": [],
   "source": [
    "# Create a DataFrame of Real and Predicted values\n",
    "stocks = pd.DataFrame({\n",
    "    \"Real\": real_prices.ravel(),\n",
    "    \"Predicted\": predicted_prices.ravel()\n",
    "}, index = df.index[-len(real_prices): ]) \n",
    "stocks.head()"
   ]
  },
  {
   "cell_type": "code",
   "execution_count": null,
   "metadata": {},
   "outputs": [],
   "source": [
    "# Plot the real vs predicted values as a line chart\n",
    "stocks.plot()"
   ]
  },
  {
   "cell_type": "markdown",
   "metadata": {},
   "source": [
    "# Attempt Sentiment Analysis Using Twitter: "
   ]
  },
  {
   "cell_type": "code",
   "execution_count": null,
   "metadata": {},
   "outputs": [],
   "source": [
    "import tweepy \n",
    "from textblob import TextBlob\n",
    "from wordcloud import WordCloud\n",
    "import pandas as pd\n",
    "import numpy as np\n",
    "import re \n",
    "import matplotlib.pyplot as plt\n",
    "plt.style.use('fivethirtyeight')"
   ]
  },
  {
   "cell_type": "code",
   "execution_count": null,
   "metadata": {},
   "outputs": [],
   "source": [
    "API_KEY=\"ixfnArRC0LrqGw9oMsKWaeeHH\"\n",
    "API_SECRET_KEY=\"bavWCrmk1pGMFTyUkScWgLwtbGt7TYbTqzIFBGUc3H4xAgIn33\"\n",
    "BEARER_TOKEN=\"1049318615261097984-2TXX3rME99h28i7ZuE6LmirwUtW0KW\"\n",
    "BEARER_TOKEN_SECRET=\"EznHh57YvAkj299l4GdqtNsnfQ7Ge9UZYPMPROkUA2ukC\"\n",
    "AZURE_KEY1=\"934412a2f06d4a37bf1fc3cbb513a944\"\n",
    "AZURE_KEY2=\"52cf1c0ec04d4fb085c583ea5680d646\""
   ]
  },
  {
   "cell_type": "code",
   "execution_count": null,
   "metadata": {},
   "outputs": [],
   "source": [
    "consumerKey = API_KEY\n",
    "consumerSecret = API_SECRET_KEY\n",
    "accessToken = BEARER_TOKEN\n",
    "accessTokenSecret = BEARER_TOKEN_SECRET"
   ]
  },
  {
   "cell_type": "code",
   "execution_count": null,
   "metadata": {},
   "outputs": [],
   "source": [
    "authenticate = tweepy.OAuthHandler(consumerKey, consumerSecret)"
   ]
  },
  {
   "cell_type": "code",
   "execution_count": null,
   "metadata": {},
   "outputs": [],
   "source": [
    "authenticate.set_access_token(accessToken, accessTokenSecret)"
   ]
  },
  {
   "cell_type": "code",
   "execution_count": null,
   "metadata": {},
   "outputs": [],
   "source": [
    "api = tweepy.API(authenticate, wait_on_rate_limit=True)"
   ]
  },
  {
   "cell_type": "code",
   "execution_count": null,
   "metadata": {},
   "outputs": [],
   "source": [
    "#save the id of the oldest tweet less one\n",
    "username = \"elonmusk\"\n",
    "\n",
    "alltweets = []\t\n",
    "new_tweets = api.user_timeline(screen_name = username,count=200)\n",
    "\n",
    "#save most recent tweets\n",
    "alltweets.extend(new_tweets)\n",
    "\n",
    "#save the id of the oldest tweet less one\n",
    "\n",
    "oldest = alltweets[-1].id - 1\n",
    "\n",
    "posts = api.user_timeline(screen_name = username, count = 200, max_id=oldest, tweet_mode=\"extended\")"
   ]
  },
  {
   "cell_type": "code",
   "execution_count": null,
   "metadata": {},
   "outputs": [],
   "source": [
    "type(posts[0])"
   ]
  },
  {
   "cell_type": "code",
   "execution_count": null,
   "metadata": {},
   "outputs": [],
   "source": [
    "print(\"Show the 5 recent tweets: \\n \")\n",
    "i = 1\n",
    "for tweet in posts[0:5]:\n",
    "  print(str(i) + ')' +  tweet.full_text + \"\\n\")\n",
    "  i = i+1"
   ]
  },
  {
   "cell_type": "code",
   "execution_count": null,
   "metadata": {},
   "outputs": [],
   "source": [
    "for status in api.user_timeline():\n",
    "    print(status.id)"
   ]
  },
  {
   "cell_type": "code",
   "execution_count": null,
   "metadata": {},
   "outputs": [],
   "source": [
    "df = pd.DataFrame([tweet.full_text for tweet in posts], columns = ['Tweets'])"
   ]
  },
  {
   "cell_type": "code",
   "execution_count": null,
   "metadata": {},
   "outputs": [],
   "source": [
    "df.head()"
   ]
  },
  {
   "cell_type": "code",
   "execution_count": null,
   "metadata": {},
   "outputs": [],
   "source": [
    "# Create a function to clean the tweets\n",
    "def cleanTxt(text):\n",
    " text = re.sub('@[A-Za-z0–9]+', '', text) #Removing @mentions\n",
    " text = re.sub('#', '', text) # Removing '#' hash tag\n",
    " text = re.sub('RT[\\s]+', '', text) # Removing RT\n",
    " text = re.sub('https?:\\/\\/\\S+', '', text) # Removing hyperlink\n",
    " \n",
    " return text\n",
    "\n",
    "\n",
    "# Clean the tweets\n",
    "df['Tweets'] = df['Tweets'].apply(cleanTxt)"
   ]
  },
  {
   "cell_type": "code",
   "execution_count": null,
   "metadata": {},
   "outputs": [],
   "source": [
    "for status in "
   ]
  },
  {
   "cell_type": "code",
   "execution_count": null,
   "metadata": {},
   "outputs": [],
   "source": [
    "# Create a function to get the subjectivity\n",
    "def getSubjectivity(text):\n",
    "   return TextBlob(text).sentiment.subjectivity\n",
    "\n",
    "# Create a function to get the polarity\n",
    "def getPolarity(text):\n",
    "   return  TextBlob(text).sentiment.polarity\n",
    "\n",
    "\n",
    "# Create two new columns 'Subjectivity' & 'Polarity'\n",
    "df['Subjectivity'] = df['Tweets'].apply(getSubjectivity)\n",
    "df['Polarity'] = df['Tweets'].apply(getPolarity)"
   ]
  },
  {
   "cell_type": "code",
   "execution_count": null,
   "metadata": {},
   "outputs": [],
   "source": [
    "df"
   ]
  },
  {
   "cell_type": "code",
   "execution_count": null,
   "metadata": {},
   "outputs": [],
   "source": [
    "# Show the new dataframe with columns 'Subjectivity' & 'Polarity'\n",
    "df\n",
    "\n",
    "'''\n",
    "Let's see how well the sentiments are distributed. \n",
    "A good way to accomplish this task is by understanding the common words by plotting word clouds.\n",
    "A word cloud (also known as text clouds or tag clouds) is a visualization, the more a specific word \n",
    "appears in text, the bigger and bolder it appears in the word cloud.\n",
    "Let’s visualize all the words in the data using the word cloud plot.\n",
    "'''\n",
    "\n",
    "allWords = ' '.join([twts for twts in df['Tweets']])\n",
    "wordCloud = WordCloud(width=500, height=300, random_state=21, max_font_size=110).generate(allWords)\n",
    "\n",
    "\n",
    "plt.imshow(wordCloud, interpolation=\"bilinear\")\n",
    "plt.axis('off')\n",
    "plt.show()"
   ]
  },
  {
   "cell_type": "code",
   "execution_count": null,
   "metadata": {},
   "outputs": [],
   "source": [
    "# Create a function to compute negative (-1), neutral (0) and positive (+1) analysis\n",
    "def getAnalysis(score):\n",
    " if score < 0:\n",
    "  return 'Negative'\n",
    " elif score == 0:\n",
    "  return 'Neutral'\n",
    " else:\n",
    "  return 'Positive'\n",
    "\n",
    "\n",
    "df['Analysis'] = df['Polarity'].apply(getAnalysis)\n",
    "\n",
    "# Show the dataframe\n",
    "df"
   ]
  },
  {
   "cell_type": "code",
   "execution_count": null,
   "metadata": {},
   "outputs": [],
   "source": [
    "# Printing positive tweets \n",
    "print('Printing positive tweets:\\n')\n",
    "j=1\n",
    "sortedDF = df.sort_values(by=['Polarity']) #Sort the tweets\n",
    "for i in range(0, sortedDF.shape[0] ):\n",
    "  if( sortedDF['Analysis'][i] == 'Positive'):\n",
    "    print(str(j) + ') '+ sortedDF['Tweets'][i])\n",
    "    print()\n",
    "    j= j+1"
   ]
  },
  {
   "cell_type": "code",
   "execution_count": null,
   "metadata": {},
   "outputs": [],
   "source": [
    "\n",
    "# Printing negative tweets  \n",
    "print('Printing negative tweets:\\n')\n",
    "j=1\n",
    "sortedDF = df.sort_values(by=['Polarity'],ascending=False) #Sort the tweets\n",
    "for i in range(0, sortedDF.shape[0] ):\n",
    "  if( sortedDF['Analysis'][i] == 'Negative'):\n",
    "    print(str(j) + ') '+sortedDF['Tweets'][i])\n",
    "    print()\n",
    "    j=j+1"
   ]
  },
  {
   "cell_type": "code",
   "execution_count": null,
   "metadata": {},
   "outputs": [],
   "source": [
    "# Plotting\n",
    "plt.figure(figsize=(8,6))\n",
    "for i in range(0, df.shape[0]):\n",
    " plt.scatter(df[\"Polarity\"][i], df[\"Subjectivity\"][i], color='Blue') # plt.scatter(x,y,color)\n",
    " \n",
    "plt.title('Sentiment Analysis')\n",
    "plt.xlabel('Polarity')\n",
    "plt.ylabel('Subjectivity')\n",
    "plt.show()"
   ]
  },
  {
   "cell_type": "code",
   "execution_count": null,
   "metadata": {},
   "outputs": [],
   "source": [
    "# Print the percentage of positive tweets\n",
    "ptweets = df[df.Analysis == 'Positive']\n",
    "ptweets = ptweets['Tweets']\n",
    "ptweets\n",
    "\n",
    "round( (ptweets.shape[0] / df.shape[0]) * 100 , 1)"
   ]
  },
  {
   "cell_type": "code",
   "execution_count": null,
   "metadata": {},
   "outputs": [],
   "source": [
    "# Print the percentage of negative tweets\n",
    "ntweets = df[df.Analysis == 'Negative']\n",
    "ntweets = ntweets['Tweets']\n",
    "ntweets\n",
    "\n",
    "round( (ntweets.shape[0] / df.shape[0]) * 100, 1)"
   ]
  },
  {
   "cell_type": "code",
   "execution_count": null,
   "metadata": {},
   "outputs": [],
   "source": [
    "# Show the value counts\n",
    "df['Analysis'].value_counts()\n",
    "\n",
    "# Plotting and visualizing the counts\n",
    "plt.title('Sentiment Analysis')\n",
    "plt.xlabel('Sentiment')\n",
    "plt.ylabel('Counts')\n",
    "df['Analysis'].value_counts().plot(kind = 'bar')\n",
    "plt.show()"
   ]
  },
  {
   "cell_type": "code",
   "execution_count": null,
   "metadata": {},
   "outputs": [],
   "source": []
  },
  {
   "cell_type": "code",
   "execution_count": null,
   "metadata": {},
   "outputs": [],
   "source": []
  },
  {
   "cell_type": "code",
   "execution_count": null,
   "metadata": {},
   "outputs": [],
   "source": []
  },
  {
   "cell_type": "code",
   "execution_count": null,
   "metadata": {},
   "outputs": [],
   "source": []
  },
  {
   "cell_type": "code",
   "execution_count": null,
   "metadata": {},
   "outputs": [],
   "source": []
  },
  {
   "cell_type": "markdown",
   "metadata": {},
   "source": [
    "# Perform Random Forest Analysis for Classification:"
   ]
  },
  {
   "cell_type": "code",
   "execution_count": null,
   "metadata": {},
   "outputs": [],
   "source": [
    "# Initial imports\n",
    "import pandas as pd\n",
    "from pathlib import Path\n",
    "from sklearn.ensemble import RandomForestClassifier\n",
    "from sklearn.preprocessing import StandardScaler\n",
    "from sklearn.model_selection import train_test_split\n",
    "from sklearn.metrics import confusion_matrix, accuracy_score, classification_report\n",
    "%matplotlib inline\n",
    "\n",
    "# Needed for decision tree visualization\n",
    "import pydotplus\n",
    "from IPython.display import Image"
   ]
  },
  {
   "cell_type": "code",
   "execution_count": null,
   "metadata": {},
   "outputs": [],
   "source": [
    "# Define features set\n",
    "X = all_sig.copy()\n",
    "X.drop(\"close\", axis=1, inplace=True)\n",
    "X.head()"
   ]
  },
  {
   "cell_type": "code",
   "execution_count": null,
   "metadata": {},
   "outputs": [],
   "source": [
    "# Define target vector\n",
    "y = all_sig[\"close\"].ravel()\n",
    "y[:5]"
   ]
  },
  {
   "cell_type": "code",
   "execution_count": null,
   "metadata": {},
   "outputs": [],
   "source": [
    "# Splitting into Train and Test sets\n",
    "X_train, X_test, y_train, y_test = train_test_split(X, y, random_state=78)"
   ]
  },
  {
   "cell_type": "code",
   "execution_count": null,
   "metadata": {},
   "outputs": [],
   "source": [
    "# Creating StandardScaler instance\n",
    "scaler = StandardScaler()"
   ]
  },
  {
   "cell_type": "code",
   "execution_count": null,
   "metadata": {},
   "outputs": [],
   "source": [
    "# Fitting Standard Scaller\n",
    "X_scaler = scaler.fit(X_train)"
   ]
  },
  {
   "cell_type": "code",
   "execution_count": null,
   "metadata": {},
   "outputs": [],
   "source": [
    "# Scaling data\n",
    "X_train_scaled = X_scaler.transform(X_train)\n",
    "X_test_scaled = X_scaler.transform(X_test)"
   ]
  },
  {
   "cell_type": "code",
   "execution_count": null,
   "metadata": {},
   "outputs": [],
   "source": [
    "# Create a random forest classifier\n",
    "rf_model = RandomForestClassifier(n_estimators=1000, random_state=78)"
   ]
  },
  {
   "cell_type": "code",
   "execution_count": null,
   "metadata": {},
   "outputs": [],
   "source": [
    "# Fitting the model\n",
    "rf_model = rf_model.fit(X_train_scaled, y_train)"
   ]
  },
  {
   "cell_type": "code",
   "execution_count": null,
   "metadata": {},
   "outputs": [],
   "source": [
    "# Making predictions using the testing data\n",
    "predictions = rf_model.predict(X_test_scaled)"
   ]
  },
  {
   "cell_type": "code",
   "execution_count": null,
   "metadata": {},
   "outputs": [],
   "source": [
    "print(X_train.shape, X_test.shape)\n",
    "print(y_train.shape, y_test.shape)"
   ]
  },
  {
   "cell_type": "code",
   "execution_count": null,
   "metadata": {},
   "outputs": [],
   "source": [
    "# Calculating the confusion matrix\n",
    "cm = confusion_matrix(y_test, predictions)\n",
    "cm_df = pd.DataFrame(\n",
    "    cm, index=[\"Actual 0\", \"Actual 1\"], columns=[\"Predicted 0\", \"Predicted 1\"]\n",
    ")\n",
    "\n",
    "# Calculating the accuracy score\n",
    "acc_score = accuracy_score(y_test, predictions)"
   ]
  },
  {
   "cell_type": "code",
   "execution_count": null,
   "metadata": {},
   "outputs": [],
   "source": []
  }
 ],
 "metadata": {
  "kernelspec": {
   "display_name": "Python 3",
   "language": "python",
   "name": "python3"
  },
  "language_info": {
   "codemirror_mode": {
    "name": "ipython",
    "version": 3
   },
   "file_extension": ".py",
   "mimetype": "text/x-python",
   "name": "python",
   "nbconvert_exporter": "python",
   "pygments_lexer": "ipython3",
   "version": "3.7.9"
  }
 },
 "nbformat": 4,
 "nbformat_minor": 4
}
